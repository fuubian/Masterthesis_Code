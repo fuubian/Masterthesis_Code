{
 "cells": [
  {
   "cell_type": "code",
   "execution_count": 1,
   "id": "25b4d1ce",
   "metadata": {},
   "outputs": [],
   "source": [
    "from pdf2image import convert_from_path\n",
    "import csv\n",
    "import glob\n",
    "import os\n",
    "import shutil"
   ]
  },
  {
   "cell_type": "code",
   "execution_count": 5,
   "id": "de6a09f1",
   "metadata": {},
   "outputs": [],
   "source": [
    "# File and Directory Paths\n",
    "dataset_file = \"extracted_tables/tables.csv\"\n",
    "source_dir = \"source_files/\"\n",
    "source_metadata_file = source_dir + \"papers.csv\"\n",
    "output_dir = \"extracted_tables/table_images/\"\n",
    "  \n",
    "os.makedirs(output_dir, exist_ok=True)"
   ]
  },
  {
   "cell_type": "code",
   "execution_count": 31,
   "id": "22744114",
   "metadata": {},
   "outputs": [],
   "source": [
    "\"\"\"\n",
    "Converting latex code tables to png tables\n",
    "Start - index of the first paper to be used (beginning from 0)\n",
    "End - index of the last paper to be used\n",
    "\"\"\"\n",
    "def extract_data_from_papers(start, end):\n",
    "    csvfile_metadata = open(source_metadata_file, \"r\")\n",
    "    spamreader = csv.reader(csvfile_metadata, delimiter=';', quotechar='\"', quoting=csv.QUOTE_ALL)\n",
    "    \n",
    "    for index, row in enumerate(spamreader):\n",
    "        if index < start:\n",
    "            continue\n",
    "        if index > end:\n",
    "            break\n",
    "            \n",
    "        paper_id = row[0]\n",
    "        paper_path = source_dir + paper_id\n",
    "        print(paper_path)\n",
    "        if os.path.isdir(paper_path):\n",
    "            table_files = [x for x in os.listdir(paper_path) if x.startswith('FR_TAB_')]\n",
    "            print(str(index) + \", \" + paper_id + \": \" + str(len(table_files)) + \" tables\")\n",
    "\n",
    "            for table in table_files:\n",
    "                try:\n",
    "                    # Using pdflatex to generate pdf file\n",
    "                    os.system(f\"pdflatex -interaction=nonstopmode -output-directory={paper_path} {os.path.join(paper_path, table)}\")\n",
    "\n",
    "                    # Converting pdf file to an image\n",
    "                    table = table.replace(\".tex\", \".pdf\")\n",
    "                    images = convert_from_path(os.path.join(paper_path, table))              \n",
    "                    table = table.replace(\".pdf\", \".png\")            \n",
    "                    saved_png_path = os.path.join(paper_path, table)\n",
    "                    table_id = table.replace(\"FR_TAB_\", \"\")\n",
    "                    images[0].save(saved_png_path, \"PNG\")\n",
    "\n",
    "                    # Trimming whitespace\n",
    "                    os.system(f\"magick {saved_png_path} -trim {output_dir + table_id}\")\n",
    "\n",
    "                except Exception as e:\n",
    "                    print(f\"Error Type: {type(e).__name__}\")\n",
    "                    error_message = str(e)[:100]\n",
    "                    print(f\"Error Message: {error_message}\")\n",
    "\n",
    "            table_files = [x for x in os.listdir(paper_path) if x.startswith('FR_TAB_') and x.endswith(\".tex\") == False]\n",
    "            for t_file in table_files:\n",
    "                os.remove(os.path.join(paper_path, t_file))"
   ]
  },
  {
   "cell_type": "code",
   "execution_count": 23,
   "id": "bf3063b8",
   "metadata": {},
   "outputs": [
    {
     "name": "stdout",
     "output_type": "stream",
     "text": [
      "source_files/2312.15124\n",
      "10, 2312.15124: 1 tables\n",
      "source_files/2401.03492\n",
      "11, 2401.03492: 0 tables\n",
      "source_files/2401.03820\n",
      "12, 2401.03820: 0 tables\n",
      "source_files/2401.13246\n",
      "13, 2401.13246: 5 tables\n"
     ]
    },
    {
     "ename": "KeyboardInterrupt",
     "evalue": "",
     "output_type": "error",
     "traceback": [
      "\u001b[1;31m---------------------------------------------------------------------------\u001b[0m",
      "\u001b[1;31mKeyboardInterrupt\u001b[0m                         Traceback (most recent call last)",
      "Cell \u001b[1;32mIn[23], line 1\u001b[0m\n\u001b[1;32m----> 1\u001b[0m \u001b[43mextract_data_from_papers\u001b[49m\u001b[43m(\u001b[49m\u001b[38;5;241;43m10\u001b[39;49m\u001b[43m,\u001b[49m\u001b[43m \u001b[49m\u001b[38;5;241;43m631\u001b[39;49m\u001b[43m)\u001b[49m\n",
      "Cell \u001b[1;32mIn[22], line 26\u001b[0m, in \u001b[0;36mextract_data_from_papers\u001b[1;34m(start, end)\u001b[0m\n\u001b[0;32m     23\u001b[0m \u001b[38;5;28;01mfor\u001b[39;00m table \u001b[38;5;129;01min\u001b[39;00m table_files:\n\u001b[0;32m     24\u001b[0m     \u001b[38;5;28;01mtry\u001b[39;00m:\n\u001b[0;32m     25\u001b[0m         \u001b[38;5;66;03m# Using pdflatex to generate pdf file\u001b[39;00m\n\u001b[1;32m---> 26\u001b[0m         \u001b[43mos\u001b[49m\u001b[38;5;241;43m.\u001b[39;49m\u001b[43msystem\u001b[49m\u001b[43m(\u001b[49m\u001b[38;5;124;43mf\u001b[39;49m\u001b[38;5;124;43m\"\u001b[39;49m\u001b[38;5;124;43mpdflatex -interaction=nonstopmode -output-directory=\u001b[39;49m\u001b[38;5;132;43;01m{\u001b[39;49;00m\u001b[43mpaper_path\u001b[49m\u001b[38;5;132;43;01m}\u001b[39;49;00m\u001b[38;5;124;43m \u001b[39;49m\u001b[38;5;132;43;01m{\u001b[39;49;00m\u001b[43mos\u001b[49m\u001b[38;5;241;43m.\u001b[39;49m\u001b[43mpath\u001b[49m\u001b[38;5;241;43m.\u001b[39;49m\u001b[43mjoin\u001b[49m\u001b[43m(\u001b[49m\u001b[43mpaper_path\u001b[49m\u001b[43m,\u001b[49m\u001b[43m \u001b[49m\u001b[43mtable\u001b[49m\u001b[43m)\u001b[49m\u001b[38;5;132;43;01m}\u001b[39;49;00m\u001b[38;5;124;43m\"\u001b[39;49m\u001b[43m)\u001b[49m\n\u001b[0;32m     28\u001b[0m         \u001b[38;5;66;03m# Converting pdf file to an image\u001b[39;00m\n\u001b[0;32m     29\u001b[0m         table \u001b[38;5;241m=\u001b[39m table\u001b[38;5;241m.\u001b[39mreplace(\u001b[38;5;124m\"\u001b[39m\u001b[38;5;124m.tex\u001b[39m\u001b[38;5;124m\"\u001b[39m, \u001b[38;5;124m\"\u001b[39m\u001b[38;5;124m.pdf\u001b[39m\u001b[38;5;124m\"\u001b[39m)\n",
      "\u001b[1;31mKeyboardInterrupt\u001b[0m: "
     ]
    }
   ],
   "source": [
    "extract_data_from_papers(10, 631)"
   ]
  },
  {
   "cell_type": "code",
   "execution_count": 33,
   "id": "1310b539",
   "metadata": {},
   "outputs": [
    {
     "name": "stdout",
     "output_type": "stream",
     "text": [
      "source_files/2409.18268\n",
      "106, 2409.18268: 1 tables\n",
      "Error Type: PDFPageCountError\n",
      "Error Message: Unable to get page count.\n",
      "I/O Error: Couldn't open file 'source_files/2409.18268\\FR_TAB_2409.18268_T\n"
     ]
    }
   ],
   "source": [
    "extract_data_from_papers(106, 106)"
   ]
  },
  {
   "cell_type": "code",
   "execution_count": null,
   "id": "0faa5a35",
   "metadata": {},
   "outputs": [],
   "source": []
  }
 ],
 "metadata": {
  "kernelspec": {
   "display_name": "Python 3 (ipykernel)",
   "language": "python",
   "name": "python3"
  },
  "language_info": {
   "codemirror_mode": {
    "name": "ipython",
    "version": 3
   },
   "file_extension": ".py",
   "mimetype": "text/x-python",
   "name": "python",
   "nbconvert_exporter": "python",
   "pygments_lexer": "ipython3",
   "version": "3.10.9"
  }
 },
 "nbformat": 4,
 "nbformat_minor": 5
}
