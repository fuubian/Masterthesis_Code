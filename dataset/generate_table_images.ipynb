{
 "cells": [
  {
   "cell_type": "code",
   "execution_count": null,
   "id": "25b4d1ce",
   "metadata": {},
   "outputs": [],
   "source": [
    "from pdf2image import convert_from_path\n",
    "import csv\n",
    "import glob\n",
    "import os\n",
    "import shutil\n",
    "import time\n",
    "import subprocess"
   ]
  },
  {
   "cell_type": "code",
   "execution_count": null,
   "id": "de6a09f1",
   "metadata": {},
   "outputs": [],
   "source": [
    "# File and Directory Paths\n",
    "table_dir = \"extracted_tables/\"\n",
    "table_metadata_file = table_dir + \"tables.csv\"\n",
    "output_dir = table_dir + \"table_images/\"\n",
    "code_table_dir = table_dir + \"table_code/\"\n",
    "\n",
    "MAX_COMPILING_TIME = 90\n",
    "  \n",
    "os.makedirs(output_dir, exist_ok=True)"
   ]
  },
  {
   "cell_type": "code",
   "execution_count": null,
   "id": "36914677",
   "metadata": {},
   "outputs": [],
   "source": [
    "# Returns a list of tables for which there does not exist an image file yet\n",
    "def get_list_of_unprocessed_tables():\n",
    "    # Locate already existing image files\n",
    "    processed_tables = [x.replace(\".png\", \"\") for x in os.listdir(output_dir)]\n",
    "    \n",
    "    # Check for each table of the metadata if an image file exists\n",
    "    table_metadata = open(table_metadata_file, \"r\", newline='', encoding='utf-8')\n",
    "    spamreader = csv.reader(table_metadata, delimiter=';', quotechar='\"', quoting=csv.QUOTE_ALL)\n",
    "    list_unprocessed_papers = [row[0] for row in spamreader if row[0] not in processed_tables]\n",
    "    table_metadata.close()\n",
    "    \n",
    "    return list_unprocessed_papers\n",
    "\n",
    "\n",
    "# Removes a subset of tables from the dataset (including table_image, table_code)\n",
    "def remove_from_dataset(table_subset):\n",
    "    table_code_files = os.listdir(code_table_dir)\n",
    "    \n",
    "    for table in table_subset:\n",
    "        table_code = table + \".tex\"\n",
    "        \n",
    "        if table_code in table_code_files:\n",
    "            os.remove(code_table_dir + table_code)\n",
    "    \n",
    "    # Remove filtered tables from metadata file\n",
    "    with open(table_metadata_file, \"r\", newline='', encoding='utf-8') as input_file:\n",
    "        with open(table_dir + \"tmp.csv\", \"w\", newline='', encoding='utf-8') as output_file:\n",
    "            csv_reader = csv.reader(input_file, delimiter=';', quotechar='|', quoting=csv.QUOTE_MINIMAL)\n",
    "            csv_writer = csv.writer(output_file, delimiter=';', quotechar='|', quoting=csv.QUOTE_MINIMAL)\n",
    "            \n",
    "            # Only writes rows of not deleted tables\n",
    "            for row in csv_reader:\n",
    "                if row[0] not in table_subset:\n",
    "                    csv_writer.writerow(row)\n",
    "                    \n",
    "    # Replace old csv file with new csv file\n",
    "    os.replace(table_dir + \"tmp.csv\", table_metadata_file)\n",
    "    \n",
    "    \n",
    "# Removes compiling files output directory\n",
    "def remove_compiling_files(table_id):\n",
    "    file_endings = [\".aux\", \".pdf\", \".out\", \".log\", \".spl\"]\n",
    "    \n",
    "    for ending in file_endings:\n",
    "        file_path = output_dir + table_id + ending\n",
    "        if os.path.isfile(file_path):\n",
    "            os.remove(file_path)"
   ]
  },
  {
   "cell_type": "code",
   "execution_count": null,
   "id": "22744114",
   "metadata": {},
   "outputs": [],
   "source": [
    "\"\"\"\n",
    "Converting latex code tables to png tables\n",
    "unprocessed_tables - list of table ids where table images have to be generated\n",
    "amount - number of tables that should be processed\n",
    "\"\"\"\n",
    "def generate_table_images(unprocessed_tables, amount):\n",
    "    faulty_tables = []\n",
    "    for i in range(amount):          \n",
    "        table_id = unprocessed_tables[i]\n",
    "        print(table_id)   \n",
    "        table_file = code_table_dir + table_id + \".tex\"\n",
    "        \n",
    "        if os.path.isfile(table_file):\n",
    "            try:\n",
    "                # Using pdflatex to generate pdf file\n",
    "                result = subprocess.run(\n",
    "                    [\"pdflatex\", \"-interaction=nonstopmode\", f\"-output-directory={output_dir}\", table_file],\n",
    "                    capture_output=True,\n",
    "                    text=True,\n",
    "                    timeout=MAX_COMPILING_TIME\n",
    "                )\n",
    "                \n",
    "                # Converting pdf file to an image\n",
    "                pdf_file = output_dir + table_id + \".pdf\"\n",
    "                images = convert_from_path(pdf_file)              \n",
    "                png_file = pdf_file.replace(\".pdf\", \".png\")            \n",
    "                images[0].save(png_file, \"PNG\")\n",
    "\n",
    "                # Trimming whitespace\n",
    "                os.system(f\"magick {png_file} -trim {png_file}\")\n",
    "                \n",
    "                # Remove compiling files (such as .aux and .out)\n",
    "                remove_compiling_files(table_id)\n",
    "\n",
    "            except Exception as e:\n",
    "                faulty_tables.append(table_id)\n",
    "                print(f\"Error Type: {type(e).__name__}\")\n",
    "                \n",
    "                # Remove compiling files (such as .aux and .out)\n",
    "                remove_compiling_files(table_id)\n",
    "        else:\n",
    "            print(f\"{table_file} was not found.\")\n",
    "    \n",
    "    # Removing faulty tables from dataset\n",
    "    remove_from_dataset(faulty_tables)"
   ]
  },
  {
   "cell_type": "code",
   "execution_count": null,
   "id": "bf3063b8",
   "metadata": {},
   "outputs": [],
   "source": [
    "unprocessed_tables = get_list_of_unprocessed_tables()\n",
    "print(f\"Length of unprocessed tables: {len(unprocessed_tables)}\")"
   ]
  },
  {
   "cell_type": "code",
   "execution_count": null,
   "id": "0faa5a35",
   "metadata": {},
   "outputs": [],
   "source": [
    "# Set number of tables for which an image shall be created\n",
    "number_of_tables_to_process = 10\n",
    "\n",
    "# Generate table images\n",
    "generate_table_images(unprocessed_tables, number_of_tables_to_process)"
   ]
  },
  {
   "cell_type": "code",
   "execution_count": null,
   "id": "4124f800",
   "metadata": {},
   "outputs": [],
   "source": [
    "for txt_file in os.listdir(code_table_dir):\n",
    "    tex_file = txt_file.replace(\".txt\", \".tex\")\n",
    "    os.rename(code_table_dir + txt_file, code_table_dir + tex_file)\n",
    "    \n",
    "print(\"All tables converted to tex files.\")"
   ]
  },
  {
   "cell_type": "code",
   "execution_count": null,
   "id": "95abf81c",
   "metadata": {},
   "outputs": [],
   "source": []
  }
 ],
 "metadata": {
  "kernelspec": {
   "display_name": "Python 3 (ipykernel)",
   "language": "python",
   "name": "python3"
  },
  "language_info": {
   "codemirror_mode": {
    "name": "ipython",
    "version": 3
   },
   "file_extension": ".py",
   "mimetype": "text/x-python",
   "name": "python",
   "nbconvert_exporter": "python",
   "pygments_lexer": "ipython3",
   "version": "3.10.9"
  }
 },
 "nbformat": 4,
 "nbformat_minor": 5
}
