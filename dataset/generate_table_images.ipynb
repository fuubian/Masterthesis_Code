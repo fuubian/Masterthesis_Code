{
 "cells": [
  {
   "cell_type": "code",
   "execution_count": 5,
   "id": "25b4d1ce",
   "metadata": {},
   "outputs": [],
   "source": [
    "import csv\n",
    "import os"
   ]
  },
  {
   "cell_type": "code",
   "execution_count": 7,
   "id": "22744114",
   "metadata": {},
   "outputs": [],
   "source": [
    "# Variables\n",
    "dataset_file = \"extracted_tables/tables_regex.csv\"\n",
    "table_dir = \"extracted_tables/table_code/\"\n",
    "header_dir = \"extracted_tables/table_header/\"\n",
    "output_dir = \"extracted_tables/table_images/\"\n",
    "\n",
    "with open(dataset_file, newline='') as csvfile:\n",
    "    spamreader = csv.reader(csvfile, delimiter=';', quotechar='\"')\n",
    "    for row in spamreader:\n",
    "        table_id = row[0]\n",
    "        paper_id = row[1]\n",
    "    \n",
    "        with open(table_dir + table_id + \".txt\", \"r\") as file_table:\n",
    "            table = file_table.read()\n",
    "        \n",
    "        with open(header_dir + paper_id + \".txt\", \"r\") as file_header:\n",
    "            header = file_header.read()\n",
    "        \n",
    "        tex_code = header + \"\\n\" + table + \"\\n\\end{document}\"\n",
    "        #print(tex_code)\n",
    "        code_path = output_dir + \"table.tex\"\n",
    "        with open(code_path, \"w\") as file_code:\n",
    "            file_code.write(tex_code)\n",
    "        os.system(f\"pdflatex -interaction=nonstopmode {code_path}\")\n",
    "        #os.remove(code_path)\n",
    "    \n",
    "        break"
   ]
  },
  {
   "cell_type": "code",
   "execution_count": null,
   "id": "33584567",
   "metadata": {},
   "outputs": [],
   "source": []
  }
 ],
 "metadata": {
  "kernelspec": {
   "display_name": "Python 3 (ipykernel)",
   "language": "python",
   "name": "python3"
  },
  "language_info": {
   "codemirror_mode": {
    "name": "ipython",
    "version": 3
   },
   "file_extension": ".py",
   "mimetype": "text/x-python",
   "name": "python",
   "nbconvert_exporter": "python",
   "pygments_lexer": "ipython3",
   "version": "3.10.9"
  }
 },
 "nbformat": 4,
 "nbformat_minor": 5
}
