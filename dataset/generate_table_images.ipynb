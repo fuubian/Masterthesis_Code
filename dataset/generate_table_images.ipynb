{
 "cells": [
  {
   "cell_type": "code",
   "execution_count": 1,
   "id": "25b4d1ce",
   "metadata": {},
   "outputs": [],
   "source": [
    "from pdf2image import convert_from_path\n",
    "import csv\n",
    "import camelot\n",
    "import os"
   ]
  },
  {
   "cell_type": "code",
   "execution_count": 2,
   "id": "de6a09f1",
   "metadata": {},
   "outputs": [],
   "source": [
    "# Variables\n",
    "dataset_file = \"extracted_tables/tables_regex.csv\"\n",
    "table_dir = \"extracted_tables/table_code/\"\n",
    "header_dir = \"extracted_tables/table_header/\"\n",
    "output_dir = \"extracted_tables/table_images/\"\n",
    "\n",
    "if os.path.isdir(table_dir) == False:\n",
    "    os.mkdir(table_dir)\n",
    "\n",
    "if os.path.isdir(header_dir) == False:\n",
    "    os.mkdir(header_dir)\n",
    "    \n",
    "if os.path.isdir(output_dir) == False:\n",
    "    os.mkdir(output_dir)"
   ]
  },
  {
   "cell_type": "code",
   "execution_count": null,
   "id": "22744114",
   "metadata": {},
   "outputs": [],
   "source": [
    "with open(dataset_file, newline='') as csvfile:\n",
    "    spamreader = csv.reader(csvfile, delimiter=';', quotechar='\"')\n",
    "    for row in spamreader:\n",
    "        table_id = row[0]\n",
    "        paper_id = row[1]\n",
    "    \n",
    "        with open(table_dir + table_id + \".txt\", \"r\") as file_table:\n",
    "            table = file_table.read()\n",
    "        \n",
    "        with open(header_dir + paper_id + \".txt\", \"r\") as file_header:\n",
    "            header = file_header.read()\n",
    "        \n",
    "        tex_code = header + \"\\n\" + table + \"\\n\\end{document}\"\n",
    "        #print(tex_code)\n",
    "        code_path = output_dir + \"table.tex\"\n",
    "        with open(code_path, \"w\") as file_code:\n",
    "            file_code.write(tex_code)\n",
    "        os.system(f\"pdflatex -interaction=nonstopmode -output-directory={output_dir} {code_path}\")\n",
    "        #os.system(f\"pdflatex -interaction=nonstopmode -output-directory={output_dir} {code_path}\")\n",
    "        images = convert_from_path(output_dir + \"table.pdf\")\n",
    "        images[0].save(output_dir + table_id + \".png\", \"PNG\")\n",
    "        #os.remove(code_path)\n",
    "    \n",
    "        break"
   ]
  },
  {
   "cell_type": "code",
   "execution_count": 6,
   "id": "2ac4a77a",
   "metadata": {},
   "outputs": [
    {
     "name": "stdout",
     "output_type": "stream",
     "text": [
      "Total tables extracted: 0\n"
     ]
    },
    {
     "ename": "IndexError",
     "evalue": "list index out of range",
     "output_type": "error",
     "traceback": [
      "\u001b[1;31m---------------------------------------------------------------------------\u001b[0m",
      "\u001b[1;31mIndexError\u001b[0m                                Traceback (most recent call last)",
      "Cell \u001b[1;32mIn[6], line 3\u001b[0m\n\u001b[0;32m      1\u001b[0m tables \u001b[38;5;241m=\u001b[39m camelot\u001b[38;5;241m.\u001b[39mread_pdf(output_dir \u001b[38;5;241m+\u001b[39m \u001b[38;5;124m\"\u001b[39m\u001b[38;5;124mtable.pdf\u001b[39m\u001b[38;5;124m\"\u001b[39m)\n\u001b[0;32m      2\u001b[0m \u001b[38;5;28mprint\u001b[39m(\u001b[38;5;124m\"\u001b[39m\u001b[38;5;124mTotal tables extracted:\u001b[39m\u001b[38;5;124m\"\u001b[39m, tables\u001b[38;5;241m.\u001b[39mn)\n\u001b[1;32m----> 3\u001b[0m \u001b[38;5;28mprint\u001b[39m(\u001b[43mtables\u001b[49m\u001b[43m[\u001b[49m\u001b[38;5;241;43m0\u001b[39;49m\u001b[43m]\u001b[49m\u001b[38;5;241m.\u001b[39mdf)\n",
      "File \u001b[1;32m~\\anaconda3\\lib\\site-packages\\camelot\\core.py:674\u001b[0m, in \u001b[0;36mTableList.__getitem__\u001b[1;34m(self, idx)\u001b[0m\n\u001b[0;32m    673\u001b[0m \u001b[38;5;28;01mdef\u001b[39;00m \u001b[38;5;21m__getitem__\u001b[39m(\u001b[38;5;28mself\u001b[39m, idx):\n\u001b[1;32m--> 674\u001b[0m     \u001b[38;5;28;01mreturn\u001b[39;00m \u001b[38;5;28;43mself\u001b[39;49m\u001b[38;5;241;43m.\u001b[39;49m\u001b[43m_tables\u001b[49m\u001b[43m[\u001b[49m\u001b[43midx\u001b[49m\u001b[43m]\u001b[49m\n",
      "\u001b[1;31mIndexError\u001b[0m: list index out of range"
     ]
    }
   ],
   "source": [
    "tables = camelot.read_pdf(output_dir + \"table.pdf\")\n",
    "print(\"Total tables extracted:\", tables.n)\n",
    "print(tables[0].df)"
   ]
  },
  {
   "cell_type": "code",
   "execution_count": null,
   "id": "bf3063b8",
   "metadata": {},
   "outputs": [],
   "source": []
  }
 ],
 "metadata": {
  "kernelspec": {
   "display_name": "Python 3 (ipykernel)",
   "language": "python",
   "name": "python3"
  },
  "language_info": {
   "codemirror_mode": {
    "name": "ipython",
    "version": 3
   },
   "file_extension": ".py",
   "mimetype": "text/x-python",
   "name": "python",
   "nbconvert_exporter": "python",
   "pygments_lexer": "ipython3",
   "version": "3.10.9"
  }
 },
 "nbformat": 4,
 "nbformat_minor": 5
}
