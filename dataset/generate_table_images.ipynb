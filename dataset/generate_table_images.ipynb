{
 "cells": [
  {
   "cell_type": "code",
   "execution_count": 8,
   "id": "25b4d1ce",
   "metadata": {},
   "outputs": [],
   "source": [
    "from pdf2image import convert_from_path\n",
    "import csv\n",
    "import glob\n",
    "import os"
   ]
  },
  {
   "cell_type": "code",
   "execution_count": 2,
   "id": "de6a09f1",
   "metadata": {},
   "outputs": [],
   "source": [
    "# File and Directory Paths\n",
    "dataset_file = \"extracted_tables/tables_regex.csv\"\n",
    "table_dir = \"extracted_tables/table_code/\"\n",
    "header_dir = \"extracted_tables/table_header/\"\n",
    "output_dir = \"extracted_tables/table_images/\"\n",
    "\n",
    "if os.path.isdir(table_dir) == False:\n",
    "    os.mkdir(table_dir)\n",
    "\n",
    "if os.path.isdir(header_dir) == False:\n",
    "    os.mkdir(header_dir)\n",
    "    \n",
    "if os.path.isdir(output_dir) == False:\n",
    "    os.mkdir(output_dir)"
   ]
  },
  {
   "cell_type": "code",
   "execution_count": 12,
   "id": "22744114",
   "metadata": {},
   "outputs": [],
   "source": [
    "# Directory for temporary latex files\n",
    "if os.path.isdir(output_dir + \"tmp/\") == False:\n",
    "    os.mkdir(output_dir + \"tmp/\")\n",
    "\n",
    "with open(dataset_file, newline='') as csvfile:\n",
    "    spamreader = csv.reader(csvfile, delimiter=';', quotechar='\"')\n",
    "    for row in spamreader:\n",
    "        table_id = row[0]\n",
    "        paper_id = row[1]\n",
    "    \n",
    "        # Getting the table code\n",
    "        with open(table_dir + table_id + \".txt\", \"r\") as file_table:\n",
    "            table = file_table.read()\n",
    "        \n",
    "        # Getting the paper header code\n",
    "        with open(header_dir + paper_id + \".txt\", \"r\") as file_header:\n",
    "            header = file_header.read()\n",
    "        \n",
    "        # Joining header and table\n",
    "        tex_code = header + \"\\n\\pagenumbering{gobble}\\n\" + table + \"\\n\\end{document}\"\n",
    "        \n",
    "        # Storing latex code in tex file\n",
    "        code_path = output_dir + \"tmp/table.tex\"        \n",
    "        with open(code_path, \"w\") as file_code:\n",
    "            file_code.write(tex_code)\n",
    "            \n",
    "        # Using pdflatex to generate pdf file\n",
    "        os.system(f\"pdflatex -interaction=nonstopmode -output-directory={output_dir}tmp/ {code_path}\")\n",
    "        \n",
    "        # Converting pdf file to an image and trimming whitespace\n",
    "        images = convert_from_path(output_dir + \"tmp/table.pdf\")\n",
    "        images[0].save(output_dir + \"tmp/table.png\", \"PNG\")    \n",
    "        os.system(f\"magick {output_dir}tmp/table.png -trim {output_dir + table_id}.png\")\n",
    "        \n",
    "        # Deleting temporary latex files\n",
    "        files = glob.glob(output_dir + \"tmp/*\")\n",
    "        for f in files:\n",
    "            os.remove(f)\n",
    "        \n",
    "if os.path.isdir(output_dir + \"tmp/\"):\n",
    "    os.rmdir(output_dir + \"tmp/\")"
   ]
  },
  {
   "cell_type": "code",
   "execution_count": null,
   "id": "bf3063b8",
   "metadata": {},
   "outputs": [],
   "source": []
  }
 ],
 "metadata": {
  "kernelspec": {
   "display_name": "Python 3 (ipykernel)",
   "language": "python",
   "name": "python3"
  },
  "language_info": {
   "codemirror_mode": {
    "name": "ipython",
    "version": 3
   },
   "file_extension": ".py",
   "mimetype": "text/x-python",
   "name": "python",
   "nbconvert_exporter": "python",
   "pygments_lexer": "ipython3",
   "version": "3.10.9"
  }
 },
 "nbformat": 4,
 "nbformat_minor": 5
}
