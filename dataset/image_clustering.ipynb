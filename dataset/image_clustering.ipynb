{
 "cells": [
  {
   "cell_type": "code",
   "execution_count": 8,
   "id": "079f44d9-7d29-45d2-bcd8-6bd42e02e261",
   "metadata": {},
   "outputs": [],
   "source": [
    "import cv2\n",
    "import numpy as np\n",
    "import os\n",
    "import torch\n",
    "import torchvision.models as models\n",
    "import torchvision.transforms as transforms\n",
    "from torch.autograd import Variable\n",
    "from sklearn.preprocessing import StandardScaler\n",
    "from PIL import Image\n",
    "from sklearn.cluster import KMeans"
   ]
  },
  {
   "cell_type": "code",
   "execution_count": 9,
   "id": "90169e51-3a35-48a1-9544-13a25b0770d7",
   "metadata": {},
   "outputs": [],
   "source": [
    "image_dir = \"figure_data/\""
   ]
  },
  {
   "cell_type": "code",
   "execution_count": 10,
   "id": "435700f3-e6e4-42ef-8ed0-9ae102038b7e",
   "metadata": {},
   "outputs": [],
   "source": [
    "# Preprocessing images\n",
    "preprocess = transforms.Compose([\n",
    "    transforms.ToTensor(),\n",
    "    transforms.Normalize(mean=[0.485, 0.456, 0.406], std=[0.229, 0.224, 0.225])\n",
    "])"
   ]
  },
  {
   "cell_type": "code",
   "execution_count": 19,
   "id": "38a7238b-ceae-4a34-a1aa-4c3a911e7f46",
   "metadata": {},
   "outputs": [],
   "source": [
    "def load_images(image_folder):\n",
    "    file_names = []\n",
    "    images = []\n",
    "    for file in os.listdir(image_folder):\n",
    "        if file.endswith(\".png\"):\n",
    "            with Image.open(image_dir + file).convert(\"RGB\") as img:\n",
    "                img = img.resize((224,224))\n",
    "                images.append(img)\n",
    "                file_names.append(file)\n",
    "    return np.array(images), file_names\n",
    "\n",
    "def extract_features(images, model):  \n",
    "    features = []\n",
    "    for img in images:\n",
    "        img_tensor = preprocess(img).unsqueeze(0)\n",
    "        \n",
    "        with torch.no_grad():\n",
    "            feature = model(img_tensor)\n",
    "            features.append(feature.numpy().flatten())\n",
    "\n",
    "    return np.array(features)"
   ]
  },
  {
   "cell_type": "code",
   "execution_count": 20,
   "id": "3b4d6189-4054-4ecd-a3b3-489a0da5e05e",
   "metadata": {},
   "outputs": [],
   "source": [
    "# Extracting the features\n",
    "model = models.resnet50(pretrained=True)\n",
    "model.eval()\n",
    "\n",
    "#images, file_names = load_images(image_dir)\n",
    "features = extract_features(images, model)\n",
    "\n",
    "scaler = StandardScaler()\n",
    "features_scaled = scaler.fit_transform(features)"
   ]
  },
  {
   "cell_type": "code",
   "execution_count": 23,
   "id": "e715151f-d9e9-4c5b-89bc-d459c2ff1675",
   "metadata": {},
   "outputs": [
    {
     "name": "stdout",
     "output_type": "stream",
     "text": [
      "\n",
      "Cluster 0:\n",
      "  2409.09882_FIG_2.png\n",
      "  2409.08245_FIG_2.png\n",
      "  2409.07913_FIG_2.png\n",
      "  2409.09727_FIG_4.png\n",
      "  2409.08161_FIG_3.png\n",
      "\n",
      "Cluster 1:\n",
      "  2409.11104_FIG_3.png\n",
      "  2409.08027_FIG_4.png\n",
      "  2409.09678_FIG_1.png\n",
      "  2409.07723_FIG_2.png\n",
      "  2409.07775_FIG_1.png\n",
      "\n",
      "Cluster 2:\n",
      "  2409.09882_FIG_5.png\n",
      "  2409.08351_FIG_3.png\n",
      "  2409.09285_FIG_2.png\n",
      "  2409.09285_FIG_1.png\n",
      "  2409.08946_FIG_6.png\n"
     ]
    }
   ],
   "source": [
    "# Applying K-means clustering\n",
    "num_clusters = 3\n",
    "kmeans = KMeans(n_clusters=num_clusters, random_state=42)\n",
    "kmeans.fit(features_scaled)\n",
    "labels = kmeans.labels_\n",
    "\n",
    "for cluster_id in range(num_clusters):\n",
    "    print(f\"\\nCluster {cluster_id}:\")\n",
    "    cluster_indices = np.where(labels == cluster_id)[0]\n",
    "\n",
    "    counter = 0\n",
    "    for idx in cluster_indices:\n",
    "        print(f\"  {file_names[idx]}\")\n",
    "        counter += 1\n",
    "        if counter == 5:\n",
    "            break"
   ]
  },
  {
   "cell_type": "code",
   "execution_count": null,
   "id": "2557c2e6-df36-4f61-94af-f4c2c390c331",
   "metadata": {},
   "outputs": [],
   "source": []
  }
 ],
 "metadata": {
  "kernelspec": {
   "display_name": "Python 3 (ipykernel)",
   "language": "python",
   "name": "python3"
  },
  "language_info": {
   "codemirror_mode": {
    "name": "ipython",
    "version": 3
   },
   "file_extension": ".py",
   "mimetype": "text/x-python",
   "name": "python",
   "nbconvert_exporter": "python",
   "pygments_lexer": "ipython3",
   "version": "3.12.3"
  }
 },
 "nbformat": 4,
 "nbformat_minor": 5
}
