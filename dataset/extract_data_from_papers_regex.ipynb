{
 "cells": [
  {
   "cell_type": "code",
   "execution_count": 6,
   "id": "9327b72d",
   "metadata": {
    "ExecuteTime": {
     "end_time": "2024-10-30T18:16:12.592147Z",
     "start_time": "2024-10-30T18:16:12.588652Z"
    }
   },
   "outputs": [],
   "source": [
    "import os\n",
    "import re\n",
    "import csv\n",
    "import uuid\n",
    "import glob\n",
    "import shutil"
   ]
  },
  {
   "cell_type": "code",
   "execution_count": 16,
   "id": "f98dc722",
   "metadata": {
    "ExecuteTime": {
     "end_time": "2024-10-30T18:16:15.013821Z",
     "start_time": "2024-10-30T18:16:15.009440Z"
    }
   },
   "outputs": [],
   "source": [
    "# Variables\n",
    "source_dir = \"source_files/\"\n",
    "source_metadata_file = source_dir + \"papers.csv\"\n",
    "\n",
    "table_output_dir = \"extracted_tables/\"\n",
    "table_code_dir = table_output_dir + \"table_code/\"\n",
    "table_result_file = table_output_dir + \"tables.csv\"\n",
    "\n",
    "figure_output_dir = \"extracted_figures/\"\n",
    "figure_result_file = figure_output_dir + \"figures.csv\"\n",
    "\n",
    "possible_extensions = [\".pdf\", \".png\", \".jpg\", \".jpeg\", \".eps\"]\n",
    "\n",
    "os.makedirs(table_output_dir, exist_ok=True)\n",
    "os.makedirs(table_code_dir, exist_ok=True)\n",
    "os.makedirs(figure_output_dir, exist_ok=True)\n",
    "\n",
    "if os.path.isfile(table_result_file) == False:\n",
    "    open(table_result_file, \"w\").close()\n",
    "    \n",
    "if os.path.isfile(figure_result_file) == False:\n",
    "    open(figure_result_file, \"w\").close()"
   ]
  },
  {
   "cell_type": "code",
   "execution_count": 35,
   "id": "9bf3937e",
   "metadata": {
    "ExecuteTime": {
     "end_time": "2024-10-30T18:16:17.037975Z",
     "start_time": "2024-10-30T18:16:16.989352Z"
    }
   },
   "outputs": [
    {
     "ename": "PermissionError",
     "evalue": "[WinError 32] Der Prozess kann nicht auf die Datei zugreifen, da sie von einem anderen Prozess verwendet wird: 'extracted_figures\\\\figures.csv'",
     "output_type": "error",
     "traceback": [
      "\u001b[1;31m---------------------------------------------------------------------------\u001b[0m",
      "\u001b[1;31mPermissionError\u001b[0m                           Traceback (most recent call last)",
      "Cell \u001b[1;32mIn[35], line 9\u001b[0m\n\u001b[0;32m      7\u001b[0m files \u001b[38;5;241m=\u001b[39m glob\u001b[38;5;241m.\u001b[39mglob(figure_output_dir \u001b[38;5;241m+\u001b[39m \u001b[38;5;124m\"\u001b[39m\u001b[38;5;124m*\u001b[39m\u001b[38;5;124m\"\u001b[39m)\n\u001b[0;32m      8\u001b[0m \u001b[38;5;28;01mfor\u001b[39;00m f \u001b[38;5;129;01min\u001b[39;00m files:\n\u001b[1;32m----> 9\u001b[0m     \u001b[43mos\u001b[49m\u001b[38;5;241;43m.\u001b[39;49m\u001b[43mremove\u001b[49m\u001b[43m(\u001b[49m\u001b[43mf\u001b[49m\u001b[43m)\u001b[49m\n\u001b[0;32m     10\u001b[0m \u001b[38;5;28mopen\u001b[39m(figure_result_file, \u001b[38;5;124m\"\u001b[39m\u001b[38;5;124mw\u001b[39m\u001b[38;5;124m\"\u001b[39m)\u001b[38;5;241m.\u001b[39mclose()\n\u001b[0;32m     12\u001b[0m \u001b[38;5;28;01mif\u001b[39;00m os\u001b[38;5;241m.\u001b[39mpath\u001b[38;5;241m.\u001b[39misfile(table_result_file):\n",
      "\u001b[1;31mPermissionError\u001b[0m: [WinError 32] Der Prozess kann nicht auf die Datei zugreifen, da sie von einem anderen Prozess verwendet wird: 'extracted_figures\\\\figures.csv'"
     ]
    }
   ],
   "source": [
    "# Reset directories and csv files\n",
    "# WARNING: This deletes all collected tables and figures\n",
    "files = glob.glob(table_code_dir + \"*\")\n",
    "for f in files:\n",
    "    os.remove(f)\n",
    "    \n",
    "files = glob.glob(figure_output_dir + \"*\")\n",
    "for f in files:\n",
    "    os.remove(f)\n",
    "open(figure_result_file, \"w\").close()\n",
    "\n",
    "if os.path.isfile(table_result_file):\n",
    "    os.remove(table_result_file)\n",
    "    open(table_result_file, \"w\").close()"
   ]
  },
  {
   "cell_type": "code",
   "execution_count": 33,
   "id": "d9e88978",
   "metadata": {
    "ExecuteTime": {
     "end_time": "2024-10-30T18:23:10.605702500Z",
     "start_time": "2024-10-30T18:16:19.958294Z"
    }
   },
   "outputs": [],
   "source": [
    "\"\"\"\n",
    "Extracting tables and figures from the downloaded papers in the source directory\n",
    "Start - index of the first paper to be used (beginning from 0)\n",
    "End - index of the last paper to be used\n",
    "\"\"\"\n",
    "def extract_data_from_papers(start, end):\n",
    "    csvfile_table = open(table_result_file, 'a', newline='', encoding=\"utf-8\")\n",
    "    csvfile_figure = open(figure_result_file, 'a', newline='', encoding=\"utf-8\")\n",
    "    csvfile_metadata = open(source_metadata_file, \"r\")\n",
    "\n",
    "    spamreader = csv.reader(csvfile_metadata, delimiter=';', quotechar='\"', quoting=csv.QUOTE_ALL)\n",
    "\n",
    "    for index, row in enumerate(spamreader):\n",
    "        if index < start:\n",
    "            continue\n",
    "        if index > end:\n",
    "            break\n",
    "        \n",
    "        paper_path = source_dir + row[0]\n",
    "        if os.path.isdir(paper_path):\n",
    "            print(\"\\n\\n\" + row[0])\n",
    "            tex_files = [os.path.join(root, file)\n",
    "                 for root, dirs, files in os.walk(paper_path)\n",
    "                 for file in files if file.endswith('.tex')]\n",
    "            print(tex_files)\n",
    "\n",
    "            complete_tex = \"\"\n",
    "            for file in tex_files:\n",
    "                try:\n",
    "                    f = open(file, \"r\", encoding=\"utf8\")\n",
    "                    complete_tex += f.read()\n",
    "                    f.close()\n",
    "                except UnicodeDecodeError as e:\n",
    "                    print(\"UnicodeDecodeError occurred. File could not be loaded.\")\n",
    "                    continue\n",
    "\n",
    "            found_document_header = re.search(r\"\\\\documentclass\\[.*?\\\\begin\\{document\\}\", complete_tex, re.DOTALL)\n",
    "            if found_document_header is None:\n",
    "                print(\"Document header could not be identified.\")\n",
    "                continue\n",
    "\n",
    "            found_tables = re.findall(r\"\\\\begin\\{table\\*?\\}.*?\\\\end\\{table\\*?\\}\", complete_tex, re.DOTALL)\n",
    "            found_figures = re.findall(r\"\\\\begin\\{figure\\*?\\}.*?\\\\end\\{figure\\*?\\}\", complete_tex, re.DOTALL)\n",
    "\n",
    "            for table in found_tables:\n",
    "                #r\"\\\\caption\\{(.*?)}\"\n",
    "                #caption_match = re.search(r\"\\\\caption\\{(([^{}]*(\\{[^{}]*\\})?[^{}]*)+)\\}\", table)\n",
    "\n",
    "                \"\"\"\n",
    "                label_match = re.search(r\"\\\\label\\{(.*?)\\}\", table)\n",
    "                if label_match:\n",
    "                    found_label = label_match.group(1)\n",
    "                    print(found_label)\n",
    "                    found_paragraphs = re.findall(fr\".*\\\\ref\\{{{re.escape(found_label)}}}.*\", complete_tex)\n",
    "                    for paragraph in found_paragraphs:\n",
    "                        print(paragraph)\n",
    "                \"\"\"\n",
    "\n",
    "                caption_match = re.search(r\"\\\\caption\\{(.*?)}\", table)        \n",
    "                if caption_match:\n",
    "                    found_caption = caption_match.group(1)\n",
    "                    table_id = str(uuid.uuid4())\n",
    "\n",
    "                    # Store meta information in csv file\n",
    "                    csvfile_table.write(table_id + \";\" + row[0] + \";https://arxiv.org/abs/\" + row[0] + \";\" + found_caption + \"\\n\")\n",
    "\n",
    "                    # Store as txt file in own data collection\n",
    "                    table_file_path = table_code_dir + table_id + \".txt\"\n",
    "                    f = open(table_file_path, \"w\", encoding=\"utf-8\")\n",
    "                    f.write(table)\n",
    "                    f.close()\n",
    "\n",
    "                    # Store as tex file in folder of paper\n",
    "                    table_file_path = paper_path + \"/FR_TAB_\" + table_id + \".tex\"\n",
    "                    table_tex_code = found_document_header.group(0) + \"\\n\\pagenumbering{gobble}\\n\" + table + \"\\n\\end{document}\"\n",
    "                    f = open(table_file_path, \"w\", encoding=\"utf-8\")\n",
    "                    f.write(table_tex_code)\n",
    "                    f.close()\n",
    "\n",
    "            for figure in found_figures:\n",
    "                found_graphics = re.findall(r\"\\\\includegraphics(\\[.*?\\])*\\{(.*?)\\}\", figure)\n",
    "                #caption_match = re.search(r\"\\\\caption\\{(([^{}]*(\\{[^{}]*\\})?[^{}]*)+)\\}\", figure)\n",
    "                caption_match = re.search(r\"\\\\caption\\{(.*?)}\", figure)\n",
    "                if caption_match:\n",
    "                    found_caption = caption_match.group(1)\n",
    "                    for graphic in found_graphics:\n",
    "                        figure_id = str(uuid.uuid4())\n",
    "\n",
    "                        graphic_path = graphic[1]\n",
    "                        file_type = os.path.splitext(graphic_path)[-1]\n",
    "                        if os.path.isfile(paper_path+\"/\"+graphic_path):\n",
    "                            graphic_path = paper_path+\"/\"+graphic_path\n",
    "                        else:\n",
    "                            for ext in possible_extensions:\n",
    "                                possible_path = paper_path+\"/\"+graphic_path + ext\n",
    "                                if os.path.isfile(possible_path):\n",
    "                                    graphic_path = possible_path\n",
    "                                    break\n",
    "\n",
    "                        try:\n",
    "                            shutil.copy(graphic_path, figure_output_dir+figure_id+file_type)\n",
    "                            csvfile_figure.write(figure_id + \";\" + row[0] + \";https://arxiv.org/abs/\" + row[0] + \";\" + found_caption + \"\\n\")\n",
    "                        except FileNotFoundError as e:\n",
    "                            print(f\"File not found: {graphic_path} - {e}\")\n",
    "                        except Exception as e:\n",
    "                            print(f\"An error occurred: {e}\")\n",
    "\n",
    "            print(f\"{len(found_tables)} tables found.\")\n",
    "            print(f\"{len(found_figures)} figures found.\")\n",
    "\n",
    "    csvfile_table.close()\n",
    "    csvfile_figure.close()\n",
    "    csvfile_metadata.close()"
   ]
  },
  {
   "cell_type": "code",
   "execution_count": 34,
   "id": "ee96bf1b",
   "metadata": {},
   "outputs": [
    {
     "name": "stdout",
     "output_type": "stream",
     "text": [
      "\n",
      "\n",
      "2305.01851\n",
      "['source_files/2305.01851\\\\arXiv.tex']\n",
      "Document header could not be identified.\n"
     ]
    }
   ],
   "source": [
    "extract_data_from_papers(7,7)"
   ]
  },
  {
   "cell_type": "code",
   "execution_count": null,
   "id": "f53cb565",
   "metadata": {},
   "outputs": [],
   "source": []
  }
 ],
 "metadata": {
  "kernelspec": {
   "display_name": "Python 3 (ipykernel)",
   "language": "python",
   "name": "python3"
  },
  "language_info": {
   "codemirror_mode": {
    "name": "ipython",
    "version": 3
   },
   "file_extension": ".py",
   "mimetype": "text/x-python",
   "name": "python",
   "nbconvert_exporter": "python",
   "pygments_lexer": "ipython3",
   "version": "3.10.9"
  }
 },
 "nbformat": 4,
 "nbformat_minor": 5
}
