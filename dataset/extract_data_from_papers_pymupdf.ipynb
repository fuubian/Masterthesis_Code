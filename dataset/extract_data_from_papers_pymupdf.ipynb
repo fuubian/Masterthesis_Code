{
 "cells": [
  {
   "cell_type": "code",
   "execution_count": 6,
   "id": "8932ad0a",
   "metadata": {},
   "outputs": [
    {
     "name": "stdout",
     "output_type": "stream",
     "text": [
      "Collecting pymupdf\n",
      "  Downloading PyMuPDF-1.24.12-cp39-abi3-win_amd64.whl (16.0 MB)\n",
      "     ---------------------------------------- 16.0/16.0 MB 3.2 MB/s eta 0:00:00\n",
      "Installing collected packages: pymupdf\n",
      "Successfully installed pymupdf-1.24.12\n"
     ]
    }
   ],
   "source": [
    "!pip install pymupdf"
   ]
  },
  {
   "cell_type": "code",
   "execution_count": 7,
   "id": "b68bff2b",
   "metadata": {},
   "outputs": [],
   "source": [
    "import os\n",
    "import re\n",
    "import csv\n",
    "import pymupdf"
   ]
  },
  {
   "cell_type": "code",
   "execution_count": 16,
   "id": "9f1a9aa2",
   "metadata": {
    "scrolled": true
   },
   "outputs": [
    {
     "name": "stdout",
     "output_type": "stream",
     "text": [
      "PaliGemma A versatile 3B VLM for transfer.pdf\n",
      "Extracted image 0 from page 0 to extracted_images/PaliGemma A versatile 3B VLM for transfer_image_0_0.png\n",
      "Extracted image 0 from page 1 to extracted_images/PaliGemma A versatile 3B VLM for transfer_image_1_0.jpeg\n",
      "Extracted image 0 from page 28 to extracted_images/PaliGemma A versatile 3B VLM for transfer_image_28_0.jpeg\n",
      "Extracted image 1 from page 28 to extracted_images/PaliGemma A versatile 3B VLM for transfer_image_28_1.jpeg\n",
      "Extracted image 2 from page 28 to extracted_images/PaliGemma A versatile 3B VLM for transfer_image_28_2.jpeg\n",
      "Extracted image 3 from page 28 to extracted_images/PaliGemma A versatile 3B VLM for transfer_image_28_3.jpeg\n",
      "Extracted image 4 from page 28 to extracted_images/PaliGemma A versatile 3B VLM for transfer_image_28_4.png\n",
      "Extracted image 0 from page 29 to extracted_images/PaliGemma A versatile 3B VLM for transfer_image_29_0.png\n",
      "Extracted image 1 from page 29 to extracted_images/PaliGemma A versatile 3B VLM for transfer_image_29_1.jpeg\n",
      "Extracted image 2 from page 29 to extracted_images/PaliGemma A versatile 3B VLM for transfer_image_29_2.jpeg\n",
      "Extracted image 3 from page 29 to extracted_images/PaliGemma A versatile 3B VLM for transfer_image_29_3.jpeg\n",
      "Extracted image 0 from page 30 to extracted_images/PaliGemma A versatile 3B VLM for transfer_image_30_0.jpeg\n",
      "Extracted image 1 from page 30 to extracted_images/PaliGemma A versatile 3B VLM for transfer_image_30_1.jpeg\n",
      "Extracted image 2 from page 30 to extracted_images/PaliGemma A versatile 3B VLM for transfer_image_30_2.jpeg\n",
      "Extracted image 3 from page 30 to extracted_images/PaliGemma A versatile 3B VLM for transfer_image_30_3.jpeg\n",
      "Extracted image 0 from page 31 to extracted_images/PaliGemma A versatile 3B VLM for transfer_image_31_0.jpeg\n",
      "Extracted image 1 from page 31 to extracted_images/PaliGemma A versatile 3B VLM for transfer_image_31_1.jpeg\n",
      "Extracted image 2 from page 31 to extracted_images/PaliGemma A versatile 3B VLM for transfer_image_31_2.jpeg\n",
      "Extracted image 3 from page 31 to extracted_images/PaliGemma A versatile 3B VLM for transfer_image_31_3.jpeg\n",
      "Extracted image 4 from page 31 to extracted_images/PaliGemma A versatile 3B VLM for transfer_image_31_4.jpeg\n",
      "Extracted image 0 from page 32 to extracted_images/PaliGemma A versatile 3B VLM for transfer_image_32_0.jpeg\n",
      "Extracted image 1 from page 32 to extracted_images/PaliGemma A versatile 3B VLM for transfer_image_32_1.jpeg\n",
      "Extracted image 2 from page 32 to extracted_images/PaliGemma A versatile 3B VLM for transfer_image_32_2.jpeg\n",
      "Extracted image 3 from page 32 to extracted_images/PaliGemma A versatile 3B VLM for transfer_image_32_3.jpeg\n",
      "Extracted image 4 from page 32 to extracted_images/PaliGemma A versatile 3B VLM for transfer_image_32_4.jpeg\n",
      "Extracted image 5 from page 32 to extracted_images/PaliGemma A versatile 3B VLM for transfer_image_32_5.jpeg\n",
      "Extracted image 6 from page 32 to extracted_images/PaliGemma A versatile 3B VLM for transfer_image_32_6.jpeg\n",
      "Extracted image 7 from page 32 to extracted_images/PaliGemma A versatile 3B VLM for transfer_image_32_7.jpeg\n",
      "Extracted image 0 from page 33 to extracted_images/PaliGemma A versatile 3B VLM for transfer_image_33_0.jpeg\n",
      "Extracted image 1 from page 33 to extracted_images/PaliGemma A versatile 3B VLM for transfer_image_33_1.jpeg\n",
      "Extracted image 2 from page 33 to extracted_images/PaliGemma A versatile 3B VLM for transfer_image_33_2.jpeg\n",
      "Extracted image 0 from page 34 to extracted_images/PaliGemma A versatile 3B VLM for transfer_image_34_0.jpeg\n",
      "Extracted image 1 from page 34 to extracted_images/PaliGemma A versatile 3B VLM for transfer_image_34_1.png\n",
      "Extracted image 2 from page 34 to extracted_images/PaliGemma A versatile 3B VLM for transfer_image_34_2.jpeg\n",
      "Extracted image 0 from page 35 to extracted_images/PaliGemma A versatile 3B VLM for transfer_image_35_0.jpeg\n",
      "Extracted image 1 from page 35 to extracted_images/PaliGemma A versatile 3B VLM for transfer_image_35_1.jpeg\n",
      "Extracted image 2 from page 35 to extracted_images/PaliGemma A versatile 3B VLM for transfer_image_35_2.jpeg\n",
      "Extracted image 3 from page 35 to extracted_images/PaliGemma A versatile 3B VLM for transfer_image_35_3.jpeg\n",
      "Extracted image 0 from page 36 to extracted_images/PaliGemma A versatile 3B VLM for transfer_image_36_0.jpeg\n",
      "Extracted image 1 from page 36 to extracted_images/PaliGemma A versatile 3B VLM for transfer_image_36_1.jpeg\n",
      "Extracted image 2 from page 36 to extracted_images/PaliGemma A versatile 3B VLM for transfer_image_36_2.jpeg\n",
      "Extracted image 3 from page 36 to extracted_images/PaliGemma A versatile 3B VLM for transfer_image_36_3.jpeg\n",
      "Extracted image 4 from page 36 to extracted_images/PaliGemma A versatile 3B VLM for transfer_image_36_4.jpeg\n",
      "Extracted image 0 from page 37 to extracted_images/PaliGemma A versatile 3B VLM for transfer_image_37_0.jpeg\n",
      "Extracted image 1 from page 37 to extracted_images/PaliGemma A versatile 3B VLM for transfer_image_37_1.jpeg\n",
      "Extracted image 2 from page 37 to extracted_images/PaliGemma A versatile 3B VLM for transfer_image_37_2.jpeg\n",
      "Extracted image 0 from page 38 to extracted_images/PaliGemma A versatile 3B VLM for transfer_image_38_0.jpeg\n",
      "Extracted image 0 from page 42 to extracted_images/PaliGemma A versatile 3B VLM for transfer_image_42_0.png\n",
      "Extracted image 1 from page 42 to extracted_images/PaliGemma A versatile 3B VLM for transfer_image_42_1.png\n",
      "Extracted image 2 from page 42 to extracted_images/PaliGemma A versatile 3B VLM for transfer_image_42_2.png\n",
      "Extracted image 3 from page 42 to extracted_images/PaliGemma A versatile 3B VLM for transfer_image_42_3.png\n",
      "Extracted image 4 from page 42 to extracted_images/PaliGemma A versatile 3B VLM for transfer_image_42_4.png\n",
      "Extracted image 5 from page 42 to extracted_images/PaliGemma A versatile 3B VLM for transfer_image_42_5.png\n",
      "Extracted image 6 from page 42 to extracted_images/PaliGemma A versatile 3B VLM for transfer_image_42_6.png\n",
      "Extracted image 7 from page 42 to extracted_images/PaliGemma A versatile 3B VLM for transfer_image_42_7.png\n"
     ]
    }
   ],
   "source": [
    "# Variables\n",
    "source_directory = \"pdf_files/\"\n",
    "output_directory = \"extracted_images\"\n",
    "\n",
    "for paper in os.listdir(source_directory):\n",
    "    print(paper)\n",
    "    pdf_file = source_directory + paper\n",
    "    doc = pymupdf.open(pdf_file)\n",
    "\n",
    "    for i in range(len(doc)):\n",
    "        page = doc.load_page(i)\n",
    "        images = page.get_images(full=True)\n",
    "        for img_index, img in enumerate(images):\n",
    "            xref = img[0]\n",
    "            base_image = doc.extract_image(xref)\n",
    "            img_bytes = base_image[\"image\"]\n",
    "            img_ext = base_image[\"ext\"]\n",
    "            img_file = f\"{output_directory}/{paper[:-4]}_image_{i}_{img_index}.{img_ext}\"\n",
    "            with open(img_file, \"wb\") as f:\n",
    "                f.write(img_bytes)\n",
    "            print(f\"Extracted image {img_index} from page {i} to {img_file}\")"
   ]
  },
  {
   "cell_type": "code",
   "execution_count": null,
   "id": "ce419c9b",
   "metadata": {},
   "outputs": [],
   "source": []
  }
 ],
 "metadata": {
  "kernelspec": {
   "display_name": "Python 3 (ipykernel)",
   "language": "python",
   "name": "python3"
  },
  "language_info": {
   "codemirror_mode": {
    "name": "ipython",
    "version": 3
   },
   "file_extension": ".py",
   "mimetype": "text/x-python",
   "name": "python",
   "nbconvert_exporter": "python",
   "pygments_lexer": "ipython3",
   "version": "3.10.9"
  }
 },
 "nbformat": 4,
 "nbformat_minor": 5
}
