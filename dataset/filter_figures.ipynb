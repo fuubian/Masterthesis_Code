{
 "cells": [
  {
   "cell_type": "code",
   "execution_count": null,
   "id": "652c35bb",
   "metadata": {},
   "outputs": [],
   "source": [
    "import os\n",
    "import csv"
   ]
  },
  {
   "cell_type": "code",
   "execution_count": null,
   "id": "52a866de",
   "metadata": {},
   "outputs": [],
   "source": [
    "# File and Directory Paths\n",
    "figure_dir = \"extracted_figures/\"\n",
    "figure_metadata_file = figure_dir + \"figures.csv\"\n",
    "\n",
    "possible_extensions = [\".pdf\", \".png\", \".jpg\", \".jpeg\", \".eps\", \".ps\"]"
   ]
  },
  {
   "cell_type": "code",
   "execution_count": null,
   "id": "902af0b3",
   "metadata": {},
   "outputs": [],
   "source": [
    "# Delete figures from dataset if their image size is larger than the defined threshold\n",
    "def delete_figures_size(max_size):\n",
    "    with open(figure_metadata_file, \"r\", newline='', encoding='utf-8') as input_file:\n",
    "        with open(figure_dir + \"tmp.csv\", \"w\", newline='', encoding='utf-8') as output_file:\n",
    "            csv_reader = csv.reader(input_file, delimiter=';', quotechar='|', quoting=csv.QUOTE_MINIMAL)\n",
    "            csv_writer = csv.writer(output_file, delimiter=';', quotechar='|', quoting=csv.QUOTE_MINIMAL)\n",
    "            \n",
    "            counter = 0\n",
    "            for row in csv_reader:\n",
    "                figure_id = row[0]\n",
    "                try:\n",
    "                    # Find figure file\n",
    "                    found_ext = None\n",
    "                    for extension in possible_extensions:\n",
    "                        if os.path.isfile(figure_dir + figure_id + extension):\n",
    "                            found_ext = extension\n",
    "                            break\n",
    "                            \n",
    "                    if found_ext:\n",
    "                        # Obtain file size\n",
    "                        figure_file = figure_dir + figure_id + extension\n",
    "                        file_size = os.path.getsize(figure_file)\n",
    "\n",
    "                        # Remove from dataset when file size is too large\n",
    "                        if file_size > max_size:\n",
    "                            os.remove(figure_file)\n",
    "                            counter += 1\n",
    "                        else:\n",
    "                            csv_writer.writerow(row)\n",
    "                    else:\n",
    "                        # Remove from dataset if file was not found\n",
    "                        print(f\"File for figure {figure_id} was not found.\")\n",
    "                        counter += 1\n",
    "                    \n",
    "                except Exception as e:\n",
    "                    # No removal when an error occurres\n",
    "                    print(f\"Error occurred for {figure_id}: {e}\")\n",
    "                    csv_writer.writerow(row)\n",
    "                    \n",
    "    # Replace old csv file with new csv file\n",
    "    os.replace(figure_dir + \"tmp.csv\", figure_metadata_file)\n",
    "    \n",
    "    print(f\"{counter} figures were deleted from the dataset.\")"
   ]
  },
  {
   "cell_type": "code",
   "execution_count": null,
   "id": "764dd99a",
   "metadata": {},
   "outputs": [],
   "source": [
    "# Set threshold for figure file size\n",
    "MAX_FILE_SIZE = 2 * 1024 * 1024\n",
    "\n",
    "# Delete figures with a larger file size\n",
    "delete_figures_size(MAX_FILE_SIZE)"
   ]
  },
  {
   "cell_type": "code",
   "execution_count": null,
   "id": "eb88949f",
   "metadata": {},
   "outputs": [],
   "source": []
  }
 ],
 "metadata": {
  "kernelspec": {
   "display_name": "Python 3 (ipykernel)",
   "language": "python",
   "name": "python3"
  },
  "language_info": {
   "codemirror_mode": {
    "name": "ipython",
    "version": 3
   },
   "file_extension": ".py",
   "mimetype": "text/x-python",
   "name": "python",
   "nbconvert_exporter": "python",
   "pygments_lexer": "ipython3",
   "version": "3.11.4"
  }
 },
 "nbformat": 4,
 "nbformat_minor": 5
}
