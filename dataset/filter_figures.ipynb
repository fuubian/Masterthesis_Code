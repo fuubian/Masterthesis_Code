{
 "cells": [
  {
   "cell_type": "code",
   "execution_count": 1,
   "id": "652c35bb",
   "metadata": {},
   "outputs": [],
   "source": [
    "import os\n",
    "import csv\n",
    "#import torch\n",
    "#import torch.nn as nn\n",
    "#import torch.nn.functional as F\n",
    "#import torch.optim as optim\n",
    "#from torchvision import datasets, transforms, models\n",
    "from PIL import Image"
   ]
  },
  {
   "cell_type": "code",
   "execution_count": 2,
   "id": "52a866de",
   "metadata": {},
   "outputs": [
    {
     "data": {
      "text/plain": [
       "131072"
      ]
     },
     "execution_count": 2,
     "metadata": {},
     "output_type": "execute_result"
    }
   ],
   "source": [
    "# File and Directory Paths\n",
    "figure_dir = \"extracted_figures/\"\n",
    "figure_metadata_file = figure_dir + \"figures.csv\"\n",
    "\n",
    "classified_figure_dir = \"classified_figures/\"\n",
    "unclassified_figure_dir = \"unclassified_figures/\"\n",
    "model_path= \"models/\"\n",
    "\n",
    "os.makedirs(classified_figure_dir, exist_ok=True)\n",
    "os.makedirs(unclassified_figure_dir, exist_ok=True)\n",
    "\n",
    "possible_extensions = [\".pdf\", \".png\", \".jpg\", \".jpeg\", \".eps\", \".ps\"]\n",
    "\n",
    "# CSV Size Limit\n",
    "csv.field_size_limit(260000)"
   ]
  },
  {
   "cell_type": "code",
   "execution_count": 12,
   "id": "902af0b3",
   "metadata": {},
   "outputs": [],
   "source": [
    "# Delete figures from dataset if their image size is larger than the defined threshold\n",
    "def delete_figures_size(max_size):\n",
    "    with open(figure_metadata_file, \"r\", newline='', encoding='utf-8') as input_file:\n",
    "        with open(figure_dir + \"tmp.csv\", \"w\", newline='', encoding='utf-8') as output_file:\n",
    "            csv_reader = csv.reader(input_file, delimiter=';', quotechar='|', quoting=csv.QUOTE_MINIMAL)\n",
    "            csv_writer = csv.writer(output_file, delimiter=';', quotechar='|', quoting=csv.QUOTE_MINIMAL)\n",
    "            \n",
    "            counter = 0\n",
    "            for row in csv_reader:\n",
    "                figure_id = row[0]\n",
    "                try:\n",
    "                    # Find figure file\n",
    "                    found_ext = None\n",
    "                    for extension in possible_extensions:\n",
    "                        if os.path.isfile(figure_dir + figure_id + extension):\n",
    "                            found_ext = extension\n",
    "                            break\n",
    "                            \n",
    "                    if found_ext:\n",
    "                        try:\n",
    "                            # Obtain file size\n",
    "                            figure_file = figure_dir + figure_id + extension\n",
    "                            file_size = os.path.getsize(figure_file)\n",
    "\n",
    "                            # Remove from dataset when file size is too large\n",
    "                            if file_size > max_size:\n",
    "                                os.remove(figure_file)\n",
    "                                counter += 1\n",
    "                            else:\n",
    "                                csv_writer.writerow(row)\n",
    "                        except e as Exception:\n",
    "                            # Catch unexpected errors in separate log file\n",
    "                            print(f\"Error occurred: {e}\")\n",
    "                            with open(f\"error_{figure_id}.log\", \"w\", encoding=\"utf-8\") as f:\n",
    "                                f.write(e)\n",
    "                    else:\n",
    "                        # Remove from dataset if file was not found\n",
    "                        print(f\"File for figure {figure_id} was not found.\")\n",
    "                        counter += 1\n",
    "                    \n",
    "                except Exception as e:\n",
    "                    # No removal when an error occurres\n",
    "                    print(f\"Error occurred for {figure_id}: {e}\")\n",
    "                    csv_writer.writerow(row)\n",
    "                    \n",
    "    # Replace old csv file with new csv file\n",
    "    os.replace(figure_dir + \"tmp.csv\", figure_metadata_file)\n",
    "    \n",
    "    print(f\"{counter} figures were deleted from the dataset.\")\n",
    "    \n",
    "    \n",
    "# Delete figures from dataset if their pixel size is larger than the defined threshold\n",
    "def delete_figures_pixel(max_pixel):\n",
    "    with open(figure_metadata_file, \"r\", newline='', encoding='utf-8') as input_file:\n",
    "        with open(figure_dir + \"tmp.csv\", \"w\", newline='', encoding='utf-8') as output_file:\n",
    "            csv_reader = csv.reader(input_file, delimiter=';', quotechar='|', quoting=csv.QUOTE_MINIMAL)\n",
    "            csv_writer = csv.writer(output_file, delimiter=';', quotechar='|', quoting=csv.QUOTE_MINIMAL)\n",
    "            \n",
    "            counter = 0\n",
    "            for row in csv_reader:\n",
    "                figure_id = row[0]\n",
    "                figure_file = figure_dir + figure_id + \".png\"\n",
    "                try:\n",
    "                    # Obtain pixel dimension\n",
    "                    with Image.open(figure_file) as img:\n",
    "                        width, height = img.size\n",
    "                        total_pixels = width * height\n",
    "\n",
    "                        # Remove from dataset when file size is too large\n",
    "                        if total_pixels > max_pixel:\n",
    "                            os.remove(figure_file)\n",
    "                            counter += 1\n",
    "                        else:\n",
    "                            csv_writer.writerow(row)\n",
    "                except Exception as e:\n",
    "                    print(f\"Error occurred: {e}\")\n",
    "                    if os.path.isfile(figure_file):\n",
    "                        os.remove(figure_file)\n",
    "                    \n",
    "    # Replace old csv file with new csv file\n",
    "    os.replace(figure_dir + \"tmp.csv\", figure_metadata_file)\n",
    "    \n",
    "    print(f\"{counter} figures were deleted from the dataset.\")"
   ]
  },
  {
   "cell_type": "code",
   "execution_count": null,
   "id": "a791932d",
   "metadata": {},
   "outputs": [],
   "source": [
    "test_transform = transforms.Compose([\n",
    "    transforms.Resize(256),\n",
    "    transforms.CenterCrop(224),\n",
    "    transforms.ToTensor(),\n",
    "    transforms.Normalize(mean=[0.485, 0.456, 0.406], std=[0.229, 0.224, 0.225])\n",
    "])\n",
    "\n",
    "# Classify image files as figure or non-figure\n",
    "def is_figure(model, file, device, threshold):\n",
    "    image_path = figure_dir + file\n",
    "    image = Image.open(image_path).convert(\"RGBA\")\n",
    "    \n",
    "    # Preprocessing\n",
    "    transformed_image = test_transform(image)\n",
    "    transformed_image = transformed_image.unsqueeze(0)\n",
    "    \n",
    "    # Binary classifying\n",
    "    transformed_image = transformed_image.to(device)\n",
    "    logits = model(transformed_image)\n",
    "    probabilities = F.softmax(logits, dim=1)\n",
    "    \n",
    "    # Predict\n",
    "    confidence = probabilities[0, 1].item()\n",
    "    pred = True if confidence <= threshold else False\n",
    "    return pred"
   ]
  },
  {
   "cell_type": "code",
   "execution_count": 35,
   "id": "764dd99a",
   "metadata": {},
   "outputs": [
    {
     "name": "stdout",
     "output_type": "stream",
     "text": [
      "2384 figures were deleted from the dataset.\n"
     ]
    }
   ],
   "source": [
    "# Set threshold for figure file size\n",
    "MAX_FILE_SIZE = 2 * 1024 * 1024\n",
    "\n",
    "# Delete figures with a larger file size\n",
    "delete_figures_size(MAX_FILE_SIZE)"
   ]
  },
  {
   "cell_type": "code",
   "execution_count": 13,
   "id": "25cc5b0f",
   "metadata": {},
   "outputs": [
    {
     "name": "stdout",
     "output_type": "stream",
     "text": [
      "Error occurred: cannot identify image file 'extracted_figures/2302.00390_FIG_3.png'\n",
      "Error occurred: cannot identify image file 'extracted_figures/2304.02725_FIG_2.png'\n",
      "Error occurred: cannot identify image file 'extracted_figures/2303.11580_FIG_3.png'\n",
      "Error occurred: cannot identify image file 'extracted_figures/2301.11096_FIG_16.png'\n",
      "Error occurred: cannot identify image file 'extracted_figures/2210.17166_FIG_2.png'\n",
      "Error occurred: cannot identify image file 'extracted_figures/2303.13307_FIG_2.png'\n",
      "Error occurred: cannot identify image file 'extracted_figures/2210.03589_FIG_1.png'\n",
      "Error occurred: cannot identify image file 'extracted_figures/2303.00260_FIG_5.png'\n",
      "Error occurred: cannot identify image file 'extracted_figures/2303.08859_FIG_2.png'\n",
      "Error occurred: cannot identify image file 'extracted_figures/2303.08859_FIG_3.png'\n",
      "Error occurred: cannot identify image file 'extracted_figures/2212.03640_FIG_4.png'\n",
      "Error occurred: cannot identify image file 'extracted_figures/2212.07384_FIG_4.png'\n",
      "Error occurred: cannot identify image file 'extracted_figures/2210.14245_FIG_3.png'\n",
      "Error occurred: cannot identify image file 'extracted_figures/2302.12193_FIG_1.png'\n",
      "Error occurred: cannot identify image file 'extracted_figures/2210.14824_FIG_3.png'\n",
      "Error occurred: cannot identify image file 'extracted_figures/2207.00414_FIG_5.png'\n",
      "Error occurred: cannot identify image file 'extracted_figures/2210.01563_FIG_2.png'\n",
      "Error occurred: cannot identify image file 'extracted_figures/2210.01563_FIG_4.png'\n",
      "Error occurred: cannot identify image file 'extracted_figures/2210.01563_FIG_12.png'\n",
      "Error occurred: cannot identify image file 'extracted_figures/2206.00598_FIG_3.png'\n",
      "Error occurred: cannot identify image file 'extracted_figures/2210.03889_FIG_2.png'\n",
      "Error occurred: cannot identify image file 'extracted_figures/2207.10086_FIG_5.png'\n",
      "Error occurred: [WinError 32] Der Prozess kann nicht auf die Datei zugreifen, da sie von einem anderen Prozess verwendet wird: 'extracted_figures/2201.04774_FIG_4.png'\n",
      "Error occurred: cannot identify image file 'extracted_figures/2211.05847_FIG_2.png'\n",
      "Error occurred: cannot identify image file 'extracted_figures/2211.05847_FIG_3.png'\n",
      "Error occurred: cannot identify image file 'extracted_figures/2210.01619_FIG_1.png'\n",
      "Error occurred: cannot identify image file 'extracted_figures/2210.01619_FIG_2.png'\n",
      "Error occurred: cannot identify image file 'extracted_figures/2211.16964_FIG_4.png'\n",
      "Error occurred: [WinError 32] Der Prozess kann nicht auf die Datei zugreifen, da sie von einem anderen Prozess verwendet wird: 'extracted_figures/2201.03192_FIG_11.png'\n",
      "Error occurred: cannot identify image file 'extracted_figures/2210.04169_FIG_2.png'\n",
      "Error occurred: cannot identify image file 'extracted_figures/2210.04211_FIG_2.png'\n",
      "Error occurred: cannot identify image file 'extracted_figures/2210.04211_FIG_3.png'\n",
      "Error occurred: cannot identify image file 'extracted_figures/2210.04211_FIG_5.png'\n",
      "Error occurred: cannot identify image file 'extracted_figures/2210.04211_FIG_6.png'\n",
      "Error occurred: cannot identify image file 'extracted_figures/2209.00297_FIG_4.png'\n",
      "Error occurred: cannot identify image file 'extracted_figures/2209.00297_FIG_5.png'\n",
      "Error occurred: cannot identify image file 'extracted_figures/2209.00297_FIG_7.png'\n",
      "Error occurred: cannot identify image file 'extracted_figures/2212.06308_FIG_9.png'\n",
      "Error occurred: cannot identify image file 'extracted_figures/2211.05466_FIG_2.png'\n",
      "Error occurred: cannot identify image file 'extracted_figures/2211.05466_FIG_3.png'\n",
      "Error occurred: cannot identify image file 'extracted_figures/2302.14305_FIG_3.png'\n",
      "Error occurred: cannot identify image file 'extracted_figures/2303.00436_FIG_2.png'\n",
      "Error occurred: cannot identify image file 'extracted_figures/2303.00436_FIG_3.png'\n",
      "Error occurred: cannot identify image file 'extracted_figures/2303.00436_FIG_5.png'\n",
      "Error occurred: cannot identify image file 'extracted_figures/2303.00436_FIG_7.png'\n",
      "Error occurred: cannot identify image file 'extracted_figures/2303.00436_FIG_12.png'\n",
      "Error occurred: cannot identify image file 'extracted_figures/2303.00436_FIG_13.png'\n",
      "Error occurred: cannot identify image file 'extracted_figures/2303.00436_FIG_14.png'\n",
      "Error occurred: cannot identify image file 'extracted_figures/2303.00436_FIG_17.png'\n",
      "Error occurred: cannot identify image file 'extracted_figures/2303.00436_FIG_18.png'\n",
      "Error occurred: cannot identify image file 'extracted_figures/2303.00436_FIG_19.png'\n",
      "Error occurred: cannot identify image file 'extracted_figures/2303.00436_FIG_20.png'\n",
      "Error occurred: cannot identify image file 'extracted_figures/2303.00436_FIG_22.png'\n",
      "Error occurred: cannot identify image file 'extracted_figures/2303.00436_FIG_23.png'\n",
      "Error occurred: cannot identify image file 'extracted_figures/2303.00436_FIG_24.png'\n",
      "Error occurred: cannot identify image file 'extracted_figures/2303.00436_FIG_26.png'\n",
      "Error occurred: cannot identify image file 'extracted_figures/2303.00436_FIG_27.png'\n",
      "Error occurred: cannot identify image file 'extracted_figures/2303.00436_FIG_28.png'\n",
      "Error occurred: cannot identify image file 'extracted_figures/2303.00436_FIG_29.png'\n",
      "Error occurred: cannot identify image file 'extracted_figures/2303.00436_FIG_30.png'\n",
      "Error occurred: cannot identify image file 'extracted_figures/2211.04911_FIG_7.png'\n",
      "Error occurred: cannot identify image file 'extracted_figures/2211.04911_FIG_14.png'\n",
      "Error occurred: cannot identify image file 'extracted_figures/2210.15974_FIG_3.png'\n",
      "Error occurred: cannot identify image file 'extracted_figures/2208.00909_FIG_1.png'\n",
      "Error occurred: cannot identify image file 'extracted_figures/2301.02313_FIG_1.png'\n",
      "Error occurred: cannot identify image file 'extracted_figures/2302.08516_FIG_4.png'\n",
      "Error occurred: cannot identify image file 'extracted_figures/2303.07969_FIG_6.png'\n",
      "Error occurred: cannot identify image file 'extracted_figures/2211.03008_FIG_6.png'\n",
      "Error occurred: cannot identify image file 'extracted_figures/2302.00769_FIG_1.png'\n",
      "Error occurred: cannot identify image file 'extracted_figures/2206.13525_FIG_1.png'\n",
      "Error occurred: cannot identify image file 'extracted_figures/2211.04622_FIG_4.png'\n",
      "Error occurred: cannot identify image file 'extracted_figures/2211.09467_FIG_7.png'\n",
      "Error occurred: cannot identify image file 'extracted_figures/2301.00556_FIG_4.png'\n",
      "Error occurred: cannot identify image file 'extracted_figures/2301.03369_FIG_4.png'\n",
      "Error occurred: cannot identify image file 'extracted_figures/2211.09766_FIG_3.png'\n",
      "Error occurred: cannot identify image file 'extracted_figures/2208.13892_FIG_8.png'\n",
      "Error occurred: cannot identify image file 'extracted_figures/2210.02854_FIG_1.png'\n",
      "Error occurred: cannot identify image file 'extracted_figures/2209.00491_FIG_12.png'\n",
      "Error occurred: cannot identify image file 'extracted_figures/2301.04260_FIG_1.png'\n",
      "Error occurred: cannot identify image file 'extracted_figures/2201.04292_FIG_3.png'\n",
      "Error occurred: [WinError 32] Der Prozess kann nicht auf die Datei zugreifen, da sie von einem anderen Prozess verwendet wird: 'extracted_figures/2201.04292_FIG_5.png'\n",
      "Error occurred: cannot identify image file 'extracted_figures/2205.14140_FIG_4.png'\n",
      "Error occurred: cannot identify image file 'extracted_figures/2210.07547_FIG_3.png'\n",
      "Error occurred: [WinError 32] Der Prozess kann nicht auf die Datei zugreifen, da sie von einem anderen Prozess verwendet wird: 'extracted_figures/2202.01341_FIG_1.png'\n",
      "Error occurred: cannot identify image file 'extracted_figures/2206.12654_FIG_5.png'\n",
      "Error occurred: cannot identify image file 'extracted_figures/2210.10732_FIG_6.png'\n",
      "Error occurred: cannot identify image file 'extracted_figures/2210.16253_FIG_9.png'\n",
      "Error occurred: cannot identify image file 'extracted_figures/2210.16283_FIG_2.png'\n",
      "Error occurred: cannot identify image file 'extracted_figures/2209.08197_FIG_2.png'\n",
      "Error occurred: cannot identify image file 'extracted_figures/2209.12769_FIG_1.png'\n",
      "Error occurred: cannot identify image file 'extracted_figures/2209.12769_FIG_3.png'\n",
      "Error occurred: cannot identify image file 'extracted_figures/2209.14461_FIG_7.png'\n",
      "Error occurred: cannot identify image file 'extracted_figures/2207.14431_FIG_2.png'\n",
      "Error occurred: cannot identify image file 'extracted_figures/2207.14431_FIG_5.png'\n"
     ]
    },
    {
     "name": "stdout",
     "output_type": "stream",
     "text": [
      "Error occurred: cannot identify image file 'extracted_figures/2208.02442_FIG_3.png'\n",
      "Error occurred: cannot identify image file 'extracted_figures/2208.03970_FIG_4.png'\n",
      "Error occurred: cannot identify image file 'extracted_figures/2209.02960_FIG_1.png'\n",
      "Error occurred: cannot identify image file 'extracted_figures/2209.06032_FIG_4.png'\n",
      "0 figures were deleted from the dataset.\n"
     ]
    }
   ],
   "source": [
    "# Set threshold for figure pixel size\n",
    "IMG_MAX_PIX_SIZE = 89478485\n",
    "\n",
    "# Delete figures with a larger file size\n",
    "delete_figures_pixel(IMG_MAX_PIX_SIZE)"
   ]
  },
  {
   "cell_type": "code",
   "execution_count": null,
   "id": "eb88949f",
   "metadata": {},
   "outputs": [],
   "source": [
    "# Set probability threshold for classifying a figure\n",
    "PROBABILITY_THRESHOLD = 0.05\n",
    "\n",
    "# Load model on CPU\n",
    "model.load_state_dict(torch.load(model_path + \"binary_classifier.pth\", map_location=torch.device('cpu')))\n",
    "device = torch.device('cpu')\n",
    "model = model.to(device)\n",
    "model.eval()\n",
    "\n",
    "# Classify images\n",
    "for image_file in figure_dir:\n",
    "    if image_file.endswith(\".png\") or image_file.endswith(\".jpg\"):\n",
    "        if is_figure(image_file, model, device, PROBABILITY_THRESHOLD):\n",
    "            os.rename(figure_dir + image_file, classified_figure_dir + image_file)\n",
    "        else:\n",
    "            os.rename(figure_dir + image_file, unclassified_figure_dir + image_file)\n",
    "            \n",
    "# TODO: Remove non-figures from dataset"
   ]
  },
  {
   "cell_type": "code",
   "execution_count": 32,
   "id": "78df5d14",
   "metadata": {},
   "outputs": [
    {
     "data": {
      "text/plain": [
       "{'.csv', '.png', '.zip'}"
      ]
     },
     "execution_count": 32,
     "metadata": {},
     "output_type": "execute_result"
    }
   ],
   "source": [
    "# Get all file extensions:\n",
    "file_extensions = set()\n",
    "file_collection = os.listdir(figure_dir)\n",
    "\n",
    "for file in file_collection:\n",
    "    ext = \".\" + file.split(\".\")[-1]\n",
    "    file_extensions.add(ext)\n",
    "\n",
    "file_extensions"
   ]
  },
  {
   "cell_type": "code",
   "execution_count": 27,
   "id": "6b9d5780",
   "metadata": {},
   "outputs": [],
   "source": [
    "# Rename PNG to png\n",
    "file_collection = os.listdir(figure_dir)\n",
    "for file in file_collection:\n",
    "    if file.endswith(\".PNG\"):\n",
    "        os.rename(figure_dir + file, figure_dir + file.replace(\".PNG\", \".png\"))"
   ]
  },
  {
   "cell_type": "code",
   "execution_count": 24,
   "id": "1f3c0314",
   "metadata": {},
   "outputs": [
    {
     "name": "stdout",
     "output_type": "stream",
     "text": [
      "0 files have been deleted.\n"
     ]
    }
   ],
   "source": [
    "# Remove all non-png files:\n",
    "counter = 0\n",
    "for file in file_collection:\n",
    "    if not file.endswith(\".png\") and not file.endswith(\".PNG\") \\\n",
    "    and not file.endswith(\".csv\") and not file.endswith(\".zip\") \\\n",
    "    and not file.endswith(\"tex_files\"):\n",
    "        counter += 1\n",
    "        os.remove(figure_dir + file)\n",
    "        \n",
    "print(f\"{counter} files have been deleted.\")"
   ]
  },
  {
   "cell_type": "code",
   "execution_count": 14,
   "id": "7bb44afd",
   "metadata": {},
   "outputs": [
    {
     "name": "stdout",
     "output_type": "stream",
     "text": [
      "0 figures have been removed.\n"
     ]
    }
   ],
   "source": [
    "# Remove figures from metadata if file is not on disk\n",
    "file_collection = set(os.listdir(figure_dir))\n",
    "counter = 0\n",
    "\n",
    "with open(figure_metadata_file, \"r\", newline='', encoding='utf-8') as input_file:\n",
    "    with open(figure_dir + \"tmp.csv\", \"w\", newline='', encoding='utf-8') as output_file:\n",
    "        csv_reader = csv.reader(input_file, delimiter=';', quotechar='|', quoting=csv.QUOTE_MINIMAL)\n",
    "        csv_writer = csv.writer(output_file, delimiter=';', quotechar='|', quoting=csv.QUOTE_MINIMAL)\n",
    "        \n",
    "        for row in csv_reader:\n",
    "            file_name = row[0] + \".png\"\n",
    "            if file_name in file_collection:\n",
    "                csv_writer.writerow(row)\n",
    "            else:\n",
    "                counter += 1\n",
    "                \n",
    "# Replace old csv file with new csv file\n",
    "os.replace(figure_dir + \"tmp.csv\", figure_metadata_file)\n",
    "\n",
    "print(f\"{counter} figures have been removed.\")"
   ]
  },
  {
   "cell_type": "code",
   "execution_count": null,
   "id": "caf15478",
   "metadata": {},
   "outputs": [],
   "source": []
  }
 ],
 "metadata": {
  "kernelspec": {
   "display_name": "Python 3 (ipykernel)",
   "language": "python",
   "name": "python3"
  },
  "language_info": {
   "codemirror_mode": {
    "name": "ipython",
    "version": 3
   },
   "file_extension": ".py",
   "mimetype": "text/x-python",
   "name": "python",
   "nbconvert_exporter": "python",
   "pygments_lexer": "ipython3",
   "version": "3.11.4"
  }
 },
 "nbformat": 4,
 "nbformat_minor": 5
}
