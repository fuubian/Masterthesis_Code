{
 "cells": [
  {
   "cell_type": "code",
   "execution_count": 1,
   "id": "61b5f60c",
   "metadata": {},
   "outputs": [],
   "source": [
    "import requests\n",
    "import tarfile\n",
    "import os\n",
    "from lxml import etree"
   ]
  },
  {
   "cell_type": "code",
   "execution_count": 2,
   "id": "86d0ea1d",
   "metadata": {},
   "outputs": [
    {
     "name": "stdout",
     "output_type": "stream",
     "text": [
      "200\n",
      "\n",
      "\n",
      "Found ids:\n",
      "2001.00113v2\n",
      "2001.00114v1\n",
      "2001.00115v2\n",
      "2001.00116v2\n",
      "2001.00117v1\n",
      "2001.00118v2\n",
      "2001.00119v2\n",
      "2001.00120v1\n",
      "2001.00121v1\n",
      "2001.00122v1\n",
      "2001.00113v2.tar.gz: file could not be opened successfully:\n",
      "2001.00114v1.tar.gz: file could not be opened successfully:\n",
      "2001.00115v2.tar.gz: file could not be opened successfully:\n",
      "2001.00118v2.tar.gz: file could not be opened successfully:\n",
      "2001.00121v1.tar.gz: file could not be opened successfully:\n",
      "\n",
      "Success\n"
     ]
    }
   ],
   "source": [
    "url = 'http://export.arxiv.org/api/query?search_query=submittedDate:[2020-01-01 TO 2024-12-31]&start=0&max_results=10'\n",
    "directory = \"source_files/\"\n",
    "\n",
    "# Creating directory\n",
    "if not os.path.exists(directory):\n",
    "    os.makedirs(directory)\n",
    "\n",
    "response = requests.get(url)\n",
    "print(response.status_code)\n",
    "#print(response.text)\n",
    "root = etree.fromstring(response.content)\n",
    "\n",
    "# Define the namespace for Atom\n",
    "namespaces = {'atom': 'http://www.w3.org/2005/Atom'}\n",
    "\n",
    "# Locate the <id> tag of <entry>\n",
    "entry_ids = root.xpath('//atom:entry/atom:id/text()', namespaces=namespaces)\n",
    "entry_stems = []\n",
    "\n",
    "# Print the extracted entry ID\n",
    "print(\"\\n\\nFound ids:\")\n",
    "for found_id in entry_ids:\n",
    "    path_stem = found_id.split('abs/')[1]\n",
    "    print(path_stem)\n",
    "    #source_link = \"https://arxiv.org/src/\" + path_stem\n",
    "    entry_stems.append(path_stem)\n",
    "    \n",
    "# Download the found ids and unextract tar\n",
    "for stem in entry_stems:\n",
    "    source_link = \"https://arxiv.org/src/\" + stem\n",
    "    response = requests.get(source_link)\n",
    "    filename = stem.replace('/', '-') + \".tar.gz\"  # TODO: Look if it .tar.gz or .gz\n",
    "    filepath = directory + filename\n",
    "    open(filepath, \"wb\").write(response.content)\n",
    "    try:\n",
    "        t = tarfile.open(filepath)\n",
    "        t.extractall(path = directory + stem.replace('/', '-'))\n",
    "    except Exception as e:\n",
    "        print(filename + \": \" + str(e).split(\"\\n\")[0])\n",
    "    \n",
    "print(\"\\nSuccess\")"
   ]
  },
  {
   "cell_type": "code",
   "execution_count": null,
   "id": "e7256d4c",
   "metadata": {},
   "outputs": [],
   "source": []
  }
 ],
 "metadata": {
  "kernelspec": {
   "display_name": "Python 3 (ipykernel)",
   "language": "python",
   "name": "python3"
  },
  "language_info": {
   "codemirror_mode": {
    "name": "ipython",
    "version": 3
   },
   "file_extension": ".py",
   "mimetype": "text/x-python",
   "name": "python",
   "nbconvert_exporter": "python",
   "pygments_lexer": "ipython3",
   "version": "3.10.9"
  }
 },
 "nbformat": 4,
 "nbformat_minor": 5
}
