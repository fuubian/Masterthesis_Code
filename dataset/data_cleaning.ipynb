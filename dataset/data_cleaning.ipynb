{
 "cells": [
  {
   "cell_type": "code",
   "execution_count": 1,
   "id": "a5ead797",
   "metadata": {},
   "outputs": [],
   "source": [
    "import os\n",
    "import csv\n",
    "import matplotlib.pyplot as plt\n",
    "import numpy as np"
   ]
  },
  {
   "cell_type": "code",
   "execution_count": 2,
   "id": "0da896d4",
   "metadata": {},
   "outputs": [
    {
     "data": {
      "text/plain": [
       "131072"
      ]
     },
     "execution_count": 2,
     "metadata": {},
     "output_type": "execute_result"
    }
   ],
   "source": [
    "# File and Directory Paths\n",
    "source_dir = \"source_files/\"\n",
    "source_metadata_file = source_dir + \"papers.csv\"\n",
    "processed_metadata_file = source_dir + \"papers_processed.csv\"\n",
    "\n",
    "table_output_dir = \"extracted_tables/\"\n",
    "table_code_dir = table_output_dir + \"table_code/\"\n",
    "table_images_dir = table_output_dir + \"table_images/\"\n",
    "table_metadata_file = table_output_dir + \"tables.csv\"\n",
    "\n",
    "figure_output_dir = \"extracted_figures/\"\n",
    "figure_metadata_file = figure_output_dir + \"figures.csv\"\n",
    "\n",
    "# CSV Size Limit\n",
    "csv.field_size_limit(260000)"
   ]
  },
  {
   "cell_type": "code",
   "execution_count": 73,
   "id": "f603cf92",
   "metadata": {},
   "outputs": [
    {
     "name": "stdout",
     "output_type": "stream",
     "text": [
      "Check for source_files/papers.csv complete. 0 rows were corrupted.\n",
      "Check for source_files/papers_processed.csv complete. 0 rows were corrupted.\n"
     ]
    }
   ],
   "source": [
    "def check_row_length(file_path, row_length):\n",
    "    corrupted_objects = []\n",
    "    with open(file_path, \"r\", encoding=\"utf-8\") as metadata:\n",
    "        spamreader = csv.reader(metadata, delimiter=';', quotechar='|', quoting=csv.QUOTE_ALL)\n",
    "        for row in spamreader:\n",
    "            if len(row) != row_length:\n",
    "                corrupted_objects.append(row)\n",
    "                print(f\"Unexpected row length of {len(row)} for: {row[0]}\")\n",
    "    print(f\"Check for {file_path} complete. {len(corrupted_objects)} rows were corrupted.\")\n",
    "    return corrupted_objects\n",
    "\n",
    "# Check paper metadata files for errors\n",
    "original_corrupted_papers = check_row_length(source_metadata_file, 3)\n",
    "processed_corrupted_papers = check_row_length(processed_metadata_file, 5)"
   ]
  },
  {
   "cell_type": "code",
   "execution_count": 25,
   "id": "4480c466",
   "metadata": {},
   "outputs": [
    {
     "name": "stdout",
     "output_type": "stream",
     "text": [
      "42 rows were fixed.\n"
     ]
    }
   ],
   "source": [
    "# Repairing paper titels including a semicolumn\n",
    "repaired_papers = {}\n",
    "for paper_row in original_corrupted_papers:\n",
    "    if len(paper_row) == 4:\n",
    "        new_row = [paper_row[0], paper_row[1] + \",\" + paper_row[2], paper_row[3]]\n",
    "        repaired_papers[paper_row[0]] = new_row\n",
    "    else:\n",
    "        raise ValueError(f\"Unexpected row length for {paper_row}.\")\n",
    "\n",
    "print(f\"{len(repaired_papers)} rows were fixed.\")"
   ]
  },
  {
   "cell_type": "code",
   "execution_count": 26,
   "id": "d07bc333",
   "metadata": {},
   "outputs": [
    {
     "name": "stdout",
     "output_type": "stream",
     "text": [
      "Original papers csv file was successfully overwritten.\n",
      "Processed papers csv file was successfully overwritten.\n"
     ]
    }
   ],
   "source": [
    "# Fix for original source paper file\n",
    "with open(source_metadata_file, \"r\", newline='', encoding='utf-8') as input_file:\n",
    "        with open(source_dir + \"tmp.csv\", \"w\", newline='', encoding='utf-8') as output_file:\n",
    "            csv_reader = csv.reader(input_file, delimiter=';', quotechar='|', quoting=csv.QUOTE_MINIMAL)\n",
    "            csv_writer = csv.writer(output_file, delimiter=';', quotechar='|', quoting=csv.QUOTE_MINIMAL)\n",
    "            \n",
    "            for row in csv_reader:\n",
    "                if row[0] in repaired_papers:\n",
    "                    csv_writer.writerow(repaired_papers[row[0]])\n",
    "                else:\n",
    "                    csv_writer.writerow(row)\n",
    "                    \n",
    "# Replace old csv file with new csv file\n",
    "os.replace(source_dir + \"tmp.csv\", source_metadata_file)\n",
    "print(\"Original papers csv file was successfully overwritten.\")\n",
    "\n",
    "# Fix for processed paper file\n",
    "with open(processed_metadata_file, \"r\", newline='', encoding='utf-8') as input_file:\n",
    "        with open(source_dir + \"tmp.csv\", \"w\", newline='', encoding='utf-8') as output_file:\n",
    "            csv_reader = csv.reader(input_file, delimiter=';', quotechar='|', quoting=csv.QUOTE_MINIMAL)\n",
    "            csv_writer = csv.writer(output_file, delimiter=';', quotechar='|', quoting=csv.QUOTE_MINIMAL)\n",
    "            \n",
    "            for row in csv_reader:\n",
    "                if row[0] in repaired_papers:\n",
    "                    if len(row) > paper_processed_row_length:\n",
    "                        new_row = repaired_papers[row[0]] + [row[-2], row[-1]]\n",
    "                        csv_writer.writerow(new_row)\n",
    "                    else:\n",
    "                        print(f\"Critical error for {row}. Please fix it manually.\")\n",
    "                        csv_writer.writerow(row)\n",
    "                else:\n",
    "                    csv_writer.writerow(row)\n",
    "                    \n",
    "# Replace old csv file with new csv file\n",
    "os.replace(source_dir + \"tmp.csv\", processed_metadata_file)\n",
    "\n",
    "print(\"Processed papers csv file was successfully overwritten.\")"
   ]
  },
  {
   "cell_type": "code",
   "execution_count": 45,
   "id": "5636af9e",
   "metadata": {},
   "outputs": [
    {
     "name": "stdout",
     "output_type": "stream",
     "text": [
      "5 figures and 6 were removed.\n"
     ]
    }
   ],
   "source": [
    "# Checking if unprocessed ppaers are still on the disk\n",
    "for paper_row in processed_corrupted_papers:\n",
    "    if len(paper_row) != 3:\n",
    "        print(paper_row)\n",
    "    else:\n",
    "        paper_id = paper_row[0]\n",
    "        if not os.path.isdir(source_dir+paper_id):\n",
    "            raise ValueError(f\"No files found for paper {paper_id}\")\n",
    "            \n",
    "paper_ids = [row[0] for row in processed_corrupted_papers]\n",
    "critical_figs = []\n",
    "critical_tabs = []\n",
    "\n",
    "# Remove critical figures to allow for reprocessing\n",
    "with open(figure_metadata_file, \"r\", newline='', encoding='utf-8') as input_file:\n",
    "        with open(figure_output_dir + \"tmp.csv\", \"w\", newline='', encoding='utf-8') as output_file:\n",
    "            csv_reader = csv.reader(input_file, delimiter=';', quotechar='|', quoting=csv.QUOTE_MINIMAL)\n",
    "            csv_writer = csv.writer(output_file, delimiter=';', quotechar='|', quoting=csv.QUOTE_MINIMAL)\n",
    "            \n",
    "            for row in csv_reader:\n",
    "                if row[1] not in paper_ids:\n",
    "                    csv_writer.writerow(row)\n",
    "                else:\n",
    "                    critical_figs.append(row[0])\n",
    "os.replace(figure_output_dir + \"tmp.csv\", figure_metadata_file)\n",
    "\n",
    "# Remove critical figures to allow for reprocessing\n",
    "with open(table_metadata_file, \"r\", newline='', encoding='utf-8') as input_file:\n",
    "        with open(table_output_dir + \"tmp.csv\", \"w\", newline='', encoding='utf-8') as output_file:\n",
    "            csv_reader = csv.reader(input_file, delimiter=';', quotechar='|', quoting=csv.QUOTE_MINIMAL)\n",
    "            csv_writer = csv.writer(output_file, delimiter=';', quotechar='|', quoting=csv.QUOTE_MINIMAL)\n",
    "            \n",
    "            for row in csv_reader:\n",
    "                if row[1] not in paper_ids:\n",
    "                    csv_writer.writerow(row)\n",
    "                else:\n",
    "                    critical_tabs.append(row[0])\n",
    "os.replace(table_output_dir + \"tmp.csv\", table_metadata_file)\n",
    "\n",
    "print(f\"{len(critical_figs)} figures and {len(critical_tabs)} have been removed.\")"
   ]
  },
  {
   "cell_type": "code",
   "execution_count": 49,
   "id": "07396c61",
   "metadata": {},
   "outputs": [
    {
     "name": "stdout",
     "output_type": "stream",
     "text": [
      "Processed papers csv file was successfully overwritten.\n"
     ]
    }
   ],
   "source": [
    "# Removing these unprocessed papers from csv file\n",
    "with open(processed_metadata_file, \"r\", newline='', encoding='utf-8') as input_file:\n",
    "        with open(source_dir + \"tmp.csv\", \"w\", newline='', encoding='utf-8') as output_file:\n",
    "            csv_reader = csv.reader(input_file, delimiter=';', quotechar='|', quoting=csv.QUOTE_MINIMAL)\n",
    "            csv_writer = csv.writer(output_file, delimiter=';', quotechar='|', quoting=csv.QUOTE_MINIMAL)\n",
    "            \n",
    "            for row in csv_reader:\n",
    "                if row[0] not in paper_ids:\n",
    "                    csv_writer.writerow(row)\n",
    "                    \n",
    "# Replace old csv file with new csv file\n",
    "os.replace(source_dir + \"tmp.csv\", processed_metadata_file)\n",
    "\n",
    "print(\"Processed papers csv file was successfully overwritten.\")"
   ]
  },
  {
   "cell_type": "code",
   "execution_count": 7,
   "id": "944662cb",
   "metadata": {},
   "outputs": [
    {
     "name": "stdout",
     "output_type": "stream",
     "text": [
      "Check for source_files/papers.csv completed.\n",
      "Check for source_files/papers_processed.csv completed.\n",
      "Check for extracted_figures/figures.csv completed.\n",
      "Check for extracted_tables/tables.csv completed.\n"
     ]
    }
   ],
   "source": [
    "# Checking metadata files for double occurrences\n",
    "def check_for_double(file_path):\n",
    "    with open(file_path, \"r\", newline='', encoding='utf-8') as csv_file:\n",
    "        spamreader = csv.reader(csv_file, delimiter=';', quotechar='|', quoting=csv.QUOTE_MINIMAL)\n",
    "        id_set = set()\n",
    "        for row in spamreader:\n",
    "            if row[0] in id_set:\n",
    "                print(f\"Double finding of {row[0]}\")\n",
    "            id_set.add(row[0])\n",
    "    print(f\"Check for {file_path} completed.\")\n",
    "    \n",
    "check_for_double(source_metadata_file)\n",
    "check_for_double(processed_metadata_file)\n",
    "check_for_double(figure_metadata_file)\n",
    "check_for_double(table_metadata_file)"
   ]
  },
  {
   "cell_type": "code",
   "execution_count": 74,
   "id": "d84de89d",
   "metadata": {},
   "outputs": [
    {
     "name": "stdout",
     "output_type": "stream",
     "text": [
      "Check for extracted_tables/tables.csv complete. 0 rows were corrupted.\n",
      "Check for extracted_figures/figures.csv complete. 0 rows were corrupted.\n",
      "0 0\n"
     ]
    }
   ],
   "source": [
    "# Table and Figure checks\n",
    "\n",
    "table_rows = check_row_length(table_metadata_file, 5)\n",
    "figure_rows = check_row_length(figure_metadata_file, 5)\n",
    "\n",
    "print(len(table_rows), len(figure_rows))"
   ]
  },
  {
   "cell_type": "code",
   "execution_count": 69,
   "id": "9f0da8ca",
   "metadata": {},
   "outputs": [
    {
     "name": "stdout",
     "output_type": "stream",
     "text": [
      "Complete\n"
     ]
    }
   ],
   "source": [
    "for i in range(len(table_rows)):\n",
    "    table_rows[i][4] = \";\".join(table_rows[i][4:])\n",
    "    table_rows[i] = table_rows[i][:5]\n",
    "    \n",
    "for i in range(len(figure_rows)):\n",
    "    figure_rows[i][4] = \";\".join(figure_rows[i][4:])\n",
    "    figure_rows[i] = figure_rows[i][:5]\n",
    "\n",
    "\n",
    "for row in table_rows:\n",
    "    if len(row) != 5:\n",
    "        print(\"Error!\", row[0], len(row))\n",
    "        \n",
    "for row in figure_rows:\n",
    "    if len(row) != 5:\n",
    "        print(\"Error!\", row[0], len(row))\n",
    "        \n",
    "print(\"Complete\")"
   ]
  },
  {
   "cell_type": "code",
   "execution_count": 15,
   "id": "3c59b13c",
   "metadata": {},
   "outputs": [
    {
     "name": "stdout",
     "output_type": "stream",
     "text": [
      "2800 errors found.\n",
      "33511 errors found.\n",
      "Check complete.\n"
     ]
    }
   ],
   "source": [
    "import regex as re\n",
    "\n",
    "def refine_caption(file_path):\n",
    "    caption_regex = r\"\\\\caption\\{(([^{}]*(\\{[^{}]*\\})?[^{}]*)+)\\}\"\n",
    "    refined_captions = {}\n",
    "    counter = 0\n",
    "    with open(file_path, \"r\", newline='', encoding='utf-8') as csv_file:\n",
    "        spamreader = csv.reader(csv_file, delimiter=';', quotechar='|', quoting=csv.QUOTE_MINIMAL)\n",
    "        \n",
    "        for row in spamreader:\n",
    "            caption_match = re.search(caption_regex, row[3])\n",
    "            if caption_match:\n",
    "                refined_captions[row[0]] = caption_match.group(1)\n",
    "            else:\n",
    "                counter += 1\n",
    "        \n",
    "    print(f\"{counter} errors found.\")\n",
    "    return refined_captions\n",
    "                \n",
    "table_captions = refine_caption(table_metadata_file)\n",
    "figure_captions = refine_caption(figure_metadata_file)\n",
    "print(\"Check complete.\")"
   ]
  },
  {
   "cell_type": "code",
   "execution_count": 32,
   "id": "ccd6f6d8",
   "metadata": {},
   "outputs": [
    {
     "name": "stdout",
     "output_type": "stream",
     "text": [
      "0\n"
     ]
    }
   ],
   "source": [
    "# Replacing semicolons in captions\n",
    "for cap in figure_captions:\n",
    "    if \";\" in figure_captions[cap]:\n",
    "        figure_captions[cap] = figure_captions[cap].replace(\";\", \",\")\n",
    "        \n",
    "for cap in table_captions:\n",
    "    if \";\" in table_captions[cap]:\n",
    "        table_captions[cap] = table_captions[cap].replace(\";\", \",\")"
   ]
  },
  {
   "cell_type": "code",
   "execution_count": 43,
   "id": "d8bdc67b",
   "metadata": {},
   "outputs": [
    {
     "name": "stdout",
     "output_type": "stream",
     "text": [
      "CSV file was successfully overwritten.\n",
      "0\n",
      "CSV file was successfully overwritten.\n",
      "0\n"
     ]
    }
   ],
   "source": [
    "# Remove objects with mismatched caption regex\n",
    "def replace_objects(file_path, obj_dic, table=True):\n",
    "    with open(file_path, \"r\", newline='', encoding='utf-8') as input_file:\n",
    "        with open(\"tmp.csv\", \"w\", newline='', encoding='utf-8') as output_file:\n",
    "            csv_reader = csv.reader(input_file, delimiter=';', quotechar='|', quoting=csv.QUOTE_MINIMAL)\n",
    "            csv_writer = csv.writer(output_file, delimiter=';', quotechar='|', quoting=csv.QUOTE_MINIMAL)\n",
    "            \n",
    "            for row in csv_reader:\n",
    "                if row[0] in obj_dic:\n",
    "                    row[3] = obj_dic[row[0]]\n",
    "                    csv_writer.writerow(row)\n",
    "                else:\n",
    "                    if table:\n",
    "                        if os.path.isfile(table_code_dir + row[0] + \".tex\"):\n",
    "                            os.remove(table_code_dir + row[0] + \".tex\")\n",
    "                        if os.path.isfile(table_images_dir + row[0] + \".png\"):\n",
    "                            os.remove(table_images_dir + row[0] + \".png\")\n",
    "                    else:\n",
    "                        for ext in [\".png\", \".jpg\", \".jpeg\"]:\n",
    "                            if os.path.isfile(figure_output_dir + row[0] + ext):\n",
    "                                os.remove(figure_output_dir + row[0] + ext)\n",
    "                                break\n",
    "                    \n",
    "    # Replace old csv file with new csv file\n",
    "    os.replace(\"tmp.csv\", file_path)\n",
    "\n",
    "    print(\"CSV file was successfully overwritten.\")\n",
    "    \n",
    "replace_objects(table_metadata_file, table_captions)\n",
    "replace_objects(figure_metadata_file, figure_captions, False)"
   ]
  },
  {
   "cell_type": "code",
   "execution_count": 111,
   "id": "c1bc388a",
   "metadata": {},
   "outputs": [],
   "source": [
    "def analyze_text_mentions(file_path):\n",
    "    mention_lengths = np.array([])\n",
    "    with open(file_path, \"r\", newline='', encoding='utf-8') as csv_file:\n",
    "        spamreader = csv.reader(csv_file, delimiter=';', quotechar='|', quoting=csv.QUOTE_MINIMAL)\n",
    "        for row in spamreader:\n",
    "            if len(row) == 5:\n",
    "                mention_lengths = np.append(mention_lengths, len(row[-1].split()))\n",
    "            else:\n",
    "                raise ValueError(f\"Unexpected row length for {row[0]}.\")\n",
    "    \n",
    "    # Statistics\n",
    "    print(\"Number of samples:\", len(mention_lengths))\n",
    "    print(\"Lowest value:\", mention_lengths.min())\n",
    "    print(\"Highest value:\", mention_lengths.max())\n",
    "    print(\"Average value:\", np.average(mention_lengths))\n",
    "    print(\"Median value:\", np.median(mention_lengths))\n",
    "    \n",
    "    # Filtering large lengths\n",
    "    filtered_mention_lengths_1000 = [x for x in mention_lengths if x <= 1000]\n",
    "    filtered_mention_lengths_400 = [x for x in filtered_mention_lengths_1000 if x <= 400]\n",
    "    print(\"Number of objects with a text mention word length above 1000:\", len(mention_lengths)-len(filtered_mention_lengths_1000))\n",
    "    print(\"Number of objects with a text mention word length above 400:\", len(mention_lengths)-len(filtered_mention_lengths_400))\n",
    "    \n",
    "    # Plotting the figures\n",
    "    fig, axes = plt.subplots(1, 2, figsize=(12, 6), sharey=True)\n",
    "    axes[0].hist(filtered_mention_lengths_1000, bins=30, color='skyblue', edgecolor='black', alpha=0.7)\n",
    "    axes[0].set_title(\"Distribution of Text Mention Word Lengths (under 1000 words)\", fontsize=10)\n",
    "    axes[0].set_xlabel(\"Word Length\", fontsize=12)\n",
    "    axes[0].set_ylabel(\"Frequency\", fontsize=12)\n",
    "    axes[0].grid(axis='y', linestyle='--', alpha=0.7)\n",
    "    axes[1].hist(filtered_mention_lengths_400, bins=30, color='coral', edgecolor='black', alpha=0.7)\n",
    "    axes[1].set_title(\"Distribution of Text Mention Word Lengths (under 400 words)\", fontsize=10)\n",
    "    axes[1].set_xlabel(\"Word Length\", fontsize=12)\n",
    "    axes[1].grid(axis='y', linestyle='--', alpha=0.7)\n",
    "    plt.tight_layout()\n",
    "    plt.show()"
   ]
  },
  {
   "cell_type": "code",
   "execution_count": 112,
   "id": "5be65413",
   "metadata": {},
   "outputs": [
    {
     "name": "stdout",
     "output_type": "stream",
     "text": [
      "Number of samples: 33993\n",
      "Lowest value: 40.0\n",
      "Highest value: 10660.0\n",
      "Average value: 190.30041479128056\n",
      "Median value: 133.0\n",
      "Number of objects with a text mention word length above 1000: 296\n",
      "Number of objects with a text mention word length above 400: 2817\n"
     ]
    },
    {
     "data": {
      "image/png": "[encoded data removed]",
      "text/plain": [
       "<Figure size 1200x600 with 2 Axes>"
      ]
     },
     "metadata": {},
     "output_type": "display_data"
    }
   ],
   "source": [
    "analyze_text_mentions(table_metadata_file)"
   ]
  },
  {
   "cell_type": "code",
   "execution_count": 113,
   "id": "d751de00",
   "metadata": {},
   "outputs": [
    {
     "name": "stdout",
     "output_type": "stream",
     "text": [
      "Number of samples: 224497\n",
      "Lowest value: 40.0\n",
      "Highest value: 24090.0\n",
      "Average value: 190.6322801641002\n",
      "Median value: 135.0\n",
      "Number of objects with a text mention word length above 1000: 1725\n",
      "Number of objects with a text mention word length above 400: 19849\n"
     ]
    },
    {
     "data": {
      "image/png": "[encoded data removed]",
      "text/plain": [
       "<Figure size 1200x600 with 2 Axes>"
      ]
     },
     "metadata": {},
     "output_type": "display_data"
    }
   ],
   "source": [
    "analyze_text_mentions(figure_metadata_file)"
   ]
  },
  {
   "cell_type": "code",
   "execution_count": 115,
   "id": "8cd2932e",
   "metadata": {},
   "outputs": [
    {
     "name": "stdout",
     "output_type": "stream",
     "text": [
      "5008 35049\n"
     ]
    }
   ],
   "source": [
    "def check_word_length(file_path, threshold):\n",
    "    corrupted_objects = []\n",
    "    with open(file_path, \"r\", newline='', encoding='utf-8') as csv_file:\n",
    "        spamreader = csv.reader(csv_file, delimiter=';', quotechar='|', quoting=csv.QUOTE_MINIMAL)\n",
    "        for row in spamreader:\n",
    "            if len(row) == 5:\n",
    "                if len(row[-1].split()) > threshold:\n",
    "                    corrupted_objects.append(row[0])\n",
    "            else:\n",
    "                raise ValueError(f\"Unexpected row length for {row[0]}.\")\n",
    "    return corrupted_objects\n",
    "\n",
    "WORD_MAX_THRESHOLD = 300\n",
    "corrupted_tables = check_word_length(table_metadata_file, WORD_MAX_THRESHOLD)\n",
    "corrupted_figures = check_word_length(figure_metadata_file, WORD_MAX_THRESHOLD)\n",
    "\n",
    "print(len(corrupted_tables), len(corrupted_figures))"
   ]
  },
  {
   "cell_type": "code",
   "execution_count": 117,
   "id": "6daa8054",
   "metadata": {},
   "outputs": [
    {
     "name": "stdout",
     "output_type": "stream",
     "text": [
      "CSV file was successfully overwritten. 5008 objects have been removed.\n",
      "CSV file was successfully overwritten. 35049 objects have been removed.\n"
     ]
    }
   ],
   "source": [
    "def remove_objects(file_path, obj_list, table=True):\n",
    "    with open(file_path, \"r\", newline='', encoding='utf-8') as input_file:\n",
    "        with open(\"tmp.csv\", \"w\", newline='', encoding='utf-8') as output_file:\n",
    "            csv_reader = csv.reader(input_file, delimiter=';', quotechar='|', quoting=csv.QUOTE_MINIMAL)\n",
    "            csv_writer = csv.writer(output_file, delimiter=';', quotechar='|', quoting=csv.QUOTE_MINIMAL)\n",
    "            \n",
    "            counter = 0\n",
    "            for row in csv_reader:\n",
    "                if row[0] in obj_list: # Delete object\n",
    "                    counter += 1\n",
    "                    if table:\n",
    "                        if os.path.isfile(table_code_dir + row[0] + \".tex\"):\n",
    "                            os.remove(table_code_dir + row[0] + \".tex\")\n",
    "                        if os.path.isfile(table_images_dir + row[0] + \".png\"):\n",
    "                            os.remove(table_images_dir + row[0] + \".png\")\n",
    "                    else:\n",
    "                        for ext in [\".png\", \".jpg\", \".jpeg\"]:\n",
    "                            if os.path.isfile(figure_output_dir + row[0] + ext):\n",
    "                                os.remove(figure_output_dir + row[0] + ext)\n",
    "                                break\n",
    "                else:\n",
    "                    csv_writer.writerow(row)\n",
    "                    \n",
    "    # Replace old csv file with new csv file\n",
    "    os.replace(\"tmp.csv\", file_path)\n",
    "\n",
    "    print(f\"CSV file was successfully overwritten. {counter} objects have been removed.\")\n",
    "    \n",
    "remove_objects(table_metadata_file, corrupted_tables)\n",
    "remove_objects(figure_metadata_file, corrupted_figures, False)"
   ]
  },
  {
   "cell_type": "code",
   "execution_count": 6,
   "id": "1275a389",
   "metadata": {},
   "outputs": [
    {
     "name": "stdout",
     "output_type": "stream",
     "text": [
      "32 figures will be removed.\n"
     ]
    }
   ],
   "source": [
    "# Delete figure files from disk that are not part of the csv file\n",
    "figure_files = set(x.replace(\".png\", \"\") for x in os.listdir(figure_output_dir) if x.endswith(\".png\"))\n",
    "\n",
    "with open(figure_metadata_file, \"r\", newline='', encoding='utf-8') as csv_file:\n",
    "    spamreader = csv.reader(csv_file, delimiter=';', quotechar='|', quoting=csv.QUOTE_MINIMAL)\n",
    "    for row in spamreader:\n",
    "        figure = row[0]\n",
    "        if figure in figure_files:\n",
    "            figure_files.remove(figure)\n",
    "            \n",
    "print(f\"{len(figure_files)} figures will be removed.\")\n",
    "for figure in figure_files:\n",
    "    os.remove(figure_output_dir + figure + \".png\")"
   ]
  },
  {
   "cell_type": "code",
   "execution_count": null,
   "id": "e0aeff49",
   "metadata": {},
   "outputs": [],
   "source": []
  }
 ],
 "metadata": {
  "kernelspec": {
   "display_name": "Python 3 (ipykernel)",
   "language": "python",
   "name": "python3"
  },
  "language_info": {
   "codemirror_mode": {
    "name": "ipython",
    "version": 3
   },
   "file_extension": ".py",
   "mimetype": "text/x-python",
   "name": "python",
   "nbconvert_exporter": "python",
   "pygments_lexer": "ipython3",
   "version": "3.11.4"
  }
 },
 "nbformat": 4,
 "nbformat_minor": 5
}
