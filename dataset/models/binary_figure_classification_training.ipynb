{
 "cells": [
  {
   "cell_type": "code",
   "execution_count": 23,
   "id": "d57d089b-40cb-432f-b82e-2a8d79382e32",
   "metadata": {},
   "outputs": [],
   "source": [
    "import torch\n",
    "import torch.nn as nn\n",
    "import torch.nn.functional as F\n",
    "import torch.optim as optim\n",
    "from torchvision import datasets, transforms, models\n",
    "import os\n",
    "import matplotlib.pyplot as plt\n",
    "from PIL import Image"
   ]
  },
  {
   "cell_type": "code",
   "execution_count": 4,
   "id": "e6dd2c1e-6b78-4144-926c-19fbade195d6",
   "metadata": {},
   "outputs": [],
   "source": [
    "train_transform = transforms.Compose([\n",
    "    transforms.RandomResizedCrop(224),\n",
    "    transforms.RandomHorizontalFlip(),\n",
    "    transforms.ToTensor(),\n",
    "    transforms.Normalize(mean=[0.485, 0.456, 0.406], std=[0.229, 0.224, 0.225]) \n",
    "])\n",
    "\n",
    "test_transform = transforms.Compose([\n",
    "    transforms.Resize(256),\n",
    "    transforms.CenterCrop(224),\n",
    "    transforms.ToTensor(),\n",
    "    transforms.Normalize(mean=[0.485, 0.456, 0.406], std=[0.229, 0.224, 0.225])\n",
    "])"
   ]
  },
  {
   "cell_type": "code",
   "execution_count": 9,
   "id": "883ff77f-3c14-4fd6-a87a-2f887b7ca6a0",
   "metadata": {},
   "outputs": [
    {
     "name": "stdout",
     "output_type": "stream",
     "text": [
      "{'figure': 0, 'non_figure': 1}\n"
     ]
    }
   ],
   "source": [
    "# Data directory\n",
    "train_data = \"binary_train_dataset\"\n",
    "test_data = \"binary_test_dataset\"\n",
    "\n",
    "# Batch_size\n",
    "fixed_batch_size = 32\n",
    "\n",
    "# Load dataset\n",
    "train_dataset = datasets.ImageFolder(root=train_data, transform=train_transform)\n",
    "test_dataset = datasets.ImageFolder(root=test_data, transform=test_transform)\n",
    "\n",
    "# Data loader\n",
    "train_loader = torch.utils.data.DataLoader(train_dataset, batch_size=fixed_batch_size, shuffle=True, num_workers=4)\n",
    "test_loader = torch.utils.data.DataLoader(test_dataset, batch_size=fixed_batch_size, shuffle=False, num_workers=4)\n",
    "\n",
    "# Class to index mapping\n",
    "print(train_dataset.class_to_idx)"
   ]
  },
  {
   "cell_type": "code",
   "execution_count": 10,
   "id": "b58af0d7-1b11-4922-9811-5ed5e9508a28",
   "metadata": {},
   "outputs": [],
   "source": [
    "# Load the pre-trained model\n",
    "model = models.resnet18(pretrained=True)\n",
    "\n",
    "# Freezing all layers except the final classification layer\n",
    "for name, param in model.named_parameters():\n",
    "    if \"fc\" in name:\n",
    "        param.requires_grad = True # unfreeze final classification layer\n",
    "    else:\n",
    "        param.requires_grad = False\n",
    "\n",
    "# Modify final classification layer\n",
    "num_classes = 2\n",
    "model.fc = nn.Linear(model.fc.in_features, num_classes)\n",
    "\n",
    "# Loss function and optimizer\n",
    "criterion = nn.CrossEntropyLoss()\n",
    "optimizer = optim.SGD(model.parameters(), lr=0.005, momentum=0.9, weight_decay=5e-4)\n",
    "\n",
    "# Move model to the GPU\n",
    "device = torch.device('cuda' if torch.cuda.is_available() else 'cpu')\n",
    "model = model.to(device)"
   ]
  },
  {
   "cell_type": "code",
   "execution_count": 11,
   "id": "c2257532-7327-442d-a58a-d205026e6134",
   "metadata": {
    "scrolled": true
   },
   "outputs": [
    {
     "name": "stderr",
     "output_type": "stream",
     "text": [
      "/home/fuubian/.virtualenvs/py3/lib/python3.12/site-packages/PIL/Image.py:3406: DecompressionBombWarning: Image size (90641820 pixels) exceeds limit of 89478485 pixels, could be decompression bomb DOS attack.\n",
      "  warnings.warn(\n"
     ]
    },
    {
     "name": "stdout",
     "output_type": "stream",
     "text": [
      "Epoch 1, Loss: 0.4019\n"
     ]
    },
    {
     "name": "stderr",
     "output_type": "stream",
     "text": [
      "/home/fuubian/.virtualenvs/py3/lib/python3.12/site-packages/PIL/Image.py:3406: DecompressionBombWarning: Image size (90664210 pixels) exceeds limit of 89478485 pixels, could be decompression bomb DOS attack.\n",
      "  warnings.warn(\n",
      "/home/fuubian/.virtualenvs/py3/lib/python3.12/site-packages/PIL/Image.py:3406: DecompressionBombWarning: Image size (105472284 pixels) exceeds limit of 89478485 pixels, could be decompression bomb DOS attack.\n",
      "  warnings.warn(\n"
     ]
    },
    {
     "name": "stdout",
     "output_type": "stream",
     "text": [
      "Epoch 2, Loss: 0.3830\n"
     ]
    },
    {
     "name": "stderr",
     "output_type": "stream",
     "text": [
      "/home/fuubian/.virtualenvs/py3/lib/python3.12/site-packages/PIL/Image.py:3406: DecompressionBombWarning: Image size (107335158 pixels) exceeds limit of 89478485 pixels, could be decompression bomb DOS attack.\n",
      "  warnings.warn(\n",
      "/home/fuubian/.virtualenvs/py3/lib/python3.12/site-packages/PIL/Image.py:3406: DecompressionBombWarning: Image size (100411296 pixels) exceeds limit of 89478485 pixels, could be decompression bomb DOS attack.\n",
      "  warnings.warn(\n"
     ]
    },
    {
     "name": "stdout",
     "output_type": "stream",
     "text": [
      "Epoch 3, Loss: 0.3937\n"
     ]
    },
    {
     "name": "stderr",
     "output_type": "stream",
     "text": [
      "/home/fuubian/.virtualenvs/py3/lib/python3.12/site-packages/PIL/Image.py:3406: DecompressionBombWarning: Image size (102698238 pixels) exceeds limit of 89478485 pixels, could be decompression bomb DOS attack.\n",
      "  warnings.warn(\n"
     ]
    },
    {
     "name": "stdout",
     "output_type": "stream",
     "text": [
      "Epoch 4, Loss: 0.3651\n"
     ]
    },
    {
     "name": "stderr",
     "output_type": "stream",
     "text": [
      "/home/fuubian/.virtualenvs/py3/lib/python3.12/site-packages/PIL/Image.py:3406: DecompressionBombWarning: Image size (95992962 pixels) exceeds limit of 89478485 pixels, could be decompression bomb DOS attack.\n",
      "  warnings.warn(\n",
      "/home/fuubian/.virtualenvs/py3/lib/python3.12/site-packages/PIL/Image.py:3406: DecompressionBombWarning: Image size (112760574 pixels) exceeds limit of 89478485 pixels, could be decompression bomb DOS attack.\n",
      "  warnings.warn(\n",
      "/home/fuubian/.virtualenvs/py3/lib/python3.12/site-packages/PIL/Image.py:3406: DecompressionBombWarning: Image size (109798172 pixels) exceeds limit of 89478485 pixels, could be decompression bomb DOS attack.\n",
      "  warnings.warn(\n"
     ]
    },
    {
     "name": "stdout",
     "output_type": "stream",
     "text": [
      "Epoch 5, Loss: 0.3692\n"
     ]
    },
    {
     "name": "stderr",
     "output_type": "stream",
     "text": [
      "/home/fuubian/.virtualenvs/py3/lib/python3.12/site-packages/PIL/Image.py:3406: DecompressionBombWarning: Image size (108205272 pixels) exceeds limit of 89478485 pixels, could be decompression bomb DOS attack.\n",
      "  warnings.warn(\n",
      "/home/fuubian/.virtualenvs/py3/lib/python3.12/site-packages/PIL/Image.py:3406: DecompressionBombWarning: Image size (112012900 pixels) exceeds limit of 89478485 pixels, could be decompression bomb DOS attack.\n",
      "  warnings.warn(\n",
      "/home/fuubian/.virtualenvs/py3/lib/python3.12/site-packages/PIL/Image.py:3406: DecompressionBombWarning: Image size (92187108 pixels) exceeds limit of 89478485 pixels, could be decompression bomb DOS attack.\n",
      "  warnings.warn(\n",
      "/home/fuubian/.virtualenvs/py3/lib/python3.12/site-packages/PIL/Image.py:3406: DecompressionBombWarning: Image size (94644817 pixels) exceeds limit of 89478485 pixels, could be decompression bomb DOS attack.\n",
      "  warnings.warn(\n"
     ]
    },
    {
     "name": "stdout",
     "output_type": "stream",
     "text": [
      "Epoch 6, Loss: 0.3531\n"
     ]
    },
    {
     "name": "stderr",
     "output_type": "stream",
     "text": [
      "/home/fuubian/.virtualenvs/py3/lib/python3.12/site-packages/PIL/Image.py:3406: DecompressionBombWarning: Image size (99258952 pixels) exceeds limit of 89478485 pixels, could be decompression bomb DOS attack.\n",
      "  warnings.warn(\n"
     ]
    },
    {
     "name": "stdout",
     "output_type": "stream",
     "text": [
      "Epoch 7, Loss: 0.3287\n"
     ]
    },
    {
     "name": "stderr",
     "output_type": "stream",
     "text": [
      "/home/fuubian/.virtualenvs/py3/lib/python3.12/site-packages/PIL/Image.py:3406: DecompressionBombWarning: Image size (94454204 pixels) exceeds limit of 89478485 pixels, could be decompression bomb DOS attack.\n",
      "  warnings.warn(\n",
      "/home/fuubian/.virtualenvs/py3/lib/python3.12/site-packages/PIL/Image.py:3406: DecompressionBombWarning: Image size (90086874 pixels) exceeds limit of 89478485 pixels, could be decompression bomb DOS attack.\n",
      "  warnings.warn(\n",
      "/home/fuubian/.virtualenvs/py3/lib/python3.12/site-packages/PIL/Image.py:3406: DecompressionBombWarning: Image size (108246762 pixels) exceeds limit of 89478485 pixels, could be decompression bomb DOS attack.\n",
      "  warnings.warn(\n"
     ]
    },
    {
     "name": "stdout",
     "output_type": "stream",
     "text": [
      "Epoch 8, Loss: 0.3961\n"
     ]
    },
    {
     "name": "stderr",
     "output_type": "stream",
     "text": [
      "/home/fuubian/.virtualenvs/py3/lib/python3.12/site-packages/PIL/Image.py:3406: DecompressionBombWarning: Image size (123075392 pixels) exceeds limit of 89478485 pixels, could be decompression bomb DOS attack.\n",
      "  warnings.warn(\n",
      "/home/fuubian/.virtualenvs/py3/lib/python3.12/site-packages/PIL/Image.py:3406: DecompressionBombWarning: Image size (98823300 pixels) exceeds limit of 89478485 pixels, could be decompression bomb DOS attack.\n",
      "  warnings.warn(\n"
     ]
    },
    {
     "name": "stdout",
     "output_type": "stream",
     "text": [
      "Epoch 9, Loss: 0.3792\n"
     ]
    },
    {
     "name": "stderr",
     "output_type": "stream",
     "text": [
      "/home/fuubian/.virtualenvs/py3/lib/python3.12/site-packages/PIL/Image.py:3406: DecompressionBombWarning: Image size (109760824 pixels) exceeds limit of 89478485 pixels, could be decompression bomb DOS attack.\n",
      "  warnings.warn(\n",
      "/home/fuubian/.virtualenvs/py3/lib/python3.12/site-packages/PIL/Image.py:3406: DecompressionBombWarning: Image size (105305088 pixels) exceeds limit of 89478485 pixels, could be decompression bomb DOS attack.\n",
      "  warnings.warn(\n"
     ]
    },
    {
     "name": "stdout",
     "output_type": "stream",
     "text": [
      "Epoch 10, Loss: 0.3331\n"
     ]
    },
    {
     "name": "stderr",
     "output_type": "stream",
     "text": [
      "/home/fuubian/.virtualenvs/py3/lib/python3.12/site-packages/PIL/Image.py:3406: DecompressionBombWarning: Image size (112392168 pixels) exceeds limit of 89478485 pixels, could be decompression bomb DOS attack.\n",
      "  warnings.warn(\n",
      "/home/fuubian/.virtualenvs/py3/lib/python3.12/site-packages/PIL/Image.py:3406: DecompressionBombWarning: Image size (93323664 pixels) exceeds limit of 89478485 pixels, could be decompression bomb DOS attack.\n",
      "  warnings.warn(\n"
     ]
    },
    {
     "name": "stdout",
     "output_type": "stream",
     "text": [
      "Epoch 11, Loss: 0.3919\n"
     ]
    },
    {
     "name": "stderr",
     "output_type": "stream",
     "text": [
      "/home/fuubian/.virtualenvs/py3/lib/python3.12/site-packages/PIL/Image.py:3406: DecompressionBombWarning: Image size (107384840 pixels) exceeds limit of 89478485 pixels, could be decompression bomb DOS attack.\n",
      "  warnings.warn(\n",
      "/home/fuubian/.virtualenvs/py3/lib/python3.12/site-packages/PIL/Image.py:3406: DecompressionBombWarning: Image size (92553714 pixels) exceeds limit of 89478485 pixels, could be decompression bomb DOS attack.\n",
      "  warnings.warn(\n",
      "/home/fuubian/.virtualenvs/py3/lib/python3.12/site-packages/PIL/Image.py:3406: DecompressionBombWarning: Image size (96108992 pixels) exceeds limit of 89478485 pixels, could be decompression bomb DOS attack.\n",
      "  warnings.warn(\n"
     ]
    },
    {
     "name": "stdout",
     "output_type": "stream",
     "text": [
      "Epoch 12, Loss: 0.4526\n"
     ]
    },
    {
     "name": "stderr",
     "output_type": "stream",
     "text": [
      "/home/fuubian/.virtualenvs/py3/lib/python3.12/site-packages/PIL/Image.py:3406: DecompressionBombWarning: Image size (101845080 pixels) exceeds limit of 89478485 pixels, could be decompression bomb DOS attack.\n",
      "  warnings.warn(\n",
      "/home/fuubian/.virtualenvs/py3/lib/python3.12/site-packages/PIL/Image.py:3406: DecompressionBombWarning: Image size (90323334 pixels) exceeds limit of 89478485 pixels, could be decompression bomb DOS attack.\n",
      "  warnings.warn(\n"
     ]
    },
    {
     "name": "stdout",
     "output_type": "stream",
     "text": [
      "Epoch 13, Loss: 0.3505\n"
     ]
    },
    {
     "name": "stderr",
     "output_type": "stream",
     "text": [
      "/home/fuubian/.virtualenvs/py3/lib/python3.12/site-packages/PIL/Image.py:3406: DecompressionBombWarning: Image size (97819182 pixels) exceeds limit of 89478485 pixels, could be decompression bomb DOS attack.\n",
      "  warnings.warn(\n"
     ]
    },
    {
     "name": "stdout",
     "output_type": "stream",
     "text": [
      "Epoch 14, Loss: 0.3626\n"
     ]
    },
    {
     "name": "stderr",
     "output_type": "stream",
     "text": [
      "/home/fuubian/.virtualenvs/py3/lib/python3.12/site-packages/PIL/Image.py:3406: DecompressionBombWarning: Image size (97513752 pixels) exceeds limit of 89478485 pixels, could be decompression bomb DOS attack.\n",
      "  warnings.warn(\n"
     ]
    },
    {
     "name": "stdout",
     "output_type": "stream",
     "text": [
      "Epoch 15, Loss: 0.3758\n",
      "Training complete!\n"
     ]
    }
   ],
   "source": [
    "# Training loop\n",
    "num_epochs = 15\n",
    "for epoch in range(num_epochs):\n",
    "    model.train()  \n",
    "    running_loss = 0.0\n",
    "\n",
    "    for inputs, labels in train_loader:\n",
    "        inputs = inputs.to(device)\n",
    "        labels = labels.to(device)\n",
    "\n",
    "        optimizer.zero_grad()\n",
    "        outputs = model(inputs)\n",
    "        loss = criterion(outputs, labels)\n",
    "        loss.backward()  # Backpropagation\n",
    "        optimizer.step()  # Update weights\n",
    "        \n",
    "        running_loss += loss.item()\n",
    "    \n",
    "    print(f\"Epoch {epoch+1}, Loss: {running_loss/len(train_loader):.4f}\")\n",
    "\n",
    "print(\"Training complete!\")"
   ]
  },
  {
   "cell_type": "code",
   "execution_count": 12,
   "id": "c2eca6c0-b100-4078-99cc-76bcfe19c71a",
   "metadata": {},
   "outputs": [
    {
     "name": "stderr",
     "output_type": "stream",
     "text": [
      "/home/fuubian/.virtualenvs/py3/lib/python3.12/site-packages/PIL/Image.py:3406: DecompressionBombWarning: Image size (124232520 pixels) exceeds limit of 89478485 pixels, could be decompression bomb DOS attack.\n",
      "  warnings.warn(\n"
     ]
    },
    {
     "name": "stdout",
     "output_type": "stream",
     "text": [
      "Test Accuracy: 80.84%\n"
     ]
    }
   ],
   "source": [
    "# Model evaluation\n",
    "model.eval()  # Set model to evaluation mode\n",
    "correct = 0\n",
    "total = 0\n",
    "\n",
    "with torch.no_grad():\n",
    "    for inputs, labels in test_loader:\n",
    "        inputs, labels = inputs.to(device), labels.to(device)\n",
    "        outputs = model(inputs)\n",
    "        _, predicted = torch.max(outputs, 1)\n",
    "        total += labels.size(0)\n",
    "        correct += (predicted == labels).sum().item()\n",
    "\n",
    "print(f\"Test Accuracy: {100 * correct / total:.2f}%\")"
   ]
  },
  {
   "cell_type": "code",
   "execution_count": 13,
   "id": "8740cd84-ffb6-4580-bb89-1a5cc1075150",
   "metadata": {},
   "outputs": [],
   "source": [
    "torch.save(model.state_dict(), 'binary_classifier.pth')"
   ]
  },
  {
   "cell_type": "code",
   "execution_count": 70,
   "id": "9e31aca2-f461-4281-a9c7-d21e72f6dc1e",
   "metadata": {},
   "outputs": [
    {
     "name": "stderr",
     "output_type": "stream",
     "text": [
      "/tmp/ipykernel_13294/3843896128.py:2: FutureWarning: You are using `torch.load` with `weights_only=False` (the current default value), which uses the default pickle module implicitly. It is possible to construct malicious pickle data which will execute arbitrary code during unpickling (See https://github.com/pytorch/pytorch/blob/main/SECURITY.md#untrusted-models for more details). In a future release, the default value for `weights_only` will be flipped to `True`. This limits the functions that could be executed during unpickling. Arbitrary objects will no longer be allowed to be loaded via this mode unless they are explicitly allowlisted by the user via `torch.serialization.add_safe_globals`. We recommend you start setting `weights_only=True` for any use case where you don't have full control of the loaded file. Please open an issue on GitHub for any issues related to this experimental feature.\n",
      "  model.load_state_dict(torch.load(\"binary_classifier.pth\"))\n"
     ]
    }
   ],
   "source": [
    "# Binary classification\n",
    "model.load_state_dict(torch.load(\"binary_classifier.pth\"))\n",
    "model.eval()  # Set to evaluation mode\n",
    "\n",
    "def is_chart(image_path):\n",
    "    # Load the image from the file path\n",
    "    image = Image.open(image_path).convert(\"RGBA\")  # Convert to RGB for consistency\n",
    "    \n",
    "    # Preprocessing\n",
    "    transformed_image = test_transform(image)\n",
    "    transformed_image = transformed_image.unsqueeze(0)  # Add batch dimension\n",
    "\n",
    "    # Use binary classifier\n",
    "    transformed_image = transformed_image.to(device)\n",
    "    logits = model(transformed_image)\n",
    "    #confidence, pred = torch.max(output, 1)\n",
    "    probabilities = F.softmax(logits, dim=1)\n",
    "\n",
    "    confidence = probabilities[0, 1].item()  # Positive class confidence\n",
    "    #print(confidence)\n",
    "    pred = 1 if confidence <= 0.05 else 0  # Thresholding at 0.5\n",
    "    return pred\n",
    "    #return pred.item() == 0  # Return True if the image is a chart"
   ]
  },
  {
   "cell_type": "code",
   "execution_count": 71,
   "id": "d1780b6f-9a9a-4a69-b917-34862f902d61",
   "metadata": {},
   "outputs": [
    {
     "name": "stderr",
     "output_type": "stream",
     "text": [
      "/home/fuubian/.virtualenvs/py3/lib/python3.12/site-packages/PIL/Image.py:1054: UserWarning: Palette images with Transparency expressed in bytes should be converted to RGBA images\n",
      "  warnings.warn(\n",
      "/home/fuubian/.virtualenvs/py3/lib/python3.12/site-packages/PIL/Image.py:3406: DecompressionBombWarning: Image size (90678484 pixels) exceeds limit of 89478485 pixels, could be decompression bomb DOS attack.\n",
      "  warnings.warn(\n"
     ]
    }
   ],
   "source": [
    "dataset = \"figure_data/\"\n",
    "figure_dir = \"figures/\"\n",
    "non_figure_dir = \"non_figures/\"\n",
    "\n",
    "for image_file in os.listdir(dataset):\n",
    "    if is_chart(dataset+image_file):\n",
    "        os.rename(dataset + image_file, figure_dir + image_file)\n",
    "    else:\n",
    "        os.rename(dataset + image_file, non_figure_dir + image_file)"
   ]
  },
  {
   "cell_type": "code",
   "execution_count": null,
   "id": "ffc79cba-895e-421f-ae2d-ff2254257b43",
   "metadata": {},
   "outputs": [],
   "source": []
  }
 ],
 "metadata": {
  "kernelspec": {
   "display_name": "Python 3 (ipykernel)",
   "language": "python",
   "name": "python3"
  },
  "language_info": {
   "codemirror_mode": {
    "name": "ipython",
    "version": 3
   },
   "file_extension": ".py",
   "mimetype": "text/x-python",
   "name": "python",
   "nbconvert_exporter": "python",
   "pygments_lexer": "ipython3",
   "version": "3.12.3"
  }
 },
 "nbformat": 4,
 "nbformat_minor": 5
}
