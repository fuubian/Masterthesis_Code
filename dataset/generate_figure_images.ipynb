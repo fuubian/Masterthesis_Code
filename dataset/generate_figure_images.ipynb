{
 "cells": [
  {
   "cell_type": "code",
   "execution_count": null,
   "id": "8456a755",
   "metadata": {},
   "outputs": [],
   "source": [
    "import os\n",
    "from PIL import Image\n",
    "from pdf2image import convert_from_path"
   ]
  },
  {
   "cell_type": "code",
   "execution_count": null,
   "id": "f7e83752",
   "metadata": {},
   "outputs": [],
   "source": [
    "# File and Directory Paths\n",
    "output_dir = \"extracted_figures/\""
   ]
  },
  {
   "cell_type": "code",
   "execution_count": null,
   "id": "6bb9b717",
   "metadata": {},
   "outputs": [],
   "source": [
    "# EPS files\n",
    "eps_files = [x for x in os.listdir(output_dir) if x.endswith('.eps')]\n",
    "for file in eps_files:\n",
    "    print(file)\n",
    "    try:\n",
    "        with Image.open(output_dir + file) as img:\n",
    "            img.load(scale=10)\n",
    "            img.save(output_dir + file.replace(\".eps\", \".png\"), \"PNG\")\n",
    "        os.remove(output_dir + file)\n",
    "    except Exception as e:\n",
    "        print(f\"Error Type: {type(e).__name__}\")\n",
    "        error_message = str(e)[:100]\n",
    "        print(f\"Error Message: {error_message}\")\n",
    "        if type(e).__name__ == \"DecompressionBombError\":\n",
    "            os.remove(output_dir + file)"
   ]
  },
  {
   "cell_type": "code",
   "execution_count": null,
   "id": "ae87326e",
   "metadata": {},
   "outputs": [],
   "source": [
    "# PDF files\n",
    "pdf_files = [x for x in os.listdir(output_dir) if x.endswith('.pdf')]\n",
    "for file in pdf_files:\n",
    "    print(file)\n",
    "    try:\n",
    "        # Convert pdf to png file\n",
    "        images = convert_from_path(output_dir + file)\n",
    "        output_path = output_dir + file.replace(\".pdf\", \".png\")\n",
    "        images[0].save(output_path, \"PNG\")\n",
    "        \n",
    "        # Remove old pdf file\n",
    "        os.remove(output_dir + file)\n",
    "                       \n",
    "    except Exception as e:\n",
    "        print(f\"Error Type: {type(e).__name__}\")\n",
    "        error_message = str(e)[:100]\n",
    "        print(f\"Error Message: {error_message}\")\n",
    "        if type(e).__name__ == \"DecompressionBombError\":\n",
    "            os.remove(output_dir + file)"
   ]
  },
  {
   "cell_type": "code",
   "execution_count": null,
   "id": "f2577e85",
   "metadata": {},
   "outputs": [],
   "source": []
  }
 ],
 "metadata": {
  "kernelspec": {
   "display_name": "Python 3 (ipykernel)",
   "language": "python",
   "name": "python3"
  },
  "language_info": {
   "codemirror_mode": {
    "name": "ipython",
    "version": 3
   },
   "file_extension": ".py",
   "mimetype": "text/x-python",
   "name": "python",
   "nbconvert_exporter": "python",
   "pygments_lexer": "ipython3",
   "version": "3.10.9"
  }
 },
 "nbformat": 4,
 "nbformat_minor": 5
}
