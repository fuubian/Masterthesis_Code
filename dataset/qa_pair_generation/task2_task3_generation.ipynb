{
 "cells": [
  {
   "cell_type": "code",
   "execution_count": 1,
   "id": "7b463b8f",
   "metadata": {},
   "outputs": [],
   "source": [
    "import os\n",
    "import csv\n",
    "import random"
   ]
  },
  {
   "cell_type": "code",
   "execution_count": 2,
   "id": "c5a2e981",
   "metadata": {},
   "outputs": [],
   "source": [
    "# Input files\n",
    "paper_metadata_file = \"papers.csv\"\n",
    "figure_metadata_file = \"figures.csv\"\n",
    "table_metadata_file = \"tables.csv\"\n",
    "\n",
    "# Output files\n",
    "output_task2 = \"qa_pairs_task2.csv\"\n",
    "output_task3 = \"qa_pairs_task3.csv\"\n",
    "\n",
    "# Fixed values\n",
    "FIXED_PROBABILITY_FIGURE = 0.009\n",
    "FIXED_PROBABILITY_TABLE = 0.04\n",
    "FIXED_MAX_WORD_COUNT = 100"
   ]
  },
  {
   "cell_type": "code",
   "execution_count": 3,
   "id": "f68c7868",
   "metadata": {},
   "outputs": [
    {
     "name": "stdout",
     "output_type": "stream",
     "text": [
      "csv file with 2172 tables/figures was successfully created.\n"
     ]
    }
   ],
   "source": [
    "# Script for task 2\n",
    "input_files = [figure_metadata_file, table_metadata_file]\n",
    "probabilities = [FIXED_PROBABILITY_FIGURE, FIXED_PROBABILITY_TABLE]\n",
    "object_ids = set()\n",
    "output_dict = {}\n",
    "\n",
    "# Selecting tables and figures\n",
    "for x in range(len(input_files)):\n",
    "    with open(input_files[x], \"r\", encoding=\"utf-8\") as file:\n",
    "        csv_reader = csv.reader(file, delimiter=';', quotechar='|', quoting=csv.QUOTE_MINIMAL)\n",
    "        \n",
    "        for row in csv_reader:\n",
    "            if random.random() < probabilities[x]:\n",
    "                object_ids.add((row[0], row[1]))\n",
    "                \n",
    "# Obtaining paper titles\n",
    "paper_dict = {}\n",
    "with open(paper_metadata_file, \"r\", encoding=\"utf-8\") as file:\n",
    "    csv_reader = csv.reader(file, delimiter=';', quotechar='|', quoting=csv.QUOTE_MINIMAL)\n",
    "    \n",
    "    for row in csv_reader:\n",
    "        paper_dict[row[0]] = row[1]\n",
    "        \n",
    "# Putting both together\n",
    "for obj_id in object_ids:\n",
    "    paper_id = obj_id[1]\n",
    "    if paper_id in paper_dict:\n",
    "        output_dict[obj_id[0]] = paper_dict[paper_id]\n",
    "        \n",
    "# Storing in csv file\n",
    "with open(output_task2, \"w\", newline=\"\", encoding=\"utf-8\") as file:\n",
    "    csv_writer = csv.writer(file, delimiter=';', quotechar='|', quoting=csv.QUOTE_MINIMAL)\n",
    "    paper_name_list = list(paper_dict.values())\n",
    "    \n",
    "    for key in output_dict:\n",
    "        correct_title = output_dict[key]\n",
    "        random_selections = None\n",
    "        while True:\n",
    "            random_selections = random.sample(paper_name_list, 3)\n",
    "            if correct_title not in random_selections:\n",
    "                break\n",
    "        csv_writer.writerow([key, correct_title, random_selections[0], random_selections[1], random_selections[2]])\n",
    "\n",
    "# Print message\n",
    "print(f\"csv file with {len(object_ids)} tables/figures was successfully created.\")"
   ]
  },
  {
   "cell_type": "code",
   "execution_count": 4,
   "id": "a1c7fa06",
   "metadata": {},
   "outputs": [
    {
     "name": "stdout",
     "output_type": "stream",
     "text": [
      "csv file with 1746 tables/figures was successfully created.\n"
     ]
    }
   ],
   "source": [
    "# Script for task 3\n",
    "input_files = [figure_metadata_file, table_metadata_file]\n",
    "probabilities = [FIXED_PROBABILITY_FIGURE*2, FIXED_PROBABILITY_TABLE*2]\n",
    "output_dict = {}\n",
    "text_mentions_list = []\n",
    "\n",
    "# Selecting tables and figures\n",
    "for x in range(len(input_files)):\n",
    "    with open(input_files[x], \"r\", encoding=\"utf-8\") as file:\n",
    "        csv_reader = csv.reader(file, delimiter=';', quotechar='|', quoting=csv.QUOTE_MINIMAL)\n",
    "        \n",
    "        for row in csv_reader:\n",
    "            text_mention = row[-1]\n",
    "            \n",
    "            if len(text_mention.split()) <= FIXED_MAX_WORD_COUNT:\n",
    "                text_mentions_list.append(text_mention)\n",
    "                if random.random() < probabilities[x]:\n",
    "                    output_dict[row[0]] = text_mention\n",
    "                \n",
    "# Storing in csv file\n",
    "with open(output_task3, \"w\", newline=\"\", encoding=\"utf-8\") as file:\n",
    "    csv_writer = csv.writer(file, delimiter=';', quotechar='|', quoting=csv.QUOTE_MINIMAL)\n",
    "    \n",
    "    for key in output_dict:\n",
    "        correct_tm = output_dict[key]\n",
    "        random_selections = None\n",
    "        while True:\n",
    "            random_selections = random.sample(paper_name_list, 3)\n",
    "            if correct_tm not in random_selections:\n",
    "                break\n",
    "        csv_writer.writerow([key, correct_tm, random_selections[0], random_selections[1], random_selections[2]])\n",
    "\n",
    "# Print message\n",
    "print(f\"csv file with {len(output_dict.keys())} tables/figures was successfully created.\")"
   ]
  },
  {
   "cell_type": "code",
   "execution_count": null,
   "id": "4c490ddd",
   "metadata": {},
   "outputs": [],
   "source": []
  }
 ],
 "metadata": {
  "kernelspec": {
   "display_name": "Python 3 (ipykernel)",
   "language": "python",
   "name": "python3"
  },
  "language_info": {
   "codemirror_mode": {
    "name": "ipython",
    "version": 3
   },
   "file_extension": ".py",
   "mimetype": "text/x-python",
   "name": "python",
   "nbconvert_exporter": "python",
   "pygments_lexer": "ipython3",
   "version": "3.11.4"
  }
 },
 "nbformat": 4,
 "nbformat_minor": 5
}
