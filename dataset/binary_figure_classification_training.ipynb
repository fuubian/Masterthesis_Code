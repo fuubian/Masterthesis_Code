{
 "cells": [
  {
   "cell_type": "markdown",
   "id": "866bbedb-96b6-4df7-aac3-e28b8aafb12b",
   "metadata": {},
   "source": [
    "This notebook was created by usage of the tutorial \"Fine-tune SigLIP and friends for multi-label image classification\" by Niels Rogge. (https://github.com/NielsRogge/Transformers-Tutorials/blob/master/SigLIP/Fine_tuning_SigLIP_and_friends_for_multi_label_image_classification.ipynb)"
   ]
  },
  {
   "cell_type": "code",
   "execution_count": 1,
   "id": "d57d089b-40cb-432f-b82e-2a8d79382e32",
   "metadata": {},
   "outputs": [
    {
     "name": "stderr",
     "output_type": "stream",
     "text": [
      "2024-12-17 12:20:57.819131: E external/local_xla/xla/stream_executor/cuda/cuda_fft.cc:477] Unable to register cuFFT factory: Attempting to register factory for plugin cuFFT when one has already been registered\n",
      "WARNING: All log messages before absl::InitializeLog() is called are written to STDERR\n",
      "E0000 00:00:1734434457.832581  115230 cuda_dnn.cc:8310] Unable to register cuDNN factory: Attempting to register factory for plugin cuDNN when one has already been registered\n",
      "E0000 00:00:1734434457.836472  115230 cuda_blas.cc:1418] Unable to register cuBLAS factory: Attempting to register factory for plugin cuBLAS when one has already been registered\n",
      "2024-12-17 12:20:57.849838: I tensorflow/core/platform/cpu_feature_guard.cc:210] This TensorFlow binary is optimized to use available CPU instructions in performance-critical operations.\n",
      "To enable the following instructions: AVX2 FMA, in other operations, rebuild TensorFlow with the appropriate compiler flags.\n"
     ]
    }
   ],
   "source": [
    "import os\n",
    "import torch\n",
    "from PIL import Image\n",
    "from torchvision import datasets, transforms\n",
    "from torch.optim import AdamW\n",
    "from tqdm.auto import tqdm\n",
    "from transformers import AutoProcessor, AutoModel\n",
    "from transformers import AutoImageProcessor, AutoModelForImageClassification\n",
    "from sklearn.metrics import f1_score, classification_report"
   ]
  },
  {
   "cell_type": "code",
   "execution_count": 2,
   "id": "e6dd2c1e-6b78-4144-926c-19fbade195d6",
   "metadata": {},
   "outputs": [
    {
     "name": "stdout",
     "output_type": "stream",
     "text": [
      "{'figure': 0, 'non_figure': 1}\n"
     ]
    }
   ],
   "source": [
    "# Specify model\n",
    "model_id = \"google/siglip-base-patch16-224\"\n",
    "\n",
    "# Get appropriate size, mean and std based on the image processor\n",
    "processor = AutoImageProcessor.from_pretrained(model_id)\n",
    "\n",
    "\n",
    "# Define transform operation\n",
    "size = processor.size[\"height\"]\n",
    "mean = processor.image_mean\n",
    "std = processor.image_std\n",
    "transform = transforms.Compose([\n",
    "    transforms.Resize((size, size)),\n",
    "    transforms.ToTensor(),\n",
    "    transforms.Normalize(mean=mean, std=std),\n",
    "])\n",
    "\n",
    "# Data directories\n",
    "train_data = \"binary_train_dataset\"\n",
    "test_data = \"binary_test_dataset\"\n",
    "model_dir = \"models/\"\n",
    "\n",
    "# Learning variables\n",
    "fixed_batch_size = 32\n",
    "fixed_num_workers = 2\n",
    "\n",
    "# Load dataset\n",
    "train_dataset = datasets.ImageFolder(root=train_data, transform=transform)\n",
    "test_dataset = datasets.ImageFolder(root=test_data, transform=transform)\n",
    "\n",
    "# Data loader\n",
    "train_loader = torch.utils.data.DataLoader(train_dataset, batch_size=fixed_batch_size, shuffle=True, num_workers=fixed_num_workers)\n",
    "test_loader = torch.utils.data.DataLoader(test_dataset, batch_size=fixed_batch_size, shuffle=False, num_workers=fixed_num_workers)\n",
    "\n",
    "# Class to index mapping\n",
    "print(train_dataset.class_to_idx)"
   ]
  },
  {
   "cell_type": "code",
   "execution_count": 3,
   "id": "78263fc2-0261-4696-acff-ecea14688e23",
   "metadata": {},
   "outputs": [],
   "source": [
    "# Found at https://github.com/wenwei202/pytorch-examples/blob/ecbb7beb0fac13133c0b09ef980caf002969d315/imagenet/main.py#L296\n",
    "class AverageMeter(object):\n",
    "    \"\"\"Computes and stores the average and current value\"\"\"\n",
    "    def __init__(self):\n",
    "        self.reset()\n",
    "\n",
    "    def reset(self):\n",
    "        self.val = 0\n",
    "        self.avg = 0\n",
    "        self.sum = 0\n",
    "        self.count = 0\n",
    "\n",
    "    def update(self, val, n=1):\n",
    "        self.val = val\n",
    "        self.sum += val * n\n",
    "        self.count += n\n",
    "        self.avg = self.sum / self.count"
   ]
  },
  {
   "cell_type": "code",
   "execution_count": 4,
   "id": "b58af0d7-1b11-4922-9811-5ed5e9508a28",
   "metadata": {},
   "outputs": [
    {
     "name": "stderr",
     "output_type": "stream",
     "text": [
      "Some weights of SiglipForImageClassification were not initialized from the model checkpoint at google/siglip-base-patch16-224 and are newly initialized: ['classifier.bias', 'classifier.weight']\n",
      "You should probably TRAIN this model on a down-stream task to be able to use it for predictions and inference.\n"
     ]
    }
   ],
   "source": [
    "# Load the pre-trained model\n",
    "model = AutoModelForImageClassification.from_pretrained(model_id, problem_type=\"single_label_classification\")\n",
    "\n",
    "# Move model to the GPU\n",
    "device = torch.device('cuda' if torch.cuda.is_available() else 'cpu')\n",
    "model = model.to(device)\n",
    "\n",
    "# Loss function and optimizer\n",
    "optimizer = AdamW(model.parameters(), lr=5e-5)\n",
    "losses = AverageMeter()"
   ]
  },
  {
   "cell_type": "code",
   "execution_count": 5,
   "id": "c2257532-7327-442d-a58a-d205026e6134",
   "metadata": {
    "scrolled": true
   },
   "outputs": [
    {
     "data": {
      "application/vnd.jupyter.widget-view+json": {
       "model_id": "783bafb69e4c4397a12577e8d91fc5cd",
       "version_major": 2,
       "version_minor": 0
      },
      "text/plain": [
       "  0%|          | 0/166 [00:00<?, ?it/s]"
      ]
     },
     "metadata": {},
     "output_type": "display_data"
    },
    {
     "name": "stderr",
     "output_type": "stream",
     "text": [
      "/home/fuubian/.virtualenvs/py3/lib/python3.12/site-packages/PIL/Image.py:1054: UserWarning: Palette images with Transparency expressed in bytes should be converted to RGBA images\n",
      "  warnings.warn(\n",
      "/home/fuubian/.virtualenvs/py3/lib/python3.12/site-packages/PIL/Image.py:1054: UserWarning: Palette images with Transparency expressed in bytes should be converted to RGBA images\n",
      "  warnings.warn(\n",
      "/home/fuubian/.virtualenvs/py3/lib/python3.12/site-packages/PIL/Image.py:1054: UserWarning: Palette images with Transparency expressed in bytes should be converted to RGBA images\n",
      "  warnings.warn(\n"
     ]
    },
    {
     "name": "stdout",
     "output_type": "stream",
     "text": [
      "Epoch 1, Loss: 0.2515\n"
     ]
    },
    {
     "data": {
      "application/vnd.jupyter.widget-view+json": {
       "model_id": "091e88ccc48b4312bb3fc6dd4d0ce8e1",
       "version_major": 2,
       "version_minor": 0
      },
      "text/plain": [
       "  0%|          | 0/166 [00:00<?, ?it/s]"
      ]
     },
     "metadata": {},
     "output_type": "display_data"
    },
    {
     "name": "stderr",
     "output_type": "stream",
     "text": [
      "Exception ignored in: <function _MultiProcessingDataLoaderIter.__del__ at 0x7f2011b471a0>\n",
      "Traceback (most recent call last):\n",
      "  File \"/home/fuubian/.virtualenvs/py3/lib/python3.12/site-packages/torch/utils/data/dataloader.py\", line 1604, in __del__\n",
      "Exception ignored in:     <function _MultiProcessingDataLoaderIter.__del__ at 0x7f2011b471a0>self._shutdown_workers()\n",
      "\n",
      "Traceback (most recent call last):\n",
      "  File \"/home/fuubian/.virtualenvs/py3/lib/python3.12/site-packages/torch/utils/data/dataloader.py\", line 1587, in _shutdown_workers\n",
      "  File \"/home/fuubian/.virtualenvs/py3/lib/python3.12/site-packages/torch/utils/data/dataloader.py\", line 1604, in __del__\n",
      "        if w.is_alive():self._shutdown_workers()\n",
      "\n",
      "   File \"/home/fuubian/.virtualenvs/py3/lib/python3.12/site-packages/torch/utils/data/dataloader.py\", line 1587, in _shutdown_workers\n",
      "      if w.is_alive(): \n",
      "     ^ ^ ^ ^Exception ignored in:  ^<function _MultiProcessingDataLoaderIter.__del__ at 0x7f2011b471a0>Exception ignored in:  ^\n",
      "<function _MultiProcessingDataLoaderIter.__del__ at 0x7f2011b471a0>^^Traceback (most recent call last):\n",
      "^\n",
      "^  File \"/home/fuubian/.virtualenvs/py3/lib/python3.12/site-packages/torch/utils/data/dataloader.py\", line 1604, in __del__\n",
      "^Traceback (most recent call last):\n",
      "^  File \"/home/fuubian/.virtualenvs/py3/lib/python3.12/site-packages/torch/utils/data/dataloader.py\", line 1604, in __del__\n",
      "^    ^^self._shutdown_workers()^    ^^\n",
      "self._shutdown_workers()\n",
      "^  File \"/home/fuubian/.virtualenvs/py3/lib/python3.12/site-packages/torch/utils/data/dataloader.py\", line 1587, in _shutdown_workers\n",
      "\n",
      "  File \"/usr/lib/python3.12/multiprocessing/process.py\", line 160, in is_alive\n",
      "^  File \"/home/fuubian/.virtualenvs/py3/lib/python3.12/site-packages/torch/utils/data/dataloader.py\", line 1587, in _shutdown_workers\n",
      "        ^    if w.is_alive():assert self._parent_pid == os.getpid(), 'can only test a child process'^if w.is_alive():^\n",
      "\n",
      "\n",
      "^   \n",
      "     File \"/usr/lib/python3.12/multiprocessing/process.py\", line 160, in is_alive\n",
      "           assert self._parent_pid == os.getpid(), 'can only test a child process'   \n",
      "      ^ ^ ^ ^ ^ ^ ^^  ^^ ^^^ ^^^ ^^^ ^^^ ^^^ ^^^^^^^^\n",
      "^\n",
      "^  File \"/usr/lib/python3.12/multiprocessing/process.py\", line 160, in is_alive\n",
      "^  File \"/usr/lib/python3.12/multiprocessing/process.py\", line 160, in is_alive\n",
      "^    ^^    assert self._parent_pid == os.getpid(), 'can only test a child process'^^assert self._parent_pid == os.getpid(), 'can only test a child process'\n",
      "^^\n",
      " ^^  ^^  ^^  ^^ ^  ^^  ^^  ^^  ^^  ^^  ^^ ^^^ ^^^^^^^^^^^^^^^^^^^^^^^^^^^^^^\n",
      "^^^AssertionError^^^: ^^^can only test a child process^^^\n",
      "^^^^\n",
      "^^AssertionError^^: ^^can only test a child process^^\n",
      "^^^^^^^^^^^^^^^^^^^^^^^^\n",
      "^AssertionError^: ^can only test a child process\n",
      "\n",
      "AssertionError: can only test a child process\n",
      "/home/fuubian/.virtualenvs/py3/lib/python3.12/site-packages/PIL/Image.py:1054: UserWarning: Palette images with Transparency expressed in bytes should be converted to RGBA images\n",
      "  warnings.warn(\n",
      "/home/fuubian/.virtualenvs/py3/lib/python3.12/site-packages/PIL/Image.py:1054: UserWarning: Palette images with Transparency expressed in bytes should be converted to RGBA images\n",
      "  warnings.warn(\n"
     ]
    },
    {
     "name": "stdout",
     "output_type": "stream",
     "text": [
      "Epoch 2, Loss: 0.1141\n"
     ]
    },
    {
     "data": {
      "application/vnd.jupyter.widget-view+json": {
       "model_id": "7a943565060e40ba85ec50ad80dbb271",
       "version_major": 2,
       "version_minor": 0
      },
      "text/plain": [
       "  0%|          | 0/166 [00:00<?, ?it/s]"
      ]
     },
     "metadata": {},
     "output_type": "display_data"
    },
    {
     "name": "stderr",
     "output_type": "stream",
     "text": [
      "/home/fuubian/.virtualenvs/py3/lib/python3.12/site-packages/PIL/Image.py:1054: UserWarning: Palette images with Transparency expressed in bytes should be converted to RGBA images\n",
      "  warnings.warn(\n",
      "/home/fuubian/.virtualenvs/py3/lib/python3.12/site-packages/PIL/Image.py:1054: UserWarning: Palette images with Transparency expressed in bytes should be converted to RGBA images\n",
      "  warnings.warn(\n"
     ]
    },
    {
     "name": "stdout",
     "output_type": "stream",
     "text": [
      "Epoch 3, Loss: 0.0577\n"
     ]
    },
    {
     "data": {
      "application/vnd.jupyter.widget-view+json": {
       "model_id": "5b7e83009e9d4cf1abb374315e6094bc",
       "version_major": 2,
       "version_minor": 0
      },
      "text/plain": [
       "  0%|          | 0/166 [00:00<?, ?it/s]"
      ]
     },
     "metadata": {},
     "output_type": "display_data"
    },
    {
     "name": "stderr",
     "output_type": "stream",
     "text": [
      "/home/fuubian/.virtualenvs/py3/lib/python3.12/site-packages/PIL/Image.py:1054: UserWarning: Palette images with Transparency expressed in bytes should be converted to RGBA images\n",
      "  warnings.warn(\n",
      "/home/fuubian/.virtualenvs/py3/lib/python3.12/site-packages/PIL/Image.py:1054: UserWarning: Palette images with Transparency expressed in bytes should be converted to RGBA images\n",
      "  warnings.warn(\n"
     ]
    },
    {
     "name": "stdout",
     "output_type": "stream",
     "text": [
      "Epoch 4, Loss: 0.0339\n"
     ]
    },
    {
     "data": {
      "application/vnd.jupyter.widget-view+json": {
       "model_id": "1ebef2f3864f4bc4b0c34d00d098562e",
       "version_major": 2,
       "version_minor": 0
      },
      "text/plain": [
       "  0%|          | 0/166 [00:00<?, ?it/s]"
      ]
     },
     "metadata": {},
     "output_type": "display_data"
    },
    {
     "name": "stderr",
     "output_type": "stream",
     "text": [
      "Exception ignored in: <function _MultiProcessingDataLoaderIter.__del__ at 0x7f2011b471a0>\n",
      "Traceback (most recent call last):\n",
      "  File \"/home/fuubian/.virtualenvs/py3/lib/python3.12/site-packages/torch/utils/data/dataloader.py\", line 1604, in __del__\n",
      "    self._shutdown_workers()\n",
      "  File \"/home/fuubian/.virtualenvs/py3/lib/python3.12/site-packages/torch/utils/data/dataloader.py\", line 1587, in _shutdown_workers\n",
      "    if w.is_alive():\n",
      "       ^^^^^^^^^^^^\n",
      "  File \"/usr/lib/python3.12/multiprocessing/process.py\", line 160, in is_alive\n",
      "    assert self._parent_pid == os.getpid(), 'can only test a child process'Exception ignored in: \n",
      "<function _MultiProcessingDataLoaderIter.__del__ at 0x7f2011b471a0> \n",
      " Traceback (most recent call last):\n",
      "   File \"/home/fuubian/.virtualenvs/py3/lib/python3.12/site-packages/torch/utils/data/dataloader.py\", line 1604, in __del__\n",
      "      self._shutdown_workers() \n",
      "   File \"/home/fuubian/.virtualenvs/py3/lib/python3.12/site-packages/torch/utils/data/dataloader.py\", line 1587, in _shutdown_workers\n",
      "      if w.is_alive(): \n",
      " ^ ^ ^ ^ ^ ^ ^ ^^^^^^^^^^^^^^^^^^^^^^^^^\n",
      "^  File \"/usr/lib/python3.12/multiprocessing/process.py\", line 160, in is_alive\n",
      "^    ^assert self._parent_pid == os.getpid(), 'can only test a child process'^\n",
      "^ ^ ^ ^ ^ ^ ^ \n",
      " AssertionError :  can only test a child process \n",
      "^^Exception ignored in: ^^<function _MultiProcessingDataLoaderIter.__del__ at 0x7f2011b471a0>^\n",
      "^Traceback (most recent call last):\n",
      "^  File \"/home/fuubian/.virtualenvs/py3/lib/python3.12/site-packages/torch/utils/data/dataloader.py\", line 1604, in __del__\n",
      "^    ^self._shutdown_workers()^\n",
      "^  File \"/home/fuubian/.virtualenvs/py3/lib/python3.12/site-packages/torch/utils/data/dataloader.py\", line 1587, in _shutdown_workers\n",
      "^^    ^if w.is_alive():^\n",
      "^ ^ ^ ^ ^ ^ ^ ^^^^^^^^^^^^^^^^^^\n",
      "^AssertionError^: ^can only test a child process\n",
      "\n",
      "  File \"/usr/lib/python3.12/multiprocessing/process.py\", line 160, in is_alive\n",
      "    Exception ignored in: assert self._parent_pid == os.getpid(), 'can only test a child process'<function _MultiProcessingDataLoaderIter.__del__ at 0x7f2011b471a0>\n",
      "\n",
      "  Traceback (most recent call last):\n",
      "   File \"/home/fuubian/.virtualenvs/py3/lib/python3.12/site-packages/torch/utils/data/dataloader.py\", line 1604, in __del__\n",
      "      self._shutdown_workers() \n",
      "   File \"/home/fuubian/.virtualenvs/py3/lib/python3.12/site-packages/torch/utils/data/dataloader.py\", line 1587, in _shutdown_workers\n",
      "      if w.is_alive(): \n",
      "  ^ ^ ^ ^ ^ ^ ^^^^^^^^^^^^^^^^^^^^^^^^^^\n",
      "^  File \"/usr/lib/python3.12/multiprocessing/process.py\", line 160, in is_alive\n",
      "^    ^assert self._parent_pid == os.getpid(), 'can only test a child process'^\n",
      "^ ^ ^ ^ ^ ^ ^ \n",
      " AssertionError :  can only test a child process \n",
      "^^^^^^^^^^^^^^^^^^^^^^^^^^^^^^^\n",
      "AssertionError: can only test a child process\n",
      "/home/fuubian/.virtualenvs/py3/lib/python3.12/site-packages/PIL/Image.py:1054: UserWarning: Palette images with Transparency expressed in bytes should be converted to RGBA images\n",
      "  warnings.warn(\n",
      "Exception ignored in: <function _MultiProcessingDataLoaderIter.__del__ at 0x7f2011b471a0>\n",
      "Traceback (most recent call last):\n",
      "  File \"/home/fuubian/.virtualenvs/py3/lib/python3.12/site-packages/torch/utils/data/dataloader.py\", line 1604, in __del__\n",
      "    self._shutdown_workers()\n",
      "  File \"/home/fuubian/.virtualenvs/py3/lib/python3.12/site-packages/torch/utils/data/dataloader.py\", line 1587, in _shutdown_workers\n",
      "    if w.is_alive():\n",
      "       ^^^^^^^^^^^^\n",
      "  File \"/usr/lib/python3.12/multiprocessing/process.py\", line 160, in is_alive\n",
      "    assert self._parent_pid == os.getpid(), 'can only test a child process'\n",
      "           ^^^^^^^^^^^^^^^^^^^^^^^^^^^^^^^\n",
      "AssertionError: can only test a child process\n",
      "Exception ignored in: <function _MultiProcessingDataLoaderIter.__del__ at 0x7f2011b471a0>\n",
      "Traceback (most recent call last):\n",
      "  File \"/home/fuubian/.virtualenvs/py3/lib/python3.12/site-packages/torch/utils/data/dataloader.py\", line 1604, in __del__\n",
      "    self._shutdown_workers()\n",
      "  File \"/home/fuubian/.virtualenvs/py3/lib/python3.12/site-packages/torch/utils/data/dataloader.py\", line 1587, in _shutdown_workers\n",
      "    if w.is_alive():\n",
      "       ^^^^^^^^^^^^\n",
      "  File \"/usr/lib/python3.12/multiprocessing/process.py\", line 160, in is_alive\n",
      "    assert self._parent_pid == os.getpid(), 'can only test a child process'\n",
      "           ^^^^^^^^^^^^^^^^^^^^^^^^^^^^^^^\n",
      "AssertionError: can only test a child process\n",
      "/home/fuubian/.virtualenvs/py3/lib/python3.12/site-packages/PIL/Image.py:1054: UserWarning: Palette images with Transparency expressed in bytes should be converted to RGBA images\n",
      "  warnings.warn(\n"
     ]
    },
    {
     "name": "stdout",
     "output_type": "stream",
     "text": [
      "Epoch 5, Loss: 0.0603\n"
     ]
    },
    {
     "data": {
      "application/vnd.jupyter.widget-view+json": {
       "model_id": "cda9d0cdfd834ff7975f587b924efa2b",
       "version_major": 2,
       "version_minor": 0
      },
      "text/plain": [
       "  0%|          | 0/166 [00:00<?, ?it/s]"
      ]
     },
     "metadata": {},
     "output_type": "display_data"
    },
    {
     "name": "stderr",
     "output_type": "stream",
     "text": [
      "/home/fuubian/.virtualenvs/py3/lib/python3.12/site-packages/PIL/Image.py:1054: UserWarning: Palette images with Transparency expressed in bytes should be converted to RGBA images\n",
      "  warnings.warn(\n",
      "/home/fuubian/.virtualenvs/py3/lib/python3.12/site-packages/PIL/Image.py:1054: UserWarning: Palette images with Transparency expressed in bytes should be converted to RGBA images\n",
      "  warnings.warn(\n"
     ]
    },
    {
     "name": "stdout",
     "output_type": "stream",
     "text": [
      "Epoch 6, Loss: 0.0550\n"
     ]
    },
    {
     "data": {
      "application/vnd.jupyter.widget-view+json": {
       "model_id": "7c248e0e87fd409ebcf771a02a7dfe5b",
       "version_major": 2,
       "version_minor": 0
      },
      "text/plain": [
       "  0%|          | 0/166 [00:00<?, ?it/s]"
      ]
     },
     "metadata": {},
     "output_type": "display_data"
    },
    {
     "name": "stderr",
     "output_type": "stream",
     "text": [
      "/home/fuubian/.virtualenvs/py3/lib/python3.12/site-packages/PIL/Image.py:1054: UserWarning: Palette images with Transparency expressed in bytes should be converted to RGBA images\n",
      "  warnings.warn(\n",
      "/home/fuubian/.virtualenvs/py3/lib/python3.12/site-packages/PIL/Image.py:1054: UserWarning: Palette images with Transparency expressed in bytes should be converted to RGBA images\n",
      "  warnings.warn(\n"
     ]
    },
    {
     "name": "stdout",
     "output_type": "stream",
     "text": [
      "Epoch 7, Loss: 0.0192\n"
     ]
    },
    {
     "data": {
      "application/vnd.jupyter.widget-view+json": {
       "model_id": "4f4750c04650428196740791cc4a11dc",
       "version_major": 2,
       "version_minor": 0
      },
      "text/plain": [
       "  0%|          | 0/166 [00:00<?, ?it/s]"
      ]
     },
     "metadata": {},
     "output_type": "display_data"
    },
    {
     "name": "stderr",
     "output_type": "stream",
     "text": [
      "/home/fuubian/.virtualenvs/py3/lib/python3.12/site-packages/PIL/Image.py:1054: UserWarning: Palette images with Transparency expressed in bytes should be converted to RGBA images\n",
      "  warnings.warn(\n",
      "/home/fuubian/.virtualenvs/py3/lib/python3.12/site-packages/PIL/Image.py:1054: UserWarning: Palette images with Transparency expressed in bytes should be converted to RGBA images\n",
      "  warnings.warn(\n"
     ]
    },
    {
     "name": "stdout",
     "output_type": "stream",
     "text": [
      "Epoch 8, Loss: 0.0391\n"
     ]
    },
    {
     "data": {
      "application/vnd.jupyter.widget-view+json": {
       "model_id": "eb466244ea45482a95d3d357d68f13e3",
       "version_major": 2,
       "version_minor": 0
      },
      "text/plain": [
       "  0%|          | 0/166 [00:00<?, ?it/s]"
      ]
     },
     "metadata": {},
     "output_type": "display_data"
    },
    {
     "name": "stderr",
     "output_type": "stream",
     "text": [
      "Exception ignored in: <function _MultiProcessingDataLoaderIter.__del__ at 0x7f2011b471a0>\n",
      "Traceback (most recent call last):\n",
      "  File \"/home/fuubian/.virtualenvs/py3/lib/python3.12/site-packages/torch/utils/data/dataloader.py\", line 1604, in __del__\n",
      "    self._shutdown_workers()\n",
      "  File \"/home/fuubian/.virtualenvs/py3/lib/python3.12/site-packages/torch/utils/data/dataloader.py\", line 1587, in _shutdown_workers\n",
      "    if w.is_alive():\n",
      "Exception ignored in:  <function _MultiProcessingDataLoaderIter.__del__ at 0x7f2011b471a0>  \n",
      " Traceback (most recent call last):\n",
      "   File \"/home/fuubian/.virtualenvs/py3/lib/python3.12/site-packages/torch/utils/data/dataloader.py\", line 1604, in __del__\n",
      "      self._shutdown_workers()^\n",
      "^^  File \"/home/fuubian/.virtualenvs/py3/lib/python3.12/site-packages/torch/utils/data/dataloader.py\", line 1587, in _shutdown_workers\n",
      "^    ^if w.is_alive():^\n",
      "^ ^ ^ ^^ Exception ignored in: ^ <function _MultiProcessingDataLoaderIter.__del__ at 0x7f2011b471a0> \n",
      "\n",
      "   File \"/usr/lib/python3.12/multiprocessing/process.py\", line 160, in is_alive\n",
      "Traceback (most recent call last):\n",
      "^      File \"/home/fuubian/.virtualenvs/py3/lib/python3.12/site-packages/torch/utils/data/dataloader.py\", line 1604, in __del__\n",
      "^assert self._parent_pid == os.getpid(), 'can only test a child process'    ^\n",
      "^self._shutdown_workers() \n",
      "^ ^  File \"/home/fuubian/.virtualenvs/py3/lib/python3.12/site-packages/torch/utils/data/dataloader.py\", line 1587, in _shutdown_workers\n",
      " ^     ^if w.is_alive(): ^ ^\n",
      " ^  ^  \n",
      "  Exception ignored in:   File \"/usr/lib/python3.12/multiprocessing/process.py\", line 160, in is_alive\n",
      "  <function _MultiProcessingDataLoaderIter.__del__ at 0x7f2011b471a0>     ^\n",
      "assert self._parent_pid == os.getpid(), 'can only test a child process' ^\n",
      "Traceback (most recent call last):\n",
      " ^   File \"/home/fuubian/.virtualenvs/py3/lib/python3.12/site-packages/torch/utils/data/dataloader.py\", line 1604, in __del__\n",
      "^^ ^^     ^^self._shutdown_workers() ^^\n",
      " ^^  File \"/home/fuubian/.virtualenvs/py3/lib/python3.12/site-packages/torch/utils/data/dataloader.py\", line 1587, in _shutdown_workers\n",
      " ^^     ^^if w.is_alive(): ^^ \n",
      "^^  ^^  ^^^ ^^^ ^\n",
      "^ ^  File \"/usr/lib/python3.12/multiprocessing/process.py\", line 160, in is_alive\n",
      "^ ^^     ^^^assert self._parent_pid == os.getpid(), 'can only test a child process'^^^^\n",
      "^^^ ^^^ ^^^ ^^^ ^^^^ ^^ ^^^ ^^^ ^^^ ^^^ ^\n",
      "^ \n",
      "  File \"/usr/lib/python3.12/multiprocessing/process.py\", line 160, in is_alive\n",
      "^^AssertionError    ^^: ^assert self._parent_pid == os.getpid(), 'can only test a child process'^can only test a child process^\n",
      "^\n",
      "^ ^^ ^^ ^^Exception ignored in:  ^^<function _MultiProcessingDataLoaderIter.__del__ at 0x7f2011b471a0> ^^\n",
      " ^^Traceback (most recent call last):\n",
      " ^^  File \"/home/fuubian/.virtualenvs/py3/lib/python3.12/site-packages/torch/utils/data/dataloader.py\", line 1604, in __del__\n",
      " ^\n",
      "     ^AssertionError ^self._shutdown_workers():  ^\n",
      "can only test a child process^\n",
      "^  File \"/home/fuubian/.virtualenvs/py3/lib/python3.12/site-packages/torch/utils/data/dataloader.py\", line 1587, in _shutdown_workers\n",
      "^^    ^^if w.is_alive():^Exception ignored in: ^\n",
      "^<function _MultiProcessingDataLoaderIter.__del__ at 0x7f2011b471a0>^ ^\n",
      "^ ^Traceback (most recent call last):\n",
      "^ ^  File \"/home/fuubian/.virtualenvs/py3/lib/python3.12/site-packages/torch/utils/data/dataloader.py\", line 1604, in __del__\n",
      " ^^     ^^self._shutdown_workers() ^^ \n",
      "^^^  File \"/home/fuubian/.virtualenvs/py3/lib/python3.12/site-packages/torch/utils/data/dataloader.py\", line 1587, in _shutdown_workers\n",
      "^^^    ^^^^if w.is_alive():^^\n",
      "^^^ ^\n",
      "^ ^AssertionError^ ^: ^ ^can only test a child process^ ^\n",
      " ^^ ^^Exception ignored in: ^^^<function _MultiProcessingDataLoaderIter.__del__ at 0x7f2011b471a0>\n",
      "^^\n",
      "  File \"/usr/lib/python3.12/multiprocessing/process.py\", line 160, in is_alive\n",
      "^^Traceback (most recent call last):\n",
      "    ^^  File \"/home/fuubian/.virtualenvs/py3/lib/python3.12/site-packages/torch/utils/data/dataloader.py\", line 1604, in __del__\n",
      "^^assert self._parent_pid == os.getpid(), 'can only test a child process'    ^^\n",
      "self._shutdown_workers()^^ \n",
      "^^   File \"/home/fuubian/.virtualenvs/py3/lib/python3.12/site-packages/torch/utils/data/dataloader.py\", line 1587, in _shutdown_workers\n",
      "^     \n",
      " if w.is_alive(): AssertionError\n",
      " :   can only test a child process  ^\n",
      "  ^  Exception ignored in: ^  ^<function _MultiProcessingDataLoaderIter.__del__ at 0x7f2011b471a0> ^\n",
      "\n",
      " ^  File \"/usr/lib/python3.12/multiprocessing/process.py\", line 160, in is_alive\n",
      "Traceback (most recent call last):\n",
      "^^  File \"/home/fuubian/.virtualenvs/py3/lib/python3.12/site-packages/torch/utils/data/dataloader.py\", line 1604, in __del__\n",
      "    ^^assert self._parent_pid == os.getpid(), 'can only test a child process'^    ^\n",
      "^self._shutdown_workers()^ \n",
      "^^   File \"/home/fuubian/.virtualenvs/py3/lib/python3.12/site-packages/torch/utils/data/dataloader.py\", line 1587, in _shutdown_workers\n",
      "^ ^^    ^ ^if w.is_alive():^ ^\n",
      "^ ^^  ^ ^^ ^ \n",
      " ^   File \"/usr/lib/python3.12/multiprocessing/process.py\", line 160, in is_alive\n",
      " ^      ^ assert self._parent_pid == os.getpid(), 'can only test a child process'^^ \n",
      "^^^ ^^^ ^^^ ^^^^ ^^ ^^^ ^^^ ^^^ ^^^ ^^^ ^^^ ^^^^^^\n",
      "^\n",
      "^  File \"/usr/lib/python3.12/multiprocessing/process.py\", line 160, in is_alive\n",
      "^AssertionError^    ^: assert self._parent_pid == os.getpid(), 'can only test a child process'^^can only test a child process\n",
      "^^\n",
      "^ ^^ ^^ ^^Exception ignored in:  ^^<function _MultiProcessingDataLoaderIter.__del__ at 0x7f2011b471a0> ^^\n",
      " ^^ Traceback (most recent call last):\n",
      "^^  File \"/home/fuubian/.virtualenvs/py3/lib/python3.12/site-packages/torch/utils/data/dataloader.py\", line 1604, in __del__\n",
      " ^^ ^    ^ ^^self._shutdown_workers() ^^\n",
      "^^^  File \"/home/fuubian/.virtualenvs/py3/lib/python3.12/site-packages/torch/utils/data/dataloader.py\", line 1587, in _shutdown_workers\n",
      "^\n",
      "^    ^AssertionError^if w.is_alive():^: ^\n",
      "^can only test a child process^ ^\n",
      "^ ^^ ^Exception ignored in: ^ ^<function _MultiProcessingDataLoaderIter.__del__ at 0x7f2011b471a0>^ ^\n",
      "^^ Traceback (most recent call last):\n",
      "^^   File \"/home/fuubian/.virtualenvs/py3/lib/python3.12/site-packages/torch/utils/data/dataloader.py\", line 1604, in __del__\n",
      "^^^^    ^^^self._shutdown_workers()^^\n",
      "\n",
      "^^AssertionError  File \"/home/fuubian/.virtualenvs/py3/lib/python3.12/site-packages/torch/utils/data/dataloader.py\", line 1587, in _shutdown_workers\n",
      "^^: ^    can only test a child process^if w.is_alive():^\n",
      "^\n",
      "^^ ^Exception ignored in: ^ ^<function _MultiProcessingDataLoaderIter.__del__ at 0x7f2011b471a0>^^\n",
      "^ ^Traceback (most recent call last):\n",
      "^   File \"/home/fuubian/.virtualenvs/py3/lib/python3.12/site-packages/torch/utils/data/dataloader.py\", line 1604, in __del__\n",
      "^ ^\n",
      "     ^  File \"/usr/lib/python3.12/multiprocessing/process.py\", line 160, in is_alive\n",
      "self._shutdown_workers() ^\n",
      "    ^^  File \"/home/fuubian/.virtualenvs/py3/lib/python3.12/site-packages/torch/utils/data/dataloader.py\", line 1587, in _shutdown_workers\n",
      "assert self._parent_pid == os.getpid(), 'can only test a child process'^^\n",
      "^    ^ ^if w.is_alive():\n",
      " ^\n",
      "AssertionError ^ :  ^  can only test a child process^  \n",
      "^  ^  ^Exception ignored in:   ^<function _MultiProcessingDataLoaderIter.__del__ at 0x7f2011b471a0>  \n",
      "\n",
      "^   File \"/usr/lib/python3.12/multiprocessing/process.py\", line 160, in is_alive\n",
      "Traceback (most recent call last):\n",
      "^^      File \"/home/fuubian/.virtualenvs/py3/lib/python3.12/site-packages/torch/utils/data/dataloader.py\", line 1604, in __del__\n",
      "^^assert self._parent_pid == os.getpid(), 'can only test a child process'^    ^\n",
      "^^self._shutdown_workers() ^^\n",
      " ^^  File \"/home/fuubian/.virtualenvs/py3/lib/python3.12/site-packages/torch/utils/data/dataloader.py\", line 1587, in _shutdown_workers\n",
      " ^^     ^^ if w.is_alive():^^ \n",
      "^^  ^^  ^\n",
      "  ^  File \"/usr/lib/python3.12/multiprocessing/process.py\", line 160, in is_alive\n",
      "  ^  ^ ^^ ^^^^^    ^^assert self._parent_pid == os.getpid(), 'can only test a child process'^^^^\n",
      "^^^ ^^^ ^^^ ^^^ ^^^ ^^^ ^^^ ^^^ ^^^ \n",
      "^^   File \"/usr/lib/python3.12/multiprocessing/process.py\", line 160, in is_alive\n",
      "^^     \n",
      "^^assert self._parent_pid == os.getpid(), 'can only test a child process'AssertionError^^\n",
      ": ^^ ^can only test a child process^\n",
      "^^^^ ^^ ^^ ^^ ^^ ^^ ^^ ^^ ^^ ^^ ^\n",
      "^^AssertionError^^: ^^can only test a child process^^\n",
      "^^^^^^^^^^^^^^^^^^^^^^^\n",
      "^AssertionError^: ^can only test a child process^\n",
      "^^^^^^^^^^^\n",
      "AssertionError: can only test a child process\n",
      "/home/fuubian/.virtualenvs/py3/lib/python3.12/site-packages/PIL/Image.py:1054: UserWarning: Palette images with Transparency expressed in bytes should be converted to RGBA images\n",
      "  warnings.warn(\n",
      "/home/fuubian/.virtualenvs/py3/lib/python3.12/site-packages/PIL/Image.py:1054: UserWarning: Palette images with Transparency expressed in bytes should be converted to RGBA images\n",
      "  warnings.warn(\n"
     ]
    },
    {
     "name": "stdout",
     "output_type": "stream",
     "text": [
      "Epoch 9, Loss: 0.0153\n"
     ]
    },
    {
     "data": {
      "application/vnd.jupyter.widget-view+json": {
       "model_id": "14db79b2617b4845a27a5b3ba73f29ed",
       "version_major": 2,
       "version_minor": 0
      },
      "text/plain": [
       "  0%|          | 0/166 [00:00<?, ?it/s]"
      ]
     },
     "metadata": {},
     "output_type": "display_data"
    },
    {
     "name": "stderr",
     "output_type": "stream",
     "text": [
      "/home/fuubian/.virtualenvs/py3/lib/python3.12/site-packages/PIL/Image.py:1054: UserWarning: Palette images with Transparency expressed in bytes should be converted to RGBA images\n",
      "  warnings.warn(\n",
      "/home/fuubian/.virtualenvs/py3/lib/python3.12/site-packages/PIL/Image.py:1054: UserWarning: Palette images with Transparency expressed in bytes should be converted to RGBA images\n",
      "  warnings.warn(\n",
      "/home/fuubian/.virtualenvs/py3/lib/python3.12/site-packages/PIL/Image.py:1054: UserWarning: Palette images with Transparency expressed in bytes should be converted to RGBA images\n",
      "  warnings.warn(\n"
     ]
    },
    {
     "name": "stdout",
     "output_type": "stream",
     "text": [
      "Epoch 10, Loss: 0.0474\n",
      "Training complete!\n"
     ]
    }
   ],
   "source": [
    "# For training purpose\n",
    "Image.MAX_IMAGE_PIXELS = None\n",
    "\n",
    "# Training loop\n",
    "num_epochs = 10\n",
    "model.train()  \n",
    "for epoch in range(num_epochs):\n",
    "    running_loss = 0.0\n",
    "\n",
    "    for idx, batch in enumerate(tqdm(train_loader)):\n",
    "        # Get input\n",
    "        pixel_values, labels = batch\n",
    "\n",
    "        # Zero the parameter gradients\n",
    "        optimizer.zero_grad()\n",
    "\n",
    "        # Forward pass \n",
    "        outputs = model(\n",
    "            pixel_values=pixel_values.to(device),\n",
    "            labels=labels.to(device),\n",
    "        )\n",
    "        \n",
    "        # Calculate gradients\n",
    "        loss = outputs.loss\n",
    "        losses.update(loss.item(), pixel_values.size(0))\n",
    "        loss.backward()\n",
    "\n",
    "        # Update weights\n",
    "        optimizer.step()\n",
    "  \n",
    "        running_loss += loss.item()\n",
    "    \n",
    "    print(f\"Epoch {epoch+1}, Loss: {running_loss/len(train_loader):.4f}\")\n",
    "\n",
    "print(\"Training complete!\")"
   ]
  },
  {
   "cell_type": "code",
   "execution_count": 6,
   "id": "c2eca6c0-b100-4078-99cc-76bcfe19c71a",
   "metadata": {},
   "outputs": [
    {
     "data": {
      "application/vnd.jupyter.widget-view+json": {
       "model_id": "6d93dd4b46b0435b8c99ddb39ef1a962",
       "version_major": 2,
       "version_minor": 0
      },
      "text/plain": [
       "  0%|          | 0/21 [00:00<?, ?it/s]"
      ]
     },
     "metadata": {},
     "output_type": "display_data"
    },
    {
     "name": "stdout",
     "output_type": "stream",
     "text": [
      "Test Accuracy: 93.18%\n",
      "F1 Score: 0.74\n",
      "              precision    recall  f1-score   support\n",
      "\n",
      "      figure       0.95      0.97      0.96       554\n",
      "  non_figure       0.79      0.70      0.74        91\n",
      "\n",
      "    accuracy                           0.93       645\n",
      "   macro avg       0.87      0.84      0.85       645\n",
      "weighted avg       0.93      0.93      0.93       645\n",
      "\n"
     ]
    }
   ],
   "source": [
    "# Model evaluation\n",
    "model.eval()  # Set model to evaluation mode\n",
    "correct = 0\n",
    "total = 0\n",
    "all_labels = []\n",
    "all_predictions = []\n",
    "\n",
    "with torch.no_grad():\n",
    "    for idx, batch in enumerate(tqdm(test_loader)):\n",
    "        pixel_values, labels = batch\n",
    "        pixel_values, labels = pixel_values.to(device), labels.to(device)\n",
    "        \n",
    "        outputs = model(\n",
    "            pixel_values=pixel_values.to(device),\n",
    "            labels=labels.to(device),\n",
    "        )\n",
    "        \n",
    "        logits = outputs.logits\n",
    "        _, predicted = torch.max(logits, 1)\n",
    "        \n",
    "        total += labels.size(0)\n",
    "        correct += (predicted == labels).sum().item()\n",
    "        all_labels.extend(labels.cpu().numpy())\n",
    "        all_predictions.extend(predicted.cpu().numpy())\n",
    "\n",
    "# Accuracy\n",
    "accuracy = 100 * correct / total\n",
    "print(f\"Test Accuracy: {accuracy:.2f}%\")\n",
    "\n",
    "# F1 Score\n",
    "f1 = f1_score(all_labels, all_predictions, average=\"binary\")\n",
    "print(f\"F1 Score: {f1:.2f}\")\n",
    "\n",
    "# Classification report\n",
    "report = classification_report(all_labels, all_predictions, target_names=test_dataset.classes)\n",
    "print(report)"
   ]
  },
  {
   "cell_type": "code",
   "execution_count": 7,
   "id": "8740cd84-ffb6-4580-bb89-1a5cc1075150",
   "metadata": {},
   "outputs": [],
   "source": [
    "# Saving the model\n",
    "model_path = model_dir + 'binary_classifier.pth'\n",
    "torch.save(model.state_dict(), model_path)"
   ]
  },
  {
   "cell_type": "code",
   "execution_count": 8,
   "id": "9e31aca2-f461-4281-a9c7-d21e72f6dc1e",
   "metadata": {},
   "outputs": [
    {
     "name": "stderr",
     "output_type": "stream",
     "text": [
      "/tmp/ipykernel_115230/3735837704.py:3: FutureWarning: You are using `torch.load` with `weights_only=False` (the current default value), which uses the default pickle module implicitly. It is possible to construct malicious pickle data which will execute arbitrary code during unpickling (See https://github.com/pytorch/pytorch/blob/main/SECURITY.md#untrusted-models for more details). In a future release, the default value for `weights_only` will be flipped to `True`. This limits the functions that could be executed during unpickling. Arbitrary objects will no longer be allowed to be loaded via this mode unless they are explicitly allowlisted by the user via `torch.serialization.add_safe_globals`. We recommend you start setting `weights_only=True` for any use case where you don't have full control of the loaded file. Please open an issue on GitHub for any issues related to this experimental feature.\n",
      "  model.load_state_dict(torch.load(model_path))\n"
     ]
    }
   ],
   "source": [
    "# Binary classification example\n",
    "model_path = model_dir + 'binary_classifier.pth'\n",
    "model.load_state_dict(torch.load(model_path))\n",
    "model.eval()  # Set to evaluation mode\n",
    "\n",
    "def is_figure(image_path):\n",
    "    # Load the image from the file path\n",
    "    image = Image.open(image_path).convert('RGB')\n",
    "    \n",
    "    # Preprocessing\n",
    "    pixel_values = processor(image, return_tensors=\"pt\").pixel_values.to(device)\n",
    "\n",
    "    # Use binary classifier\n",
    "    with torch.no_grad():\n",
    "        outputs = model(pixel_values)\n",
    "        logits = outputs.logits\n",
    "        sigmoid = torch.nn.Sigmoid()\n",
    "        probs = sigmoid(logits.squeeze().cpu())\n",
    "        pred = 1 if probs[0].item() >= 0.80 else 0\n",
    "        return pred"
   ]
  },
  {
   "cell_type": "code",
   "execution_count": 9,
   "id": "d1780b6f-9a9a-4a69-b917-34862f902d61",
   "metadata": {},
   "outputs": [
    {
     "name": "stderr",
     "output_type": "stream",
     "text": [
      "/home/fuubian/.virtualenvs/py3/lib/python3.12/site-packages/PIL/Image.py:1054: UserWarning: Palette images with Transparency expressed in bytes should be converted to RGBA images\n",
      "  warnings.warn(\n"
     ]
    },
    {
     "name": "stdout",
     "output_type": "stream",
     "text": [
      "Exception for 2407.06552_FIG_1.png: Decompressed data too large for PngImagePlugin.MAX_TEXT_CHUNK\n",
      "Exception for 2407.00851_FIG_3.png: Decompressed data too large for PngImagePlugin.MAX_TEXT_CHUNK\n",
      "Classifying completed.\n"
     ]
    }
   ],
   "source": [
    "# Apply classifier on a subset of data\n",
    "dataset = \"figure_data/\"\n",
    "figure_dir = \"figures/\"\n",
    "non_figure_dir = \"non_figures/\"\n",
    "\n",
    "for image_file in os.listdir(dataset):\n",
    "    try:\n",
    "        if is_figure(dataset+image_file):\n",
    "            os.rename(dataset + image_file, figure_dir + image_file)\n",
    "        else:\n",
    "            os.rename(dataset + image_file, non_figure_dir + image_file)\n",
    "    except Exception as e:\n",
    "        print(f\"Exception for {image_file}: {e}\")\n",
    "\n",
    "print(\"Classifying completed.\")"
   ]
  },
  {
   "cell_type": "code",
   "execution_count": null,
   "id": "ead01c7f-f48c-4a8c-b9fc-0734347963d5",
   "metadata": {},
   "outputs": [],
   "source": []
  }
 ],
 "metadata": {
  "kernelspec": {
   "display_name": "Python 3 (ipykernel)",
   "language": "python",
   "name": "python3"
  },
  "language_info": {
   "codemirror_mode": {
    "name": "ipython",
    "version": 3
   },
   "file_extension": ".py",
   "mimetype": "text/x-python",
   "name": "python",
   "nbconvert_exporter": "python",
   "pygments_lexer": "ipython3",
   "version": "3.12.3"
  }
 },
 "nbformat": 4,
 "nbformat_minor": 5
}
