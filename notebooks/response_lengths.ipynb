{
 "cells": [
  {
   "cell_type": "code",
   "execution_count": 1,
   "id": "4b482515",
   "metadata": {},
   "outputs": [],
   "source": [
    "import csv\n",
    "import os"
   ]
  },
  {
   "cell_type": "code",
   "execution_count": 2,
   "id": "7674bb2c",
   "metadata": {},
   "outputs": [
    {
     "name": "stdout",
     "output_type": "stream",
     "text": [
      "Results for glm_responses_task1.csv: 8.60\n",
      "Results for gpt4_responses_task1.csv: 3.19\n",
      "Results for instructblip_responses_task1.csv: 7.26\n",
      "Results for internvl_1b_responses_task1.csv: 16.27\n",
      "Results for internvl_2b_responses_task1.csv: 22.15\n",
      "Results for internvl_4b_responses_task1.csv: 22.13\n",
      "Results for internvl_responses_task1.csv: 30.57\n",
      "Results for llava_responses_task1.csv: 4.65\n",
      "Results for minicpm_responses_task1.csv: 9.46\n",
      "Results for ovis_responses_task1.csv: 6.14\n",
      "Results for paligemma_finetuned_responses_task1.csv: 6.91\n",
      "Results for paligemma_responses_task1.csv: 17.10\n",
      "Results for qwen_responses_task1.csv: 4.66\n"
     ]
    }
   ],
   "source": [
    "list_files = os.listdir()\n",
    "\n",
    "for file in list_files:\n",
    "    if file.endswith(\".csv\") and \"code\" not in file:\n",
    "        word_count = 0\n",
    "        instances = 0\n",
    "        \n",
    "        with open(file, \"r\", encoding=\"utf-8\") as csv_file:\n",
    "            csv_reader = csv.reader(csv_file, delimiter=';', quotechar='|', quoting=csv.QUOTE_MINIMAL)\n",
    "            \n",
    "            for row in csv_reader:\n",
    "                word_count += len(row[-1].split())\n",
    "                instances += 1\n",
    "                \n",
    "        average_value = word_count / instances\n",
    "        print(f\"Results for {file}: {average_value:.2f}\")"
   ]
  },
  {
   "cell_type": "code",
   "execution_count": 3,
   "id": "803ea3a6",
   "metadata": {},
   "outputs": [
    {
     "name": "stdout",
     "output_type": "stream",
     "text": [
      "Results for qwen_responses_task1: 5.83\n"
     ]
    }
   ],
   "source": [
    "word_count = 0\n",
    "instances = 0\n",
    "\n",
    "with open(\"qwen_responses_task1.csv\", \"r\", encoding=\"utf-8\") as csv_file:\n",
    "    csv_reader = csv.reader(csv_file, delimiter=';', quotechar='|', quoting=csv.QUOTE_MINIMAL)\n",
    "\n",
    "    for row in csv_reader:\n",
    "        word_count += len(row[-2].split())\n",
    "        instances += 1\n",
    "\n",
    "average_value = word_count / instances\n",
    "print(f\"Results for qwen_responses_task1: {average_value:.2f}\")"
   ]
  },
  {
   "cell_type": "code",
   "execution_count": null,
   "id": "5bcdb43c",
   "metadata": {},
   "outputs": [],
   "source": []
  }
 ],
 "metadata": {
  "kernelspec": {
   "display_name": "Python 3 (ipykernel)",
   "language": "python",
   "name": "python3"
  },
  "language_info": {
   "codemirror_mode": {
    "name": "ipython",
    "version": 3
   },
   "file_extension": ".py",
   "mimetype": "text/x-python",
   "name": "python",
   "nbconvert_exporter": "python",
   "pygments_lexer": "ipython3",
   "version": "3.11.4"
  }
 },
 "nbformat": 4,
 "nbformat_minor": 5
}
