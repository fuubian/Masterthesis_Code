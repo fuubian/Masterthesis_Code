{
 "cells": [
  {
   "cell_type": "code",
   "execution_count": 2,
   "id": "f383acb2",
   "metadata": {},
   "outputs": [],
   "source": [
    "import os\n",
    "import csv\n",
    "import regex as re"
   ]
  },
  {
   "cell_type": "code",
   "execution_count": 3,
   "id": "0b2b176b",
   "metadata": {},
   "outputs": [],
   "source": [
    "# File paths\n",
    "original_answer_file = \"qwen_responses_task1.csv\"\n",
    "human_annotated_file = \"qwen_annotated.csv\"\n",
    "llm_accuracy_file = \"qwen_LLM_Acc_evaluation.txt\"\n",
    "mqm_file = \"qwenMQM_evaluation.txt\""
   ]
  },
  {
   "cell_type": "code",
   "execution_count": 19,
   "id": "8509fdbc",
   "metadata": {},
   "outputs": [],
   "source": [
    "# Fix structure of annotated file\n",
    "data_dict = {}\n",
    "\n",
    "with open(original_answer_file, \"r\", encoding=\"utf-8\") as csv_file:\n",
    "    csv_reader = csv.reader(csv_file, delimiter=';', quotechar='|', quoting=csv.QUOTE_MINIMAL)\n",
    "    \n",
    "    for row in csv_reader:\n",
    "        object_id = row[0]\n",
    "        content = [object_id, row[1], row[2], row[3]]\n",
    "        \n",
    "        data_dict[object_id] = content\n",
    "        \n",
    "with open(human_annotated_file, \"r\", encoding=\"utf-8\") as csv_file:\n",
    "    csv_reader = csv.reader(csv_file, delimiter=';', quotechar='|', quoting=csv.QUOTE_MINIMAL)\n",
    "    with open(\"tmp.csv\", \"w\", newline=\"\", encoding=\"utf-8\") as output_file:\n",
    "        csv_writer = csv.writer(output_file, delimiter=';', quotechar='|', quoting=csv.QUOTE_MINIMAL)\n",
    "    \n",
    "        for row in csv_reader:\n",
    "            if len(row) == 6:\n",
    "                rating_index = -2\n",
    "            elif len(row) == 5:\n",
    "                rating_index = -1\n",
    "            object_id = row[0]\n",
    "            \n",
    "            data_dict[object_id].append(row[rating_index])\n",
    "            csv_writer.writerow(data_dict[object_id])"
   ]
  },
  {
   "cell_type": "code",
   "execution_count": 28,
   "id": "16007fda",
   "metadata": {},
   "outputs": [
    {
     "name": "stdout",
     "output_type": "stream",
     "text": [
      "Average human total score:  0.6438\n",
      "Average human figure score: 0.5976\n",
      "Average human table score:  0.6953\n"
     ]
    }
   ],
   "source": [
    "# Read scores and print average accuracy\n",
    "human_scores = {}\n",
    "figure_score = 0\n",
    "table_score = 0\n",
    "total_score = 0\n",
    "total_figures = 0\n",
    "total_tables = 0\n",
    "\n",
    "with open(human_annotated_file, \"r\", encoding=\"utf-8\") as csv_file:\n",
    "    csv_reader = csv.reader(csv_file, delimiter=';', quotechar='|', quoting=csv.QUOTE_MINIMAL)\n",
    "    \n",
    "    for row in csv_reader:\n",
    "        object_id = row[0]\n",
    "        try:\n",
    "            score = float(row[-1])\n",
    "        except Exception:\n",
    "            print(row)\n",
    "            raise ValueError()\n",
    "        \n",
    "        if \"TAB\" in object_id:\n",
    "            table_score += score\n",
    "            total_tables += 1\n",
    "        elif \"FIG\" in object_id:\n",
    "            figure_score += score\n",
    "            total_figures += 1\n",
    "        \n",
    "        human_scores[object_id] = score\n",
    "\n",
    "print(f\"Average human total score:  {((figure_score + table_score) / (total_figures + total_tables)):.4f}\")\n",
    "print(f\"Average human figure score: {(figure_score / total_figures):.4f}\")\n",
    "print(f\"Average human table score:  {(table_score / total_tables):.4f}\")"
   ]
  },
  {
   "cell_type": "code",
   "execution_count": 33,
   "id": "75db0924",
   "metadata": {},
   "outputs": [
    {
     "name": "stdout",
     "output_type": "stream",
     "text": [
      "1684 scores retrieved.\n"
     ]
    }
   ],
   "source": [
    "# Obtain LLM-Acc Scores\n",
    "def processOutput(output):\n",
    "    regex_matches = re.match(r\"^(.*): Score: (0\\.5|0|1)\", output)\n",
    "    if regex_matches:\n",
    "        return regex_matches.group(1), float(regex_matches.group(2))\n",
    "    return None, None\n",
    "\n",
    "llm_accuracy_scores = {}\n",
    "\n",
    "with open(llm_accuracy_file, \"r\", encoding=\"utf-8\") as input_file:\n",
    "    for line in input_file:\n",
    "        object_id, score = processOutput(line)\n",
    "        if object_id:\n",
    "            llm_accuracy_scores[object_id] = score\n",
    "            \n",
    "print(f\"{len(llm_accuracy_scores)} scores retrieved.\")"
   ]
  },
  {
   "cell_type": "code",
   "execution_count": 37,
   "id": "dccc313d",
   "metadata": {},
   "outputs": [
    {
     "name": "stdout",
     "output_type": "stream",
     "text": [
      "Pearson Correlation: 0.7387\n",
      "P-value: 1.9182521950784916e-290\n"
     ]
    }
   ],
   "source": [
    "# Calculate Pearson Correlation\n",
    "from scipy.stats import pearsonr\n",
    "\n",
    "def calculate_pearson(dict1, dict2):\n",
    "    if dict1.keys() != dict2.keys():\n",
    "        print(f\"{len(dict1)}, {len(dict2)}\")\n",
    "        raise ValueError(\"The dictionaries must have the same keys.\")\n",
    "        \n",
    "    scores1 = [dict1[key] for key in dict1]\n",
    "    scores2 = [dict2[key] for key in dict2]\n",
    "    \n",
    "    correlation, p_value = pearsonr(scores1, scores2)\n",
    "    print(f\"Pearson Correlation: {correlation:.4f}\")\n",
    "    print(f\"P-value: {p_value}\")\n",
    "    \n",
    "def remove_scores(human_scores, llm_scores):\n",
    "    human_scores_removed = {}\n",
    "    \n",
    "    for key in human_scores:\n",
    "        if key in llm_scores:\n",
    "            human_scores_removed[key] = human_scores[key]\n",
    "            \n",
    "    return human_scores_removed\n",
    "    \n",
    "human_llm_accuracy_scores = remove_scores(human_scores, llm_accuracy_scores)\n",
    "calculate_pearson(human_llm_accuracy_scores, llm_accuracy_scores)"
   ]
  },
  {
   "cell_type": "code",
   "execution_count": 41,
   "id": "44eb942e",
   "metadata": {},
   "outputs": [
    {
     "name": "stdout",
     "output_type": "stream",
     "text": [
      "Distribution for human scores:\n",
      "Score: 0 -> 520 / 1798 -> 0.29\n",
      "Score: 0.5 -> 241 / 1798 -> 0.13\n",
      "Score: 1 -> 1037 / 1798 -> 0.58\n",
      "\n",
      "Distribution for LLM-Accuracy scores:\n",
      "Score: 0 -> 448 / 1684 -> 0.27\n",
      "Score: 0.5 -> 499 / 1684 -> 0.30\n",
      "Score: 1 -> 737 / 1684 -> 0.44\n"
     ]
    }
   ],
   "source": [
    "# Calculate percentage of scores:\n",
    "def calculate_score_distribution(data_dict, categories):\n",
    "    total_length = 0\n",
    "    score_distribution = {}\n",
    "    for c in categories:\n",
    "        score_distribution[c] = 0\n",
    "        \n",
    "    for object_id in data_dict:\n",
    "        score_distribution[data_dict[object_id]] += 1\n",
    "        total_length += 1\n",
    "        \n",
    "    for c in categories:\n",
    "        print(f\"Score: {c} -> {score_distribution[c]} / {total_length} -> {(score_distribution[c] / total_length):.2f}\")\n",
    "\n",
    "print(\"Distribution for human scores:\")\n",
    "calculate_score_distribution(human_scores, [0, 0.5, 1])\n",
    "\n",
    "print(\"\\nDistribution for LLM-Accuracy scores:\")\n",
    "calculate_score_distribution(llm_accuracy_scores, [0, 0.5, 1])"
   ]
  },
  {
   "cell_type": "code",
   "execution_count": null,
   "id": "340be3f8",
   "metadata": {},
   "outputs": [],
   "source": []
  }
 ],
 "metadata": {
  "kernelspec": {
   "display_name": "Python 3 (ipykernel)",
   "language": "python",
   "name": "python3"
  },
  "language_info": {
   "codemirror_mode": {
    "name": "ipython",
    "version": 3
   },
   "file_extension": ".py",
   "mimetype": "text/x-python",
   "name": "python",
   "nbconvert_exporter": "python",
   "pygments_lexer": "ipython3",
   "version": "3.11.4"
  }
 },
 "nbformat": 4,
 "nbformat_minor": 5
}
