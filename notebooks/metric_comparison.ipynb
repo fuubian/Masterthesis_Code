{
 "cells": [
  {
   "cell_type": "code",
   "execution_count": 1,
   "id": "f383acb2",
   "metadata": {},
   "outputs": [],
   "source": [
    "import os\n",
    "import csv\n",
    "import regex as re"
   ]
  },
  {
   "cell_type": "markdown",
   "id": "c710bedc",
   "metadata": {},
   "source": [
    "### Human evaluation of Qwen output following LLM-Accuracy"
   ]
  },
  {
   "cell_type": "code",
   "execution_count": 2,
   "id": "16007fda",
   "metadata": {},
   "outputs": [],
   "source": [
    "# Read scores and print average accuracy\n",
    "evaluation_item_list = \"human_evaluation_id.txt\"\n",
    "\n",
    "def process_scores(file_path, object_index=0, item_list=False):\n",
    "    h_scores =  {}\n",
    "    figure_score = 0\n",
    "    table_score = 0\n",
    "    total_score = 0\n",
    "    total_figures = 0\n",
    "    total_tables = 0\n",
    "    \n",
    "    item_set = set()\n",
    "    if item_list:\n",
    "        with open(evaluation_item_list, \"r\", encoding=\"utf_8\") as txt_file:\n",
    "            for line in txt_file:\n",
    "                item_set.add(line.replace(\"\\n\", \"\"))\n",
    "\n",
    "    with open(file_path, \"r\", encoding=\"utf-8\") as csv_file:\n",
    "        csv_reader = csv.reader(csv_file, delimiter=';', quotechar='|', quoting=csv.QUOTE_MINIMAL)\n",
    "\n",
    "        for row in csv_reader:\n",
    "            object_id = row[object_index]\n",
    "            \n",
    "            if item_list and object_id not in item_set:\n",
    "                continue\n",
    "            \n",
    "            try:\n",
    "                score = float(row[-1])\n",
    "            except Exception:\n",
    "                print(row)\n",
    "                raise ValueError()\n",
    "\n",
    "            if \"TAB\" in object_id:\n",
    "                table_score += score\n",
    "                total_tables += 1\n",
    "            elif \"FIG\" in object_id:\n",
    "                figure_score += score\n",
    "                total_figures += 1\n",
    "            else:\n",
    "                print(object_id)\n",
    "\n",
    "            h_scores[object_id] = score\n",
    "\n",
    "    print(f\"Average human total score:  {((figure_score + table_score) / (total_figures + total_tables)):.4f}\")\n",
    "    print(f\"Average human figure score: {(figure_score / total_figures):.4f}\")\n",
    "    print(f\"Average human table score:  {(table_score / total_tables):.4f}\")\n",
    "    \n",
    "    return h_scores"
   ]
  },
  {
   "cell_type": "code",
   "execution_count": 3,
   "id": "1096d0da",
   "metadata": {},
   "outputs": [
    {
     "name": "stdout",
     "output_type": "stream",
     "text": [
      "Overall human evaluation:\n",
      "Average human total score:  0.6466\n",
      "Average human figure score: 0.6013\n",
      "Average human table score:  0.6971\n",
      "\n",
      "Subset human evaluation:\n",
      "Average human total score:  0.7037\n",
      "Average human figure score: 0.6700\n",
      "Average human table score:  0.7235\n"
     ]
    }
   ],
   "source": [
    "human_annotated_file = \"qwen_annotated.csv\"\n",
    "\n",
    "print(\"Overall human evaluation:\")\n",
    "human_scores_overall = process_scores(human_annotated_file, item_list=False)\n",
    "\n",
    "print(\"\\nSubset human evaluation:\")\n",
    "human_scores_subset = process_scores(human_annotated_file, item_list=True)"
   ]
  },
  {
   "cell_type": "markdown",
   "id": "9963a38b",
   "metadata": {},
   "source": [
    "### Correlation between LLM-generated scores and human-annotated scores"
   ]
  },
  {
   "cell_type": "code",
   "execution_count": 4,
   "id": "75db0924",
   "metadata": {},
   "outputs": [
    {
     "name": "stdout",
     "output_type": "stream",
     "text": [
      "1798 scores retrieved.\n"
     ]
    }
   ],
   "source": [
    "# Obtain LLM-Acc Scores\n",
    "def processOutput_LLM(output, regex_expression):\n",
    "    regex_matches = re.match(regex_expression, output)\n",
    "    if regex_matches:\n",
    "        return regex_matches.group(1), float(regex_matches.group(2))\n",
    "    \n",
    "    return None, None\n",
    "\n",
    "def read_llm_acc_file(file_path, regex_expression=r\"^(.*): Score: (0\\.5|0|1)\"):\n",
    "    score_dict = {}\n",
    "    \n",
    "    with open(file_path, \"r\", encoding=\"utf-8\") as input_file:\n",
    "        for line in input_file:\n",
    "            object_id, score = processOutput_LLM(line, regex_expression)\n",
    "            if object_id:\n",
    "                score_dict[object_id] = score\n",
    "            \n",
    "    print(f\"{len(score_dict)} scores retrieved.\")\n",
    "    return score_dict\n",
    "\n",
    "llm_accuracy_file = \"qwen_LLM_Acc_evaluation.txt\"\n",
    "llm_accuracy_scores = read_llm_acc_file(llm_accuracy_file)"
   ]
  },
  {
   "cell_type": "code",
   "execution_count": 5,
   "id": "c4c747e8",
   "metadata": {},
   "outputs": [
    {
     "name": "stdout",
     "output_type": "stream",
     "text": [
      "1798 scores retrieved.\n"
     ]
    }
   ],
   "source": [
    "# Obtain VQA-MQM Scores\n",
    "error_types = {\n",
    "    \"Critical Value Error\": \"All values given in the response are significantly different.\",\n",
    "    \"Critical Factual Error\": \"The response presents statements that are fundamentally different from the reference.\",\n",
    "    \"Major Completeness Error\": \"The response misses relevant information from the reference.\",\n",
    "    \"Major Value Error\": \"One of multiple values is significantly different, affecting correctness.\",\n",
    "    \"Major Factual Error\": \"The response presents statements that partially contradict the reference.\",\n",
    "    \"Minor Value Error\": \"A value in the response deviates slightly from the reference but remains within an acceptable range (less than 10% deviation).\",\n",
    "    \"Minor Factual Error\": \"The response presents statements that slightly deviate from the reference.\",\n",
    "    \"Minor Completeness Error\": \"The response misses little information from the reference.\"\n",
    "}\n",
    "\n",
    "def calculate_score(output):\n",
    "    current_score = 1.0\n",
    "    for e_type in error_types:\n",
    "        matches = len(re.findall(e_type, output))\n",
    "\n",
    "        if matches > 0:\n",
    "            if \"Critical\" in e_type:\n",
    "                return 0\n",
    "\n",
    "            penalty_value = 0.5 if \"Major\" in e_type else 0.25\n",
    "            current_score -= penalty_value * matches\n",
    "\n",
    "            if current_score <= 0:\n",
    "                return 0\n",
    "\n",
    "    return current_score\n",
    "\n",
    "object_format_regex = r\"(\\d+\\.\\d+_(FIG|TAB)_\\d+):\"\n",
    "def read_mqm_file(file_path):\n",
    "    score_dict = {}\n",
    "    \n",
    "    with open(file_path, \"r\", encoding=\"utf-8\") as eval_file:\n",
    "        current_obj = None\n",
    "        current_text = \"\"\n",
    "        for line in eval_file:\n",
    "            if \"List of errors:\" in line:\n",
    "                if current_obj:\n",
    "                    score = calculate_score(current_text)\n",
    "                    score_dict[current_obj] = score\n",
    "                obj_match = re.match(object_format_regex, line)\n",
    "                if obj_match:\n",
    "                    current_obj = obj_match.group(1)\n",
    "                else:\n",
    "                    print(current_text)\n",
    "                    raise ValueError()\n",
    "                current_text = \"\"\n",
    "            else:\n",
    "                current_text += line\n",
    "        score = calculate_score(current_text)\n",
    "        score_dict[current_obj] = score\n",
    "        \n",
    "    print(f\"{len(score_dict)} scores retrieved.\")\n",
    "    return score_dict\n",
    "\n",
    "mqm_file = \"qwenMQM_evaluation.txt\"\n",
    "mqm_scores = read_mqm_file(mqm_file)"
   ]
  },
  {
   "cell_type": "code",
   "execution_count": 6,
   "id": "dccc313d",
   "metadata": {},
   "outputs": [
    {
     "name": "stdout",
     "output_type": "stream",
     "text": [
      "Correlation between human scores and LLM-Accuracy:\n",
      "Pearson Correlation: 0.7131\n",
      "P-value: 2.320306921941283e-279\n",
      "\n",
      "Correlation between human scores and VQA-MQM:\n",
      "Pearson Correlation: 0.7128\n",
      "P-value: 5.182640156914712e-279\n"
     ]
    }
   ],
   "source": [
    "# Calculate Pearson Correlation\n",
    "from scipy.stats import pearsonr\n",
    "\n",
    "def calculate_pearson(dict1, dict2):\n",
    "    if len(dict1) != len(dict2):\n",
    "        print(f\"Different dictionary lengths: {len(dict1)}, {len(dict2)}.\")\n",
    "        raise ValueError(\"The dictionaries must have the same keys.\")\n",
    "    \n",
    "    for key in dict1.keys():\n",
    "        if key not in dict2:\n",
    "            print(f\"Key mismatch for {key}\")\n",
    "            raise ValueError(\"The dictionaries must have the same keys.\")\n",
    "        \n",
    "    common_keys = sorted(dict1.keys()) \n",
    "    scores1 = [dict1[key] for key in common_keys]\n",
    "    scores2 = [dict2[key] for key in common_keys]\n",
    "    \n",
    "    correlation, p_value = pearsonr(scores1, scores2)\n",
    "    print(f\"Pearson Correlation: {correlation:.4f}\")\n",
    "    print(f\"P-value: {p_value}\")\n",
    "    \n",
    "print(\"Correlation between human scores and LLM-Accuracy:\")\n",
    "calculate_pearson(human_scores_overall, llm_accuracy_scores)\n",
    "\n",
    "print(\"\\nCorrelation between human scores and VQA-MQM:\")\n",
    "calculate_pearson(human_scores_overall, mqm_scores)"
   ]
  },
  {
   "cell_type": "markdown",
   "id": "d530422c",
   "metadata": {},
   "source": [
    "### Distribution of human scores and LLM scores"
   ]
  },
  {
   "cell_type": "code",
   "execution_count": 7,
   "id": "44eb942e",
   "metadata": {},
   "outputs": [
    {
     "name": "stdout",
     "output_type": "stream",
     "text": [
      "Distribution for human scores:\n",
      "Score: 0 -> 516 / 1798 -> 0.29\n",
      "Score: 0.5 -> 239 / 1798 -> 0.13\n",
      "Score: 1 -> 1043 / 1798 -> 0.58\n",
      "\n",
      "Distribution for LLM-Accuracy scores:\n",
      "Score: 0 -> 418 / 1798 -> 0.23\n",
      "Score: 0.5 -> 679 / 1798 -> 0.38\n",
      "Score: 1 -> 701 / 1798 -> 0.39\n",
      "\n",
      "Distribution for VQA-MQM scores:\n",
      "Score: 0 -> 365 / 1798 -> 0.20\n",
      "Score: 0.25 -> 25 / 1798 -> 0.01\n",
      "Score: 0.5 -> 425 / 1798 -> 0.24\n",
      "Score: 0.75 -> 371 / 1798 -> 0.21\n",
      "Score: 1 -> 612 / 1798 -> 0.34\n"
     ]
    }
   ],
   "source": [
    "# Calculate percentage of scores:\n",
    "def calculate_score_distribution(data_dict, categories):\n",
    "    total_length = 0\n",
    "    score_distribution = {}\n",
    "    for c in categories:\n",
    "        score_distribution[c] = 0\n",
    "        \n",
    "    for object_id in data_dict:\n",
    "        score_distribution[data_dict[object_id]] += 1\n",
    "        total_length += 1\n",
    "        \n",
    "    for c in categories:\n",
    "        print(f\"Score: {c} -> {score_distribution[c]} / {total_length} -> {(score_distribution[c] / total_length):.2f}\")\n",
    "\n",
    "print(\"Distribution for human scores:\")\n",
    "calculate_score_distribution(human_scores_overall, [0, 0.5, 1])\n",
    "\n",
    "print(\"\\nDistribution for LLM-Accuracy scores:\")\n",
    "calculate_score_distribution(llm_accuracy_scores, [0, 0.5, 1])\n",
    "\n",
    "print(\"\\nDistribution for VQA-MQM scores:\")\n",
    "calculate_score_distribution(mqm_scores, [0, 0.25, 0.5, 0.75, 1])"
   ]
  },
  {
   "cell_type": "markdown",
   "id": "ff78e6aa",
   "metadata": {},
   "source": [
    "### Correlation between scores of different human workers"
   ]
  },
  {
   "cell_type": "code",
   "execution_count": 8,
   "id": "3a74402f",
   "metadata": {},
   "outputs": [
    {
     "name": "stdout",
     "output_type": "stream",
     "text": [
      "Average human total score:  0.6259\n",
      "Average human figure score: 0.6500\n",
      "Average human table score:  0.6118\n",
      "\n",
      "Correlation between scores of different human workers:\n",
      "Pearson Correlation: 0.8140\n",
      "P-value: 3.529107893734909e-33\n"
     ]
    }
   ],
   "source": [
    "human2_scores_file = \"qwen_human2_annotated.csv\"\n",
    "human2_scores_subset = process_scores(human2_scores_file, object_index=1, item_list=True)\n",
    "\n",
    "print(\"\\nCorrelation between scores of different human workers:\")\n",
    "calculate_pearson(human_scores_subset, human2_scores_subset)"
   ]
  },
  {
   "cell_type": "markdown",
   "id": "ab197b35",
   "metadata": {},
   "source": [
    "### Correlation between human scores and traditional metrics"
   ]
  },
  {
   "cell_type": "code",
   "execution_count": 9,
   "id": "15ec7fb5",
   "metadata": {},
   "outputs": [],
   "source": [
    "def read_metric_scores(file_path):\n",
    "    metric_dict = {}\n",
    "    output_expression = r\"^(.*): (\\d+\\.\\d+)%\"\n",
    "    \n",
    "    with open(file_path, \"r\") as metric_file:\n",
    "        for line in metric_file:\n",
    "            regex_matches = re.match(output_expression, line)\n",
    "            if regex_matches:\n",
    "                object_id, metric_score = regex_matches.group(1), float(regex_matches.group(2))\n",
    "                metric_score = metric_score / 100\n",
    "                metric_dict[object_id] = metric_score\n",
    "            else:\n",
    "                raise ValueError(f\"Error for line: {line}\")\n",
    "    \n",
    "    return metric_dict"
   ]
  },
  {
   "cell_type": "code",
   "execution_count": 10,
   "id": "dc22e7ee",
   "metadata": {},
   "outputs": [
    {
     "name": "stdout",
     "output_type": "stream",
     "text": [
      "\n",
      "Correlation between human scores and bleu scores:\n",
      "Pearson Correlation: 0.4413\n",
      "P-value: 1.384000158573103e-86\n",
      "\n",
      "Correlation between human scores and rouge scores:\n",
      "Pearson Correlation: 0.6265\n",
      "P-value: 1.3012031952210603e-196\n",
      "\n",
      "Correlation between human scores and meteor scores:\n",
      "Pearson Correlation: 0.4596\n",
      "P-value: 1.1224004235452366e-94\n",
      "\n",
      "Correlation between human scores and bertscores:\n",
      "Pearson Correlation: 0.4972\n",
      "P-value: 6.867061364694283e-113\n"
     ]
    }
   ],
   "source": [
    "bleu_scores = read_metric_scores(\"bleu.txt\")\n",
    "rouge_scores = read_metric_scores(\"rouge.txt\")\n",
    "meteor_scores = read_metric_scores(\"meteor.txt\")\n",
    "bert_scores = read_metric_scores(\"bertscore.txt\")\n",
    "\n",
    "print(\"\\nCorrelation between human scores and bleu scores:\")\n",
    "calculate_pearson(human_scores_overall, bleu_scores)\n",
    "\n",
    "print(\"\\nCorrelation between human scores and rouge scores:\")\n",
    "calculate_pearson(human_scores_overall, rouge_scores)\n",
    "\n",
    "print(\"\\nCorrelation between human scores and meteor scores:\")\n",
    "calculate_pearson(human_scores_overall, meteor_scores)\n",
    "\n",
    "print(\"\\nCorrelation between human scores and bertscores:\")\n",
    "calculate_pearson(human_scores_overall, bert_scores)"
   ]
  },
  {
   "cell_type": "markdown",
   "id": "5f5573e7",
   "metadata": {},
   "source": [
    "### Results when using GPT-4o for evaluation"
   ]
  },
  {
   "cell_type": "code",
   "execution_count": 11,
   "id": "6b49490e",
   "metadata": {},
   "outputs": [
    {
     "name": "stdout",
     "output_type": "stream",
     "text": [
      "Qwen Results with LLM-Accuracy GPT-4o Evaluation:\n",
      "==============================\n",
      "FIG    : 538.5 / 948   -> 56.80%\n",
      "TAB    : 556.0 / 850   -> 65.41%\n",
      "Total  : 1094.5 / 1798  -> 60.87%\n"
     ]
    }
   ],
   "source": [
    "# Process GPT-4 Evaluation LLM-Accuracy\n",
    "from collections import defaultdict\n",
    "\n",
    "gpt_accuracy_file = \"gpt_llm_acc_evaluation.txt\"\n",
    "regex_expresson = r\"\\d+\\.\\d+_(FIG|TAB)_\\d+: (0\\.5|1|0)\"\n",
    "\n",
    "count_dict = defaultdict(int)\n",
    "score_dict = defaultdict(int)\n",
    "\n",
    "with open(gpt_accuracy_file, \"r\", encoding=\"utf-8\") as eval_file:\n",
    "    for line in eval_file:\n",
    "        match = re.match(regex_expresson, line)\n",
    "        if match:\n",
    "            score_dict[match.group(1)] += float(match.group(2))\n",
    "            count_dict[match.group(1)] += 1\n",
    "        else:\n",
    "            raise ValueError\n",
    "            \n",
    "score_dict[\"Total\"] = score_dict[\"FIG\"] + score_dict[\"TAB\"]\n",
    "count_dict[\"Total\"] = count_dict[\"FIG\"] + count_dict[\"TAB\"]\n",
    "\n",
    "print(\"Qwen Results with LLM-Accuracy GPT-4o Evaluation:\")\n",
    "print(\"=\" * 30)\n",
    "for category in count_dict:\n",
    "    match_count = score_dict[category]\n",
    "    total_count = count_dict[category]\n",
    "    partion = match_count / total_count if total_count > 0 else 0\n",
    "    print(f\"{category:<7}: {match_count:<5} / {total_count:<5} -> {partion:.2%}\")"
   ]
  },
  {
   "cell_type": "code",
   "execution_count": 12,
   "id": "6f37d984",
   "metadata": {},
   "outputs": [
    {
     "name": "stdout",
     "output_type": "stream",
     "text": [
      "Qwen Results with VQA-MQM GPT-4o Evaluation:\n",
      "==============================\n",
      "FIG    : 419.0 / 948   -> 44.20%\n",
      "TAB    : 558.0 / 850   -> 65.65%\n",
      "Total  : 977.0 / 1798  -> 54.34%\n"
     ]
    }
   ],
   "source": [
    "# Process GPT-4 Evaluation LLM-Accuracy\n",
    "\n",
    "error_types = {\n",
    "    \"Critical Value Error\": \"All values given in the response are significantly different.\",\n",
    "    \"Critical Factual Error\": \"The response presents statements that are fundamentally different from the reference.\",\n",
    "    \"Major Completeness Error\": \"The response misses relevant information from the reference.\",\n",
    "    \"Major Value Error\": \"One of multiple values is significantly different, affecting correctness.\",\n",
    "    \"Major Factual Error\": \"The response presents statements that partially contradict the reference.\",\n",
    "    \"Minor Value Error\": \"A value in the response deviates slightly from the reference but remains within an acceptable range (less than 10% deviation).\",\n",
    "    \"Minor Factual Error\": \"The response presents statements that slightly deviate from the reference.\",\n",
    "    \"Minor Completeness Error\": \"The response misses little information from the reference.\"\n",
    "}\n",
    "\n",
    "def calculate_score(output):\n",
    "    current_score = 1.0\n",
    "    for e_type in error_types:\n",
    "        matches = len(re.findall(e_type, output))\n",
    "\n",
    "        if matches > 0:\n",
    "            if \"Critical\" in e_type:\n",
    "                return 0\n",
    "\n",
    "            penalty_value = 0.5 if \"Major\" in e_type else 0.25\n",
    "            current_score -= penalty_value * matches\n",
    "\n",
    "            if current_score <= 0:\n",
    "                return 0\n",
    "\n",
    "    return current_score\n",
    "\n",
    "gpt_mqm_file = \"gpt_mqm_evaluation.txt\"\n",
    "count_dict = defaultdict(int)\n",
    "score_dict = defaultdict(int)\n",
    "\n",
    "with open(gpt_mqm_file, \"r\", encoding=\"utf-8\") as eval_file:\n",
    "    current_type = None\n",
    "    current_text = \"\"\n",
    "    for line in eval_file:\n",
    "        if \"_TAB_\" in line and \"List of errors:\" not in line:\n",
    "            print(line)\n",
    "            print(current_text)\n",
    "        if \"List of errors:\" in line:\n",
    "            if current_type:\n",
    "                score = calculate_score(current_text)\n",
    "                score_dict[current_type] += score\n",
    "                count_dict[current_type] += 1\n",
    "            if \"TAB\" in line:\n",
    "                current_type = \"TAB\"\n",
    "            elif \"FIG\" in line:\n",
    "                current_type = \"FIG\"\n",
    "            else:\n",
    "                print(current_text)\n",
    "                raise ValueError\n",
    "            current_text = \"\"\n",
    "        else:\n",
    "            current_text += line\n",
    "    score = calculate_score(current_text)\n",
    "    score_dict[current_type] += score\n",
    "    count_dict[current_type] += 1\n",
    "            \n",
    "score_dict[\"Total\"] = score_dict[\"FIG\"] + score_dict[\"TAB\"]\n",
    "count_dict[\"Total\"] = count_dict[\"FIG\"] + count_dict[\"TAB\"]            \n",
    "            \n",
    "print(\"Qwen Results with VQA-MQM GPT-4o Evaluation:\")\n",
    "print(\"=\" * 30)\n",
    "for category in count_dict:\n",
    "    match_count = score_dict[category]\n",
    "    total_count = count_dict[category]\n",
    "    partion = match_count / total_count if total_count > 0 else 0\n",
    "    print(f\"{category:<7}: {match_count:<5} / {total_count:<5} -> {partion:.2%}\")"
   ]
  },
  {
   "cell_type": "markdown",
   "id": "9c26b8aa",
   "metadata": {},
   "source": [
    "### Correlation of metrics when used with different LLMs"
   ]
  },
  {
   "cell_type": "code",
   "execution_count": 13,
   "id": "a4ee0823",
   "metadata": {},
   "outputs": [
    {
     "name": "stdout",
     "output_type": "stream",
     "text": [
      "1798 scores retrieved.\n",
      "1798 scores retrieved.\n",
      "1798 scores retrieved.\n",
      "1798 scores retrieved.\n"
     ]
    }
   ],
   "source": [
    "qwen_llm_accuracy_file = \"qwen_LLM_Acc_evaluation.txt\"\n",
    "qwen_llm_scores = read_llm_acc_file(qwen_llm_accuracy_file)\n",
    "\n",
    "qwen_mqm_file = \"qwenMQM_evaluation.txt\"\n",
    "qwen_mqm_scores = read_mqm_file(qwen_mqm_file)\n",
    "\n",
    "gpt_llm_accuracy_file = \"gpt_llm_acc_evaluation.txt\"\n",
    "gpt_llm_scores = read_llm_acc_file(gpt_llm_accuracy_file, regex_expression=r\"^(.*): (0\\.5|0|1)\")\n",
    "\n",
    "gpt_mqm_file = \"gpt_mqm_evaluation.txt\"\n",
    "gpt_mqm_scores = read_mqm_file(gpt_mqm_file)"
   ]
  },
  {
   "cell_type": "code",
   "execution_count": 14,
   "id": "25369870",
   "metadata": {},
   "outputs": [
    {
     "name": "stdout",
     "output_type": "stream",
     "text": [
      "LLM-Accuracy correlation between scores of different LLMs:\n",
      "Pearson Correlation: 0.8522\n",
      "P-value: 0.0\n",
      "\n",
      "VQA-MQM correlation between scores of different LLMs:\n",
      "Pearson Correlation: 0.8560\n",
      "P-value: 0.0\n"
     ]
    }
   ],
   "source": [
    "print(\"LLM-Accuracy correlation between scores of different LLMs:\")\n",
    "calculate_pearson(qwen_llm_scores, gpt_llm_scores)\n",
    "\n",
    "print(\"\\nVQA-MQM correlation between scores of different LLMs:\")\n",
    "calculate_pearson(qwen_mqm_scores, gpt_mqm_scores)"
   ]
  },
  {
   "cell_type": "markdown",
   "id": "45f4e0ac",
   "metadata": {},
   "source": [
    "### Distribution differences"
   ]
  },
  {
   "cell_type": "code",
   "execution_count": 15,
   "id": "1b1ebbf1",
   "metadata": {},
   "outputs": [
    {
     "name": "stdout",
     "output_type": "stream",
     "text": [
      "Distribution of Qwen LLM-Acc scores:\n",
      "Score: 0 -> 418 / 1798 -> 0.23\n",
      "Score: 0.5 -> 679 / 1798 -> 0.38\n",
      "Score: 1 -> 701 / 1798 -> 0.39\n",
      "\n",
      "Distribution of GPT LLM-Accuracy scores:\n",
      "Score: 0 -> 509 / 1798 -> 0.28\n",
      "Score: 0.5 -> 389 / 1798 -> 0.22\n",
      "Score: 1 -> 900 / 1798 -> 0.50\n"
     ]
    }
   ],
   "source": [
    "print(\"Distribution of Qwen LLM-Acc scores:\")\n",
    "calculate_score_distribution(qwen_llm_scores, [0, 0.5, 1])\n",
    "\n",
    "print(\"\\nDistribution of GPT LLM-Accuracy scores:\")\n",
    "calculate_score_distribution(gpt_llm_scores, [0, 0.5, 1])"
   ]
  },
  {
   "cell_type": "code",
   "execution_count": 16,
   "id": "04a836dc",
   "metadata": {},
   "outputs": [
    {
     "name": "stdout",
     "output_type": "stream",
     "text": [
      "Distribution of Qwen VQA-MQM scores:\n",
      "Score: 0 -> 365 / 1798 -> 0.20\n",
      "Score: 0.25 -> 25 / 1798 -> 0.01\n",
      "Score: 0.5 -> 425 / 1798 -> 0.24\n",
      "Score: 0.75 -> 371 / 1798 -> 0.21\n",
      "Score: 1 -> 612 / 1798 -> 0.34\n",
      "\n",
      "Distribution of GPT VQA-MQM scores:\n",
      "Score: 0 -> 524 / 1798 -> 0.29\n",
      "Score: 0.25 -> 76 / 1798 -> 0.04\n",
      "Score: 0.5 -> 340 / 1798 -> 0.19\n",
      "Score: 0.75 -> 280 / 1798 -> 0.16\n",
      "Score: 1 -> 578 / 1798 -> 0.32\n"
     ]
    }
   ],
   "source": [
    "print(\"Distribution of Qwen VQA-MQM scores:\")\n",
    "calculate_score_distribution(qwen_mqm_scores, [0, 0.25, 0.5, 0.75, 1])\n",
    "\n",
    "print(\"\\nDistribution of GPT VQA-MQM scores:\")\n",
    "calculate_score_distribution(gpt_mqm_scores, [0, 0.25, 0.5, 0.75, 1])"
   ]
  },
  {
   "cell_type": "code",
   "execution_count": null,
   "id": "71d82d80",
   "metadata": {},
   "outputs": [],
   "source": []
  }
 ],
 "metadata": {
  "kernelspec": {
   "display_name": "Python 3 (ipykernel)",
   "language": "python",
   "name": "python3"
  },
  "language_info": {
   "codemirror_mode": {
    "name": "ipython",
    "version": 3
   },
   "file_extension": ".py",
   "mimetype": "text/x-python",
   "name": "python",
   "nbconvert_exporter": "python",
   "pygments_lexer": "ipython3",
   "version": "3.11.4"
  }
 },
 "nbformat": 4,
 "nbformat_minor": 5
}
