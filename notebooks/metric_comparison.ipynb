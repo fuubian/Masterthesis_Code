{
 "cells": [
  {
   "cell_type": "code",
   "execution_count": 1,
   "id": "f383acb2",
   "metadata": {},
   "outputs": [],
   "source": [
    "import os\n",
    "import csv\n",
    "import regex as re"
   ]
  },
  {
   "cell_type": "code",
   "execution_count": 2,
   "id": "0b2b176b",
   "metadata": {},
   "outputs": [],
   "source": [
    "# File paths\n",
    "original_answer_file = \"qwen_responses_task1.csv\"\n",
    "human_annotated_file = \"qwen_annotated.csv\"\n",
    "subset_annotated_file = \"subset_evaluation.csv\"\n",
    "llm_accuracy_file = \"qwen_LLM_Acc_evaluation.txt\"\n",
    "mqm_file = \"qwenMQM_evaluation.txt\"\n",
    "evaluation_item_list = \"human_evaluation_id.txt\""
   ]
  },
  {
   "cell_type": "code",
   "execution_count": 7,
   "id": "16007fda",
   "metadata": {},
   "outputs": [
    {
     "name": "stdout",
     "output_type": "stream",
     "text": [
      "Overall human evaluation:\n",
      "Average human total score:  0.6466\n",
      "Average human figure score: 0.6013\n",
      "Average human table score:  0.6971\n",
      "\n",
      "Subset human evaluation:\n",
      "Average human total score:  0.7037\n",
      "Average human figure score: 0.6700\n",
      "Average human table score:  0.7235\n"
     ]
    }
   ],
   "source": [
    "# Read scores and print average accuracy\n",
    "human_scores = {}\n",
    "def process_scores(item_list = False):\n",
    "    h_scores =  {}\n",
    "    figure_score = 0\n",
    "    table_score = 0\n",
    "    total_score = 0\n",
    "    total_figures = 0\n",
    "    total_tables = 0\n",
    "    \n",
    "    item_set = set()\n",
    "    if item_list:\n",
    "        with open(evaluation_item_list, \"r\", encoding=\"utf_8\") as txt_file:\n",
    "            for line in txt_file:\n",
    "                item_set.add(line.replace(\"\\n\", \"\"))\n",
    "\n",
    "    with open(human_annotated_file, \"r\", encoding=\"utf-8\") as csv_file:\n",
    "        csv_reader = csv.reader(csv_file, delimiter=';', quotechar='|', quoting=csv.QUOTE_MINIMAL)\n",
    "\n",
    "        for row in csv_reader:\n",
    "            object_id = row[0]\n",
    "            \n",
    "            if item_list and object_id not in item_set:\n",
    "                continue\n",
    "            \n",
    "            try:\n",
    "                score = float(row[-1])\n",
    "            except Exception:\n",
    "                print(row)\n",
    "                raise ValueError()\n",
    "\n",
    "            if \"TAB\" in object_id:\n",
    "                table_score += score\n",
    "                total_tables += 1\n",
    "            elif \"FIG\" in object_id:\n",
    "                figure_score += score\n",
    "                total_figures += 1\n",
    "\n",
    "            h_scores[object_id] = score\n",
    "\n",
    "    print(f\"Average human total score:  {((figure_score + table_score) / (total_figures + total_tables)):.4f}\")\n",
    "    print(f\"Average human figure score: {(figure_score / total_figures):.4f}\")\n",
    "    print(f\"Average human table score:  {(table_score / total_tables):.4f}\")\n",
    "    \n",
    "    return h_scores\n",
    "\n",
    "print(\"Overall human evaluation:\")\n",
    "human_scores_overall = process_scores(item_list=False)\n",
    "\n",
    "print(\"\\nSubset human evaluation:\")\n",
    "human_scores_subset = process_scores(item_list=True)"
   ]
  },
  {
   "cell_type": "code",
   "execution_count": 8,
   "id": "75db0924",
   "metadata": {},
   "outputs": [
    {
     "name": "stdout",
     "output_type": "stream",
     "text": [
      "1798 scores retrieved.\n"
     ]
    }
   ],
   "source": [
    "# Obtain LLM-Acc Scores\n",
    "def processOutput(output):\n",
    "    regex_matches = re.match(r\"^(.*): Score: (0\\.5|0|1)\", output)\n",
    "    if regex_matches:\n",
    "        return regex_matches.group(1), float(regex_matches.group(2))\n",
    "    \n",
    "    output = output.split(\":\")\n",
    "    if len(output) > 1 and (\"FIG\" in output[0] or \"TAB\" in output[0]):\n",
    "        return output[0], 0\n",
    "    \n",
    "    return None, None\n",
    "\n",
    "llm_accuracy_scores = {}\n",
    "\n",
    "with open(llm_accuracy_file, \"r\", encoding=\"utf-8\") as input_file:\n",
    "    for line in input_file:\n",
    "        object_id, score = processOutput(line)\n",
    "        if object_id:\n",
    "            llm_accuracy_scores[object_id] = score\n",
    "            \n",
    "print(f\"{len(llm_accuracy_scores)} scores retrieved.\")"
   ]
  },
  {
   "cell_type": "code",
   "execution_count": 9,
   "id": "dccc313d",
   "metadata": {},
   "outputs": [
    {
     "name": "stdout",
     "output_type": "stream",
     "text": [
      "Pearson Correlation: 0.6973\n",
      "P-value: 4.754039201337712e-262\n"
     ]
    }
   ],
   "source": [
    "# Calculate Pearson Correlation\n",
    "from scipy.stats import pearsonr\n",
    "\n",
    "def calculate_pearson(dict1, dict2):\n",
    "    if dict1.keys() != dict2.keys():\n",
    "        print(f\"{len(dict1)}, {len(dict2)}\")\n",
    "        raise ValueError(\"The dictionaries must have the same keys.\")\n",
    "        \n",
    "    scores1 = [dict1[key] for key in dict1]\n",
    "    scores2 = [dict2[key] for key in dict2]\n",
    "    \n",
    "    correlation, p_value = pearsonr(scores1, scores2)\n",
    "    print(f\"Pearson Correlation: {correlation:.4f}\")\n",
    "    print(f\"P-value: {p_value}\")\n",
    "    \n",
    "calculate_pearson(human_scores_overall, llm_accuracy_scores)"
   ]
  },
  {
   "cell_type": "code",
   "execution_count": 10,
   "id": "44eb942e",
   "metadata": {},
   "outputs": [
    {
     "name": "stdout",
     "output_type": "stream",
     "text": [
      "Distribution for human scores:\n",
      "Score: 0 -> 516 / 1798 -> 0.29\n",
      "Score: 0.5 -> 239 / 1798 -> 0.13\n",
      "Score: 1 -> 1043 / 1798 -> 0.58\n",
      "\n",
      "Distribution for LLM-Accuracy scores:\n",
      "Score: 0 -> 562 / 1798 -> 0.31\n",
      "Score: 0.5 -> 499 / 1798 -> 0.28\n",
      "Score: 1 -> 737 / 1798 -> 0.41\n"
     ]
    }
   ],
   "source": [
    "# Calculate percentage of scores:\n",
    "def calculate_score_distribution(data_dict, categories):\n",
    "    total_length = 0\n",
    "    score_distribution = {}\n",
    "    for c in categories:\n",
    "        score_distribution[c] = 0\n",
    "        \n",
    "    for object_id in data_dict:\n",
    "        score_distribution[data_dict[object_id]] += 1\n",
    "        total_length += 1\n",
    "        \n",
    "    for c in categories:\n",
    "        print(f\"Score: {c} -> {score_distribution[c]} / {total_length} -> {(score_distribution[c] / total_length):.2f}\")\n",
    "\n",
    "print(\"Distribution for human scores:\")\n",
    "calculate_score_distribution(human_scores_overall, [0, 0.5, 1])\n",
    "\n",
    "print(\"\\nDistribution for LLM-Accuracy scores:\")\n",
    "calculate_score_distribution(llm_accuracy_scores, [0, 0.5, 1])"
   ]
  },
  {
   "cell_type": "code",
   "execution_count": 17,
   "id": "340be3f8",
   "metadata": {},
   "outputs": [
    {
     "name": "stdout",
     "output_type": "stream",
     "text": [
      "Results for qwen:\n",
      "#########################\n",
      "Average total score:  0.6963\n",
      "Average figure score: 0.6800\n",
      "Average table score:  0.7059\n",
      "\n",
      "Results for glm:\n",
      "#########################\n",
      "Average total score:  0.5444\n",
      "Average figure score: 0.4700\n",
      "Average table score:  0.5882\n",
      "\n",
      "Results for minicpm:\n",
      "#########################\n",
      "Average total score:  0.5593\n",
      "Average figure score: 0.5600\n",
      "Average table score:  0.5588\n",
      "\n",
      "Results for llava:\n",
      "#########################\n",
      "Average total score:  0.4519\n",
      "Average figure score: 0.4700\n",
      "Average table score:  0.4412\n",
      "\n",
      "Results for internvl:\n",
      "#########################\n",
      "Average total score:  0.6370\n",
      "Average figure score: 0.5600\n",
      "Average table score:  0.6824\n",
      "\n",
      "Results for gpt4:\n",
      "#########################\n",
      "Average total score:  0.6852\n",
      "Average figure score: 0.7000\n",
      "Average table score:  0.6765\n",
      "\n",
      "Results for paligemma:\n",
      "#########################\n",
      "Average total score:  0.4333\n",
      "Average figure score: 0.4300\n",
      "Average table score:  0.4353\n",
      "\n",
      "Results for ovis:\n",
      "#########################\n",
      "Average total score:  0.6074\n",
      "Average figure score: 0.6400\n",
      "Average table score:  0.5882\n",
      "\n",
      "Results for instructblip:\n",
      "#########################\n",
      "Average total score:  0.2333\n",
      "Average figure score: 0.3100\n",
      "Average table score:  0.1882\n",
      "\n"
     ]
    }
   ],
   "source": [
    "def process_scores_category(category_name):\n",
    "    figure_score = 0\n",
    "    table_score = 0\n",
    "    total_score = 0\n",
    "    total_figures = 0\n",
    "    total_tables = 0\n",
    "    \n",
    "    with open(subset_annotated_file, \"r\") as csv_file:\n",
    "        csv_reader = csv.reader(csv_file, delimiter=';', quotechar='|', quoting=csv.QUOTE_MINIMAL)\n",
    "        \n",
    "        for row in csv_reader:\n",
    "            if row[0] == category_name:\n",
    "                try:\n",
    "                    score = float(row[-1])\n",
    "                except Exception:\n",
    "                    print(row)\n",
    "                    raise ValueError()\n",
    "\n",
    "                object_id = row[1]\n",
    "                if \"TAB\" in object_id:\n",
    "                    table_score += score\n",
    "                    total_tables += 1\n",
    "                elif \"FIG\" in object_id:\n",
    "                    figure_score += score\n",
    "                    total_figures += 1\n",
    "\n",
    "        print(f\"Average total score:  {((figure_score + table_score) / (total_figures + total_tables)):.4f}\")\n",
    "        print(f\"Average figure score: {(figure_score / total_figures):.4f}\")\n",
    "        print(f\"Average table score:  {(table_score / total_tables):.4f}\")\n",
    "        \n",
    "def get_average_scores_complete():\n",
    "    categories = set()\n",
    "    with open(subset_annotated_file, \"r\") as csv_file:\n",
    "        csv_reader = csv.reader(csv_file, delimiter=';', quotechar='|', quoting=csv.QUOTE_MINIMAL)\n",
    "        \n",
    "        for row in csv_reader:\n",
    "            categories.add(row[0])\n",
    "            \n",
    "    for cat in categories:\n",
    "        print(f\"Results for {cat}:\")\n",
    "        print(\"#########################\")\n",
    "        process_scores_category(cat)\n",
    "        print()\n",
    "        \n",
    "get_average_scores_complete()"
   ]
  },
  {
   "cell_type": "code",
   "execution_count": null,
   "id": "6b49490e",
   "metadata": {},
   "outputs": [],
   "source": []
  }
 ],
 "metadata": {
  "kernelspec": {
   "display_name": "Python 3 (ipykernel)",
   "language": "python",
   "name": "python3"
  },
  "language_info": {
   "codemirror_mode": {
    "name": "ipython",
    "version": 3
   },
   "file_extension": ".py",
   "mimetype": "text/x-python",
   "name": "python",
   "nbconvert_exporter": "python",
   "pygments_lexer": "ipython3",
   "version": "3.11.4"
  }
 },
 "nbformat": 4,
 "nbformat_minor": 5
}
